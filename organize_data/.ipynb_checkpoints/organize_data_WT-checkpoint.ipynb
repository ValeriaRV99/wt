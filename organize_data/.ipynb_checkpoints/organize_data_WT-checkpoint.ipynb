{
 "cells": [
  {
   "cell_type": "code",
   "execution_count": 1,
   "metadata": {},
   "outputs": [
    {
     "name": "stderr",
     "output_type": "stream",
     "text": [
      "/Library/Frameworks/Python.framework/Versions/3.11/lib/python3.11/site-packages/ase/lattice/spacegroup.py:5: UserWarning: Moved to ase.spacegroup\n",
      "  warnings.warn('Moved to ase.spacegroup')\n"
     ]
    }
   ],
   "source": [
    "import numpy as np\n",
    "from matplotlib import pyplot as plt\n",
    "\n",
    "from ase.build import bulk\n",
    "from ase.io.trajectory import Trajectory\n",
    "from ase.io import read\n",
    "from ase.lattice.spacegroup import Spacegroup\n",
    "from ase.lattice.spacegroup import crystal\n",
    "\n",
    "from scipy.optimize import minimize\n",
    "from sklearn.model_selection import train_test_split \n",
    "from sklearn.kernel_ridge import KernelRidge #as modelKR\n",
    "from dscribe.descriptors import CoulombMatrix, SineMatrix, EwaldSumMatrix, SOAP\n",
    "from ase import Atoms\n"
   ]
  },
  {
   "cell_type": "code",
   "execution_count": 2,
   "metadata": {},
   "outputs": [],
   "source": [
    "import ase\n",
    "traj_rand4 = []\n",
    "traj_rand8 = []\n",
    "Sine_matrices = []\n",
    "Sine_gradient = []\n",
    "for i in np.arange(120, 200, 10):\n",
    "    if i==0:\n",
    "        i=1\n",
    "    if i==160 or i==170 or i==180:\n",
    "        continue\n",
    "    ions_4 = ase.io.read('/Users/valeria/Documents/aiWT/Model_ML_function/training_set_data/ks_calculations/random_training/DATA2/si_'+str(i)+'_4.in')\n",
    "    ions_8 = ase.io.read('/Users/valeria/Documents/aiWT/Model_ML_function/training_set_data/ks_calculations/random_training/DATA2/si_'+str(i)+'_8.in')\n",
    "    phases = [ions_4, ions_8]\n",
    "    sm = SineMatrix(n_atoms_max=65, sparse=False)\n",
    "    sine_matrices = sm.create(phases, n_jobs=2)\n",
    "    sine_gradient = np.gradient(sine_matrices)\n",
    "    Sine_matrices.append(sine_matrices)\n",
    "    Sine_gradient.append(sine_gradient)"
   ]
  },
  {
   "cell_type": "code",
   "execution_count": 3,
   "metadata": {},
   "outputs": [
    {
     "data": {
      "text/plain": [
       "(5, 2, 4225)"
      ]
     },
     "execution_count": 3,
     "metadata": {},
     "output_type": "execute_result"
    }
   ],
   "source": [
    "np.array(Sine_matrices).shape"
   ]
  },
  {
   "cell_type": "code",
   "execution_count": 4,
   "metadata": {},
   "outputs": [],
   "source": [
    "rho0_rand4 = np.load(\"/Users/valeria/Documents/aiWT/Model_ML_function/training_set_data/ks_calculations/random_training/DATA2/rho0_4.npy\")\n",
    "rho0_rand8 = np.load(\"/Users/valeria/Documents/aiWT/Model_ML_function/training_set_data/ks_calculations/random_training/DATA2/rho0_8.npy\")\n",
    "rho0_4 = np.zeros(len(rho0_rand4))\n",
    "rho0_8 = np.zeros(len(rho0_rand4))\n",
    "for i in range(len(rho0_rand4)):\n",
    "    rho0_4[i]=rho0_rand4[i]\n",
    "    rho0_8[i]=rho0_rand8[i]\n",
    "# np.array(rho0_rand4.T)"
   ]
  },
  {
   "cell_type": "code",
   "execution_count": null,
   "metadata": {},
   "outputs": [],
   "source": [
    "sine_rand4 = np.asrray(Sine_matrices)"
   ]
  },
  {
   "cell_type": "code",
   "execution_count": 42,
   "metadata": {},
   "outputs": [
    {
     "data": {
      "text/plain": [
       "(5, 4225)"
      ]
     },
     "execution_count": 42,
     "metadata": {},
     "output_type": "execute_result"
    }
   ],
   "source": [
    "np.asarray(Sine_matrices)[:5,0].shape"
   ]
  },
  {
   "cell_type": "code",
   "execution_count": 44,
   "metadata": {},
   "outputs": [
    {
     "data": {
      "text/plain": [
       "(30, 4225)"
      ]
     },
     "execution_count": 44,
     "metadata": {},
     "output_type": "execute_result"
    }
   ],
   "source": [
    "np.asarray(sine_matrices)[:30,0].shape"
   ]
  },
  {
   "cell_type": "code",
   "execution_count": 5,
   "metadata": {},
   "outputs": [],
   "source": [
    "# Data with phases Btin, fcc, bcc, 8cd, dhcp (sd) matrix of 65x65\n",
    "rho0_Btin = np.load(\"/Users/valeria/Documents/aiWT/Model_ML_function/training_set_data/ks_calculations/Si_Btin/DATA2/rho0.npy\") #\n",
    "rho0_fcc = np.load(\"/Users/valeria/Documents/aiWT/Model_ML_function/training_set_data/ks_calculations/Si_fcc/DATA2/rho0.npy\") #\n",
    "rho0_bcc = np.load(\"/Users/valeria/Documents/aiWT/Model_ML_function/training_set_data/ks_calculations/Si_bcc/DATA2/rho0.npy\") #\n",
    "rho0_8cd = np.load(\"/Users/valeria/Documents/aiWT/Model_ML_function/training_set_data/ks_calculations/Si_8cd/DATA2/rho0.npy\")\n",
    "rho0_dhcp = np.load(\"/Users/valeria/Documents/aiWT/Model_ML_function/training_set_data/ks_calculations/Si_dhcp/DATA2/rho0.npy\")\n",
    "rho0_Btin_hd = np.load(\"/Users/valeria/Documents/aiWT/Model_ML_function/training_set_data/ks_calculations/Transition_Btin_HD/DATA2/rho0.npy\")\n",
    "\n",
    "rho0 = np.hstack((rho0_Btin, rho0_fcc, rho0_bcc, rho0_8cd.reshape(30), rho0_dhcp.reshape(30), rho0_Btin_hd.reshape(30), rho0_4, rho0_8))\n",
    "# rho0 = np.hstack((rho0_1, rho0_rand4, rho0_rand8))\n",
    "sine_matrices = np.load('/Users/valeria/Documents/aiWT/Model_ML_function/training_set_data/descriptors/SM_Btin_fcc_bcc_8cd_dhcp_Btin-hd_65.npy')\n",
    "sine_Btin = np.asarray(sine_matrices)[:30,0]\n",
    "sine_fcc = np.asarray(sine_matrices)[:30,1]\n",
    "sine_bcc = np.asarray(sine_matrices)[:30,2]\n",
    "sine_8cd = np.asarray(sine_matrices)[:30,3]\n",
    "sine_dhcp = np.asarray(sine_matrices)[:30,4]\n",
    "sine_Btin_hd = np.asarray(sine_matrices)[:30,5]\n",
    "sine_rand4 = np.asarray(Sine_matrices)[:5,0]\n",
    "sine_rand8 = np.asarray(Sine_matrices)[:5,1]\n",
    "Matrix = np.vstack((sine_Btin, sine_fcc, sine_bcc, sine_8cd, sine_dhcp, sine_Btin_hd, sine_rand4, sine_rand8)) #, sine_li))\n",
    "\n",
    "X_ref = Matrix.reshape(190,65,65)\n",
    "y_ref = np.asarray(rho0)\n",
    "\n"
   ]
  },
  {
   "cell_type": "code",
   "execution_count": 6,
   "metadata": {},
   "outputs": [
    {
     "data": {
      "text/plain": [
       "<bound method File.close of <HDF5 file \"data.hdf5\" (mode r+)>>"
      ]
     },
     "execution_count": 6,
     "metadata": {},
     "output_type": "execute_result"
    }
   ],
   "source": [
    "rh0 = []\n",
    "for j, r0 in enumerate(y_ref):\n",
    "        rho0_matrix = np.zeros((len(X_ref[1])*len(X_ref[1])))\n",
    "        rho0_matrix[0] = r0\n",
    "        rh0.append(rho0_matrix)\n",
    "X = X_ref.reshape(-1, len(X_ref[1])*len(X_ref[1]))\n",
    "y = np.asarray(rh0)\n",
    "y.shape\n",
    "import h5py\n",
    "f = h5py.File('data.hdf5','w')\n",
    "f.create_dataset(\"Descriptor\", shape=(190, 4225), data=X)\n",
    "f.create_dataset(\"rho0\", shape=(190, 4225), data=y)\n",
    "f.close"
   ]
  },
  {
   "cell_type": "code",
   "execution_count": 8,
   "metadata": {},
   "outputs": [
    {
     "data": {
      "text/plain": [
       "<bound method File.close of <HDF5 file \"data.hdf5\" (mode r+)>>"
      ]
     },
     "execution_count": 8,
     "metadata": {},
     "output_type": "execute_result"
    }
   ],
   "source": [
    "file = h5py.File(\"./data.hdf5\", \"r\")\n",
    "file.close\n",
    "# import h5py\n",
    "# file = h5py.File(\"/home/vale/Documents/DFTPY/aiWT/Phases/organize_data/data.hdf5\", \"r\")\n",
    "# np.array(file['Descriptor'][:]).shape\n",
    "# file.close\n"
   ]
  },
  {
   "cell_type": "code",
   "execution_count": 9,
   "metadata": {},
   "outputs": [
    {
     "data": {
      "text/plain": [
       "(190, 4225)"
      ]
     },
     "execution_count": 9,
     "metadata": {},
     "output_type": "execute_result"
    }
   ],
   "source": [
    "np.array(file['Descriptor'][:]).shape"
   ]
  },
  {
   "cell_type": "code",
   "execution_count": null,
   "metadata": {},
   "outputs": [],
   "source": [
    "np.save('SM_Btin_fcc_bcc_8cd_dhcp_Btin-hd_65', X)\n",
    "np.save('rho0_Btin_fcc_bcc_8cd_dhcp_Btin-hd_65', y)\n"
   ]
  },
  {
   "cell_type": "code",
   "execution_count": null,
   "metadata": {},
   "outputs": [],
   "source": [
    "yy = y[120:150]\n",
    "ro0 = []\n",
    "for j, r0 in enumerate(np.linspace(0,8, 30)):\n",
    "    rr00 = yy[j][0]\n",
    "    ro0.append(rr00)\n",
    "y[2][0]\n",
    "plt.plot(np.linspace(0,8, 30), np.asarray(rho0_dhcp.reshape(30)))\n",
    "plt.plot(np.linspace(0,8, 30), np.asarray(ro0))\n"
   ]
  },
  {
   "cell_type": "code",
   "execution_count": null,
   "metadata": {},
   "outputs": [],
   "source": [
    "\n",
    "np.save('structure_big_dhcp', X)\n",
    "np.save('rho0_big_dhcp', y)"
   ]
  }
 ],
 "metadata": {
  "kernelspec": {
   "display_name": "Python 3 (ipykernel)",
   "language": "python",
   "name": "python3"
  },
  "language_info": {
   "codemirror_mode": {
    "name": "ipython",
    "version": 3
   },
   "file_extension": ".py",
   "mimetype": "text/x-python",
   "name": "python",
   "nbconvert_exporter": "python",
   "pygments_lexer": "ipython3",
   "version": "3.11.5"
  }
 },
 "nbformat": 4,
 "nbformat_minor": 4
}
