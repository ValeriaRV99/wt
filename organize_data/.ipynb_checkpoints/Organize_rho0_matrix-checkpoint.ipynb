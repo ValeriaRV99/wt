{
 "cells": [
  {
   "cell_type": "code",
   "execution_count": 1,
   "id": "47346b41",
   "metadata": {
    "scrolled": true
   },
   "outputs": [
    {
     "name": "stderr",
     "output_type": "stream",
     "text": [
      "/home/valeria/miniconda3/envs/ai_kedf/lib/python3.11/site-packages/ase/lattice/spacegroup.py:5: UserWarning: Moved to ase.spacegroup\n",
      "  warnings.warn('Moved to ase.spacegroup')\n"
     ]
    }
   ],
   "source": [
    "import numpy as np\n",
    "from matplotlib import pyplot as plt\n",
    "\n",
    "from ase.build import bulk\n",
    "from ase.io.trajectory import Trajectory\n",
    "from ase.io import read\n",
    "from ase.lattice.spacegroup import Spacegroup\n",
    "from ase.lattice.spacegroup import crystal\n",
    "\n",
    "from scipy.optimize import minimize\n",
    "from sklearn.model_selection import train_test_split \n",
    "from sklearn.kernel_ridge import KernelRidge #as modelKR\n",
    "from dscribe.descriptors import CoulombMatrix, SineMatrix, EwaldSumMatrix, SOAP\n",
    "from ase import Atoms"
   ]
  },
  {
   "cell_type": "code",
   "execution_count": 2,
   "id": "ebe3aa05",
   "metadata": {
    "scrolled": true
   },
   "outputs": [
    {
     "ename": "FileNotFoundError",
     "evalue": "[Errno 2] No such file or directory: '/home/valeria/Documents/DFTPY/cWT-KEDF/Phases/cWT-KEDF/Phases/Model_ML_function/training_set_data/ks_calculations/Si_Btin/DATA2/rho0.npy'",
     "output_type": "error",
     "traceback": [
      "\u001b[0;31m---------------------------------------------------------------------------\u001b[0m",
      "\u001b[0;31mFileNotFoundError\u001b[0m                         Traceback (most recent call last)",
      "Cell \u001b[0;32mIn[2], line 1\u001b[0m\n\u001b[0;32m----> 1\u001b[0m rho0_Btin \u001b[38;5;241m=\u001b[39m \u001b[43mnp\u001b[49m\u001b[38;5;241;43m.\u001b[39;49m\u001b[43mload\u001b[49m\u001b[43m(\u001b[49m\u001b[38;5;124;43m\"\u001b[39;49m\u001b[38;5;124;43m/home/valeria/Documents/DFTPY/cWT-KEDF/Phases/cWT-KEDF/Phases/Model_ML_function/training_set_data/ks_calculations/Si_Btin/DATA2/rho0.npy\u001b[39;49m\u001b[38;5;124;43m\"\u001b[39;49m\u001b[43m)\u001b[49m \u001b[38;5;66;03m#\u001b[39;00m\n\u001b[1;32m      2\u001b[0m rho0_fcc \u001b[38;5;241m=\u001b[39m np\u001b[38;5;241m.\u001b[39mload(\u001b[38;5;124m\"\u001b[39m\u001b[38;5;124m/home/valeria/Documents/DFTPY/cWT-KEDF/Phases/cWT-KEDF/Phases/Model_ML_function/training_set_data/ks_calculations/Si_fcc/DATA2/rho0.npy\u001b[39m\u001b[38;5;124m\"\u001b[39m) \u001b[38;5;66;03m#\u001b[39;00m\n\u001b[1;32m      3\u001b[0m rho0_bcc \u001b[38;5;241m=\u001b[39m np\u001b[38;5;241m.\u001b[39mload(\u001b[38;5;124m\"\u001b[39m\u001b[38;5;124m/home/valeria/Documents/DFTPY/cWT-KEDF/Phases/cWT-KEDF/Phases/Model_ML_function/training_set_data/ks_calculations/Si_bcc/DATA2/rho0.npy\u001b[39m\u001b[38;5;124m\"\u001b[39m) \u001b[38;5;66;03m#\u001b[39;00m\n",
      "File \u001b[0;32m~/miniconda3/envs/ai_kedf/lib/python3.11/site-packages/numpy/lib/npyio.py:405\u001b[0m, in \u001b[0;36mload\u001b[0;34m(file, mmap_mode, allow_pickle, fix_imports, encoding, max_header_size)\u001b[0m\n\u001b[1;32m    403\u001b[0m     own_fid \u001b[38;5;241m=\u001b[39m \u001b[38;5;28;01mFalse\u001b[39;00m\n\u001b[1;32m    404\u001b[0m \u001b[38;5;28;01melse\u001b[39;00m:\n\u001b[0;32m--> 405\u001b[0m     fid \u001b[38;5;241m=\u001b[39m stack\u001b[38;5;241m.\u001b[39menter_context(\u001b[38;5;28;43mopen\u001b[39;49m\u001b[43m(\u001b[49m\u001b[43mos_fspath\u001b[49m\u001b[43m(\u001b[49m\u001b[43mfile\u001b[49m\u001b[43m)\u001b[49m\u001b[43m,\u001b[49m\u001b[43m \u001b[49m\u001b[38;5;124;43m\"\u001b[39;49m\u001b[38;5;124;43mrb\u001b[39;49m\u001b[38;5;124;43m\"\u001b[39;49m\u001b[43m)\u001b[49m)\n\u001b[1;32m    406\u001b[0m     own_fid \u001b[38;5;241m=\u001b[39m \u001b[38;5;28;01mTrue\u001b[39;00m\n\u001b[1;32m    408\u001b[0m \u001b[38;5;66;03m# Code to distinguish from NumPy binary files and pickles.\u001b[39;00m\n",
      "\u001b[0;31mFileNotFoundError\u001b[0m: [Errno 2] No such file or directory: '/home/valeria/Documents/DFTPY/cWT-KEDF/Phases/cWT-KEDF/Phases/Model_ML_function/training_set_data/ks_calculations/Si_Btin/DATA2/rho0.npy'"
     ]
    }
   ],
   "source": [
    "rho0_Btin = np.load(\"/home/valeria/Documents/DFTPY/cWT-KEDF/Phases/cWT-KEDF/Phases/Model_ML_function/training_set_data/ks_calculations/Si_Btin/DATA2/rho0.npy\") #\n",
    "rho0_fcc = np.load(\"/home/valeria/Documents/DFTPY/cWT-KEDF/Phases/cWT-KEDF/Phases/Model_ML_function/training_set_data/ks_calculations/Si_fcc/DATA2/rho0.npy\") #\n",
    "rho0_bcc = np.load(\"/home/valeria/Documents/DFTPY/cWT-KEDF/Phases/cWT-KEDF/Phases/Model_ML_function/training_set_data/ks_calculations/Si_bcc/DATA2/rho0.npy\") #\n",
    "rho0_8cd = np.load(\"/home/valeria/Documents/DFTPY/cWT-KEDF/Phases/cWT-KEDF/Phases/Model_ML_function/training_set_data/ks_calculations/Si_8cd/DATA2/rho0.npy\")\n",
    "rho0_7cd = np.load(\"/home/valeria/Documents/DFTPY/cWT-KEDF/Phases/cWT-KEDF/Phases/Model_ML_function/training_set_data/ks_calculations/Si_7cd/DATA2/rho0.npy\")\n",
    "rho0_bct5 = np.load(\"/home/valeria/Documents/DFTPY/cWT-KEDF/Phases/cWT-KEDF/Phases/Model_ML_function/training_set_data/ks_calculations/Si_bct5/DATA2/rho0.npy\")\n",
    "rho0_li = np.load(\"/home/valeria/Documents/DFTPY/cWT-KEDF/Phases/cWT-KEDF/Phases/Model_ML_function/training_set_data/ks_calculations/Li/DATA2/rho0.npy\")\n",
    "rho0 = np.hstack((rho0_Btin, rho0_fcc, rho0_bcc, rho0_8cd.reshape(30), rho0_7cd.reshape(30), rho0_bct5.reshape(30), rho0_li.reshape(30)))\n",
    "\n",
    "Sine_matrices = np.load('/home/valeria/Documents/DFTPY/cWT-KEDF/Phases/cWT-KEDF/Phases/Model_ML_function/training_set_data/ks_calculations/Sine_matrices_big_phases.npy')\n",
    "sine_Btin = np.asarray(Sine_matrices)[:30,0]\n",
    "sine_fcc = np.asarray(Sine_matrices)[:30,1]\n",
    "sine_bcc = np.asarray(Sine_matrices)[:30,2]\n",
    "sine_8cd = np.asarray(Sine_matrices)[:30,3]\n",
    "sine_7cd = np.asarray(Sine_matrices)[:30,4]\n",
    "sine_bct5 = np.asarray(Sine_matrices)[:30,5]\n",
    "sine_li = np.asarray(Sine_matrices)[:30,6]\n",
    "Matrix = np.vstack((sine_Btin, sine_fcc, sine_bcc, sine_8cd, sine_7cd, sine_bct5, sine_li))\n",
    "\n",
    "X_ref = Matrix.reshape(210,16,16)\n",
    "y_ref = np.asarray(rho0)\n",
    "\n",
    "rh0 = []\n",
    "for j, r0 in enumerate(y_ref):\n",
    "        rho0_matrix = np.zeros((len(X_ref[1])*len(X_ref[1])))\n",
    "        rho0_matrix[0] = r0\n",
    "        rh0.append(rho0_matrix)\n",
    "X = X_ref.reshape(-1, len(X_ref[1])*len(X_ref[1]))\n",
    "y = np.asarray(rh0)\n"
   ]
  },
  {
   "cell_type": "code",
   "execution_count": null,
   "id": "a994c468-60e5-4c32-aa73-b21c6d2bc062",
   "metadata": {},
   "outputs": [],
   "source": []
  },
  {
   "cell_type": "code",
   "execution_count": 7,
   "id": "f0aa9e25",
   "metadata": {},
   "outputs": [],
   "source": [
    "np.save('structure_big_phases', X)\n",
    "np.save('rho0_big_phases', y)"
   ]
  },
  {
   "cell_type": "code",
   "execution_count": 10,
   "id": "bb561eac",
   "metadata": {},
   "outputs": [],
   "source": [
    "np.save('structure', X)\n",
    "np.save('rho0', y)"
   ]
  },
  {
   "cell_type": "code",
   "execution_count": 12,
   "id": "1bcd7f48",
   "metadata": {},
   "outputs": [],
   "source": [
    "#### Data without fcc\n",
    "rho0_Btin = np.load(\"/home/valeria/Documents/DFTPY/cWT-KEDF/Phases/cWT-KEDF/Phases/Model_ML_function/training_set_data/ks_calculations/Si_Btin/DATA2/rho0.npy\") #\n",
    "rho0_bcc = np.load(\"/home/valeria/Documents/DFTPY/cWT-KEDF/Phases/cWT-KEDF/Phases/Model_ML_function/training_set_data/ks_calculations/Si_bcc/DATA2/rho0.npy\") #\n",
    "rho0_8cd = np.load(\"/home/valeria/Documents/DFTPY/cWT-KEDF/Phases/cWT-KEDF/Phases/Model_ML_function/training_set_data/ks_calculations/Si_8cd/DATA2/rho0.npy\")\n",
    "rho0_7cd = np.load(\"/home/valeria/Documents/DFTPY/cWT-KEDF/Phases/cWT-KEDF/Phases/Model_ML_function/training_set_data/ks_calculations/Si_7cd/DATA2/rho0.npy\")\n",
    "rho0_li = np.load(\"/home/valeria/Documents/DFTPY/cWT-KEDF/Phases/cWT-KEDF/Phases/Model_ML_function/training_set_data/ks_calculations/Li/DATA2/rho0.npy\")\n",
    "rho0 = np.hstack((rho0_Btin, rho0_bcc, rho0_8cd.reshape(30), rho0_7cd.reshape(30), rho0_li.reshape(30)))\n",
    "\n",
    "Sine_matrices = np.load('/home/valeria/Documents/DFTPY/cWT-KEDF/Phases/cWT-KEDF/Phases/Model_ML_function/training_set_data/ks_calculations/Sine_matrices.npy')\n",
    "sine_Btin = np.asarray(Sine_matrices)[:30,0]\n",
    "sine_fcc = np.asarray(Sine_matrices)[:30,1]\n",
    "sine_bcc = np.asarray(Sine_matrices)[:30,2]\n",
    "sine_8cd = np.asarray(Sine_matrices)[:30,3]\n",
    "sine_7cd = np.asarray(Sine_matrices)[:30,4]\n",
    "sine_li = np.asarray(Sine_matrices)[:30,5]\n",
    "Matrix = np.vstack((sine_Btin, sine_bcc, sine_8cd, sine_7cd, sine_li))\n",
    "\n",
    "X_ref = Matrix.reshape(150,8,8)\n",
    "y_ref = np.asarray(rho0)\n",
    "\n",
    "rh0 = []\n",
    "for j, r0 in enumerate(y_ref):\n",
    "        rho0_matrix = np.zeros((len(X_ref[1])*len(X_ref[1])))\n",
    "        rho0_matrix[0] = r0\n",
    "        rh0.append(rho0_matrix)\n",
    "X = X_ref.reshape(-1, len(X_ref[1])*len(X_ref[1]))\n",
    "y = np.asarray(rh0)\n"
   ]
  },
  {
   "cell_type": "code",
   "execution_count": 13,
   "id": "55c3961a",
   "metadata": {},
   "outputs": [],
   "source": [
    "np.save('structure_without_fcc', X)\n",
    "np.save('rho0_without_fcc', y)"
   ]
  },
  {
   "cell_type": "code",
   "execution_count": 14,
   "id": "d2f28a79",
   "metadata": {},
   "outputs": [],
   "source": [
    "#### Data without bcc\n",
    "rho0_Btin = np.load(\"/home/valeria/Documents/DFTPY/cWT-KEDF/Phases/cWT-KEDF/Phases/Model_ML_function/training_set_data/ks_calculations/Si_Btin/DATA2/rho0.npy\") #\n",
    "rho0_fcc = np.load(\"/home/valeria/Documents/DFTPY/cWT-KEDF/Phases/cWT-KEDF/Phases/Model_ML_function/training_set_data/ks_calculations/Si_fcc/DATA2/rho0.npy\") #\n",
    "rho0_bcc = np.load(\"/home/valeria/Documents/DFTPY/cWT-KEDF/Phases/cWT-KEDF/Phases/Model_ML_function/training_set_data/ks_calculations/Si_bcc/DATA2/rho0.npy\") #\n",
    "rho0_8cd = np.load(\"/home/valeria/Documents/DFTPY/cWT-KEDF/Phases/cWT-KEDF/Phases/Model_ML_function/training_set_data/ks_calculations/Si_8cd/DATA2/rho0.npy\")\n",
    "rho0_7cd = np.load(\"/home/valeria/Documents/DFTPY/cWT-KEDF/Phases/cWT-KEDF/Phases/Model_ML_function/training_set_data/ks_calculations/Si_7cd/DATA2/rho0.npy\")\n",
    "rho0_li = np.load(\"/home/valeria/Documents/DFTPY/cWT-KEDF/Phases/cWT-KEDF/Phases/Model_ML_function/training_set_data/ks_calculations/Li/DATA2/rho0.npy\")\n",
    "rho0 = np.hstack((rho0_Btin, rho0_fcc, rho0_8cd.reshape(30), rho0_7cd.reshape(30), rho0_li.reshape(30)))\n",
    "\n",
    "Sine_matrices = np.load('/home/valeria/Documents/DFTPY/cWT-KEDF/Phases/cWT-KEDF/Phases/Model_ML_function/training_set_data/ks_calculations/Sine_matrices.npy')\n",
    "sine_Btin = np.asarray(Sine_matrices)[:30,0]\n",
    "sine_fcc = np.asarray(Sine_matrices)[:30,1]\n",
    "sine_bcc = np.asarray(Sine_matrices)[:30,2]\n",
    "sine_8cd = np.asarray(Sine_matrices)[:30,3]\n",
    "sine_7cd = np.asarray(Sine_matrices)[:30,4]\n",
    "sine_li = np.asarray(Sine_matrices)[:30,5]\n",
    "Matrix = np.vstack((sine_Btin, sine_fcc, sine_8cd, sine_7cd, sine_li))\n",
    "\n",
    "X_ref = Matrix.reshape(150,8,8)\n",
    "y_ref = np.asarray(rho0)\n",
    "\n",
    "rh0 = []\n",
    "for j, r0 in enumerate(y_ref):\n",
    "        rho0_matrix = np.zeros((len(X_ref[1])*len(X_ref[1])))\n",
    "        rho0_matrix[0] = r0\n",
    "        rh0.append(rho0_matrix)\n",
    "X = X_ref.reshape(-1, len(X_ref[1])*len(X_ref[1]))\n",
    "y = np.asarray(rh0)\n"
   ]
  },
  {
   "cell_type": "code",
   "execution_count": 15,
   "id": "a43e3003",
   "metadata": {},
   "outputs": [],
   "source": [
    "np.save('structure_without_bcc', X)\n",
    "np.save('rho0_without_bcc', y)"
   ]
  },
  {
   "cell_type": "code",
   "execution_count": 16,
   "id": "4d679a35",
   "metadata": {},
   "outputs": [],
   "source": [
    "#Big data, matrices of 80x80 for bigger systems\n",
    "rho0_Btin = np.load(\"/home/valeria/Documents/DFTPY/cWT-KEDF/Phases/cWT-KEDF/Phases/Model_ML_function/training_set_data/ks_calculations/Si_Btin/DATA2/rho0.npy\") #\n",
    "rho0_fcc = np.load(\"/home/valeria/Documents/DFTPY/cWT-KEDF/Phases/cWT-KEDF/Phases/Model_ML_function/training_set_data/ks_calculations/Si_fcc/DATA2/rho0.npy\") #\n",
    "rho0_bcc = np.load(\"/home/valeria/Documents/DFTPY/cWT-KEDF/Phases/cWT-KEDF/Phases/Model_ML_function/training_set_data/ks_calculations/Si_bcc/DATA2/rho0.npy\") #\n",
    "rho0_8cd = np.load(\"/home/valeria/Documents/DFTPY/cWT-KEDF/Phases/cWT-KEDF/Phases/Model_ML_function/training_set_data/ks_calculations/Si_8cd/DATA2/rho0.npy\")\n",
    "rho0_7cd = np.load(\"/home/valeria/Documents/DFTPY/cWT-KEDF/Phases/cWT-KEDF/Phases/Model_ML_function/training_set_data/ks_calculations/Si_7cd/DATA2/rho0.npy\")\n",
    "rho0_li = np.load(\"/home/valeria/Documents/DFTPY/cWT-KEDF/Phases/cWT-KEDF/Phases/Model_ML_function/training_set_data/ks_calculations/Li/DATA2/rho0.npy\")\n",
    "rho0 = np.hstack((rho0_Btin, rho0_fcc, rho0_bcc, rho0_8cd.reshape(30), rho0_7cd.reshape(30), rho0_li.reshape(30)))\n",
    "\n",
    "Sine_matrices = np.load('/home/valeria/Documents/DFTPY/cWT-KEDF/Phases/cWT-KEDF/Phases/Model_ML_function/training_set_data/ks_calculations/Sine_matrices_big.npy')\n",
    "sine_Btin = np.asarray(Sine_matrices)[:30,0]\n",
    "sine_fcc = np.asarray(Sine_matrices)[:30,1]\n",
    "sine_bcc = np.asarray(Sine_matrices)[:30,2]\n",
    "sine_8cd = np.asarray(Sine_matrices)[:30,3]\n",
    "sine_7cd = np.asarray(Sine_matrices)[:30,4]\n",
    "sine_li = np.asarray(Sine_matrices)[:30,5]\n",
    "Matrix = np.vstack((sine_Btin, sine_fcc, sine_bcc, sine_8cd, sine_7cd, sine_li))\n",
    "\n",
    "X_ref = Matrix.reshape(180,16,16)\n",
    "y_ref = np.asarray(rho0)\n",
    "\n",
    "rh0 = []\n",
    "for j, r0 in enumerate(y_ref):\n",
    "        rho0_matrix = np.zeros((len(X_ref[1])*len(X_ref[1])))\n",
    "        rho0_matrix[0] = r0\n",
    "        rh0.append(rho0_matrix)\n",
    "X = X_ref.reshape(-1, len(X_ref[1])*len(X_ref[1]))\n",
    "y = np.asarray(rh0)\n"
   ]
  },
  {
   "cell_type": "code",
   "execution_count": 14,
   "id": "829c6879",
   "metadata": {},
   "outputs": [
    {
     "name": "stdout",
     "output_type": "stream",
     "text": [
      "(180, 6400)\n",
      "(180, 6400)\n"
     ]
    }
   ],
   "source": [
    "print(y.shape)\n",
    "print(X.shape)"
   ]
  },
  {
   "cell_type": "code",
   "execution_count": 17,
   "id": "8d9e2183",
   "metadata": {},
   "outputs": [],
   "source": [
    "np.save('structure_big', X)\n",
    "np.save('rho0_big', y)"
   ]
  },
  {
   "cell_type": "code",
   "execution_count": 2,
   "id": "001f75a1",
   "metadata": {},
   "outputs": [],
   "source": [
    "# Data with phases Btin, fcc, bcc, 8cd, dhcp (sd) matrix 16x16\n",
    "rho0_Btin = np.load(\"/home/valeria/Documents/DFTPY/cWT-KEDF/Phases/cWT-KEDF/Phases/Model_ML_function/training_set_data/ks_calculations/Si_Btin/DATA2/rho0.npy\") #\n",
    "rho0_fcc = np.load(\"/home/valeria/Documents/DFTPY/cWT-KEDF/Phases/cWT-KEDF/Phases/Model_ML_function/training_set_data/ks_calculations/Si_fcc/DATA2/rho0.npy\") #\n",
    "rho0_bcc = np.load(\"/home/valeria/Documents/DFTPY/cWT-KEDF/Phases/cWT-KEDF/Phases/Model_ML_function/training_set_data/ks_calculations/Si_bcc/DATA2/rho0.npy\") #\n",
    "rho0_8cd = np.load(\"/home/valeria/Documents/DFTPY/cWT-KEDF/Phases/cWT-KEDF/Phases/Model_ML_function/training_set_data/ks_calculations/Si_8cd/DATA2/rho0.npy\")\n",
    "rho0_dhcp = np.load(\"/home/valeria/Documents/DFTPY/cWT-KEDF/Phases/cWT-KEDF/Phases/Model_ML_function/training_set_data/ks_calculations/Si_dhcp/DATA2/rho0.npy\")\n",
    "rho0 = np.hstack((rho0_Btin, rho0_fcc, rho0_bcc, rho0_8cd.reshape(30), rho0_dhcp.reshape(30)))\n",
    "\n",
    "Sine_matrices = np.load('/home/valeria/Documents/DFTPY/cWT-KEDF/Phases/cWT-KEDF/Phases/Model_ML_function/training_set_data/ks_calculations/Sine_matrices_dhcp_phases.npy')\n",
    "sine_Btin = np.asarray(Sine_matrices)[:30,0]\n",
    "sine_fcc = np.asarray(Sine_matrices)[:30,1]\n",
    "sine_bcc = np.asarray(Sine_matrices)[:30,2]\n",
    "sine_8cd = np.asarray(Sine_matrices)[:30,3]\n",
    "sine_dhcp = np.asarray(Sine_matrices)[:30,4]\n",
    "Matrix = np.vstack((sine_Btin, sine_fcc, sine_bcc, sine_8cd, sine_dhcp)) #, sine_li))\n",
    "\n",
    "X_ref = Matrix.reshape(150,16,16)\n",
    "y_ref = np.asarray(rho0)\n",
    "\n",
    "rh0 = []\n",
    "for j, r0 in enumerate(y_ref):\n",
    "        rho0_matrix = np.zeros((len(X_ref[1])*len(X_ref[1])))\n",
    "        rho0_matrix[0] = r0\n",
    "        rh0.append(rho0_matrix)\n",
    "X = X_ref.reshape(-1, len(X_ref[1])*len(X_ref[1]))\n",
    "y = np.asarray(rh0)\n"
   ]
  },
  {
   "cell_type": "code",
   "execution_count": 3,
   "id": "99572e0b",
   "metadata": {},
   "outputs": [],
   "source": [
    "np.save('structure_dhcp', X)\n",
    "np.save('rho0_dhcp', y)"
   ]
  },
  {
   "cell_type": "code",
   "execution_count": 8,
   "id": "547bebe0",
   "metadata": {},
   "outputs": [],
   "source": [
    "# Data with phases Btin, fcc, bcc, 8cd, dhcp (sd) matrix of 63x63\n",
    "rho0_Btin = np.load(\"/home/valeria/Documents/DFTPY/cWT-KEDF/Phases/Model_ML_function/training_set_data/ks_calculations/Si_Btin/DATA2/rho0.npy\") #\n",
    "rho0_fcc = np.load(\"/home/valeria/Documents/DFTPY/cWT-KEDF/Phases/Model_ML_function/training_set_data/ks_calculations/Si_fcc/DATA2/rho0.npy\") #\n",
    "rho0_bcc = np.load(\"/home/valeria/Documents/DFTPY/cWT-KEDF/Phases/Model_ML_function/training_set_data/ks_calculations/Si_bcc/DATA2/rho0.npy\") #\n",
    "rho0_8cd = np.load(\"/home/valeria/Documents/DFTPY/cWT-KEDF/Phases/Model_ML_function/training_set_data/ks_calculations/Si_8cd/DATA2/rho0.npy\")\n",
    "rho0_dhcp = np.load(\"/home/valeria/Documents/DFTPY/cWT-KEDF/Phases/Model_ML_function/training_set_data/ks_calculations/Si_dhcp/DATA2/rho0.npy\")\n",
    "rho0 = np.hstack((rho0_Btin, rho0_fcc, rho0_bcc, rho0_8cd.reshape(30), rho0_dhcp.reshape(30)))\n",
    "\n",
    "Sine_matrices = np.load('/home/valeria/Documents/DFTPY/cWT-KEDF/Phases/Model_ML_function/training_set_data/descriptors/Sine_matrices_big_dhcp_phases.npy')\n",
    "sine_Btin = np.asarray(Sine_matrices)[:30,0]\n",
    "sine_fcc = np.asarray(Sine_matrices)[:30,1]\n",
    "sine_bcc = np.asarray(Sine_matrices)[:30,2]\n",
    "sine_8cd = np.asarray(Sine_matrices)[:30,3]\n",
    "sine_dhcp = np.asarray(Sine_matrices)[:30,4]\n",
    "Matrix = np.vstack((sine_Btin, sine_fcc, sine_bcc, sine_8cd, sine_dhcp)) #, sine_li))\n",
    "\n",
    "X_ref = Matrix.reshape(150,63,63)\n",
    "y_ref = np.asarray(rho0)\n",
    "\n",
    "rh0 = []\n",
    "for j, r0 in enumerate(y_ref):\n",
    "        rho0_matrix = np.zeros((len(X_ref[1])*len(X_ref[1])))\n",
    "        rho0_matrix[0] = r0\n",
    "        rh0.append(rho0_matrix)\n",
    "X = X_ref.reshape(-1, len(X_ref[1])*len(X_ref[1]))\n",
    "y = np.asarray(rh0)"
   ]
  },
  {
   "cell_type": "code",
   "execution_count": 2,
   "id": "1fc0ca16-51a7-4944-9dfc-5d24fd06f601",
   "metadata": {},
   "outputs": [],
   "source": [
    "# Data with phases Btin, fcc, bcc, 8cd, dhcp (sd) matrix of 65x65\n",
    "rho0_Btin = np.load(\"/home/valeria/Documents/DFTPY/cWT-KEDF/Phases/Model_ML_function/training_set_data/ks_calculations/Si_Btin/DATA2/rho0.npy\") #\n",
    "rho0_fcc = np.load(\"/home/valeria/Documents/DFTPY/cWT-KEDF/Phases/Model_ML_function/training_set_data/ks_calculations/Si_fcc/DATA2/rho0.npy\") #\n",
    "rho0_bcc = np.load(\"/home/valeria/Documents/DFTPY/cWT-KEDF/Phases/Model_ML_function/training_set_data/ks_calculations/Si_bcc/DATA2/rho0.npy\") #\n",
    "rho0_8cd = np.load(\"/home/valeria/Documents/DFTPY/cWT-KEDF/Phases/Model_ML_function/training_set_data/ks_calculations/Si_8cd/DATA2/rho0.npy\")\n",
    "rho0_dhcp = np.load(\"/home/valeria/Documents/DFTPY/cWT-KEDF/Phases/Model_ML_function/training_set_data/ks_calculations/Si_dhcp/DATA2/rho0.npy\")\n",
    "rho0_Btin_hd = np.load(\"/home/valeria/Documents/DFTPY/cWT-KEDF/Phases/Model_ML_function/training_set_data/ks_calculations/Transition_Btin_HD/DATA2/rho0.npy\")\n",
    "\n",
    "rho0 = np.hstack((rho0_Btin, rho0_fcc, rho0_bcc, rho0_8cd.reshape(30), rho0_dhcp.reshape(30), rho0_Btin_hd.reshape(30)))\n",
    "\n",
    "Sine_matrices = np.load('/home/valeria/Documents/DFTPY/cWT-KEDF/Phases/Model_ML_function/training_set_data/descriptors/SM_Btin_fcc_bcc_8cd_dhcp_Btin-hd_65.npy')\n",
    "sine_Btin = np.asarray(Sine_matrices)[:30,0]\n",
    "sine_fcc = np.asarray(Sine_matrices)[:30,1]\n",
    "sine_bcc = np.asarray(Sine_matrices)[:30,2]\n",
    "sine_8cd = np.asarray(Sine_matrices)[:30,3]\n",
    "sine_dhcp = np.asarray(Sine_matrices)[:30,4]\n",
    "sine_Btin_hd = np.asarray(Sine_matrices)[:30,5]\n",
    "Matrix = np.vstack((sine_Btin, sine_fcc, sine_bcc, sine_8cd, sine_dhcp, sine_Btin_hd)) #, sine_li))\n",
    "\n",
    "X_ref = Matrix.reshape(180,65,65)\n",
    "y_ref = np.asarray(rho0)\n",
    "\n",
    "rh0 = []\n",
    "for j, r0 in enumerate(y_ref):\n",
    "        rho0_matrix = np.zeros((len(X_ref[1])*len(X_ref[1])))\n",
    "        rho0_matrix[0] = r0\n",
    "        rh0.append(rho0_matrix)\n",
    "X = X_ref.reshape(-1, len(X_ref[1])*len(X_ref[1]))\n",
    "y = np.asarray(rh0)"
   ]
  },
  {
   "cell_type": "code",
   "execution_count": 19,
   "id": "2d099c89-1af0-4cb0-925e-082402e808a5",
   "metadata": {},
   "outputs": [
    {
     "ename": "ValueError",
     "evalue": "Per-column arrays must each be 1-dimensional",
     "output_type": "error",
     "traceback": [
      "\u001b[0;31m---------------------------------------------------------------------------\u001b[0m",
      "\u001b[0;31mValueError\u001b[0m                                Traceback (most recent call last)",
      "Cell \u001b[0;32mIn[19], line 9\u001b[0m\n\u001b[1;32m      4\u001b[0m rho0_df \u001b[38;5;241m=\u001b[39m pd\u001b[38;5;241m.\u001b[39mDataFrame({\u001b[38;5;124m'\u001b[39m\u001b[38;5;124mrho0\u001b[39m\u001b[38;5;124m'\u001b[39m: [y\u001b[38;5;241m.\u001b[39mT]})\n\u001b[1;32m      6\u001b[0m data \u001b[38;5;241m=\u001b[39m {\u001b[38;5;124m'\u001b[39m\u001b[38;5;124mSineMatrix\u001b[39m\u001b[38;5;124m'\u001b[39m: X\u001b[38;5;241m.\u001b[39mT,\n\u001b[1;32m      7\u001b[0m     \u001b[38;5;124m'\u001b[39m\u001b[38;5;124mrho0\u001b[39m\u001b[38;5;124m'\u001b[39m : y\u001b[38;5;241m.\u001b[39mT}\n\u001b[0;32m----> 9\u001b[0m combined_df \u001b[38;5;241m=\u001b[39m \u001b[43mpd\u001b[49m\u001b[38;5;241;43m.\u001b[39;49m\u001b[43mDataFrame\u001b[49m\u001b[38;5;241;43m.\u001b[39;49m\u001b[43mfrom_dict\u001b[49m\u001b[43m(\u001b[49m\u001b[43mdata\u001b[49m\u001b[43m)\u001b[49m\n\u001b[1;32m     10\u001b[0m combined_filename \u001b[38;5;241m=\u001b[39m \u001b[38;5;124m'\u001b[39m\u001b[38;5;124mDATA.csv\u001b[39m\u001b[38;5;124m'\u001b[39m\n\u001b[1;32m     12\u001b[0m \u001b[38;5;66;03m# Save the combined DataFrame to a CSV file\u001b[39;00m\n",
      "File \u001b[0;32m~/miniconda3/envs/ai_kedf/lib/python3.11/site-packages/pandas/core/frame.py:1760\u001b[0m, in \u001b[0;36mDataFrame.from_dict\u001b[0;34m(cls, data, orient, dtype, columns)\u001b[0m\n\u001b[1;32m   1754\u001b[0m     \u001b[38;5;28;01mraise\u001b[39;00m \u001b[38;5;167;01mValueError\u001b[39;00m(\n\u001b[1;32m   1755\u001b[0m         \u001b[38;5;124mf\u001b[39m\u001b[38;5;124m\"\u001b[39m\u001b[38;5;124mExpected \u001b[39m\u001b[38;5;124m'\u001b[39m\u001b[38;5;124mindex\u001b[39m\u001b[38;5;124m'\u001b[39m\u001b[38;5;124m, \u001b[39m\u001b[38;5;124m'\u001b[39m\u001b[38;5;124mcolumns\u001b[39m\u001b[38;5;124m'\u001b[39m\u001b[38;5;124m or \u001b[39m\u001b[38;5;124m'\u001b[39m\u001b[38;5;124mtight\u001b[39m\u001b[38;5;124m'\u001b[39m\u001b[38;5;124m for orient parameter. \u001b[39m\u001b[38;5;124m\"\u001b[39m\n\u001b[1;32m   1756\u001b[0m         \u001b[38;5;124mf\u001b[39m\u001b[38;5;124m\"\u001b[39m\u001b[38;5;124mGot \u001b[39m\u001b[38;5;124m'\u001b[39m\u001b[38;5;132;01m{\u001b[39;00morient\u001b[38;5;132;01m}\u001b[39;00m\u001b[38;5;124m'\u001b[39m\u001b[38;5;124m instead\u001b[39m\u001b[38;5;124m\"\u001b[39m\n\u001b[1;32m   1757\u001b[0m     )\n\u001b[1;32m   1759\u001b[0m \u001b[38;5;28;01mif\u001b[39;00m orient \u001b[38;5;241m!=\u001b[39m \u001b[38;5;124m\"\u001b[39m\u001b[38;5;124mtight\u001b[39m\u001b[38;5;124m\"\u001b[39m:\n\u001b[0;32m-> 1760\u001b[0m     \u001b[38;5;28;01mreturn\u001b[39;00m \u001b[38;5;28;43mcls\u001b[39;49m\u001b[43m(\u001b[49m\u001b[43mdata\u001b[49m\u001b[43m,\u001b[49m\u001b[43m \u001b[49m\u001b[43mindex\u001b[49m\u001b[38;5;241;43m=\u001b[39;49m\u001b[43mindex\u001b[49m\u001b[43m,\u001b[49m\u001b[43m \u001b[49m\u001b[43mcolumns\u001b[49m\u001b[38;5;241;43m=\u001b[39;49m\u001b[43mcolumns\u001b[49m\u001b[43m,\u001b[49m\u001b[43m \u001b[49m\u001b[43mdtype\u001b[49m\u001b[38;5;241;43m=\u001b[39;49m\u001b[43mdtype\u001b[49m\u001b[43m)\u001b[49m\n\u001b[1;32m   1761\u001b[0m \u001b[38;5;28;01melse\u001b[39;00m:\n\u001b[1;32m   1762\u001b[0m     realdata \u001b[38;5;241m=\u001b[39m data[\u001b[38;5;124m\"\u001b[39m\u001b[38;5;124mdata\u001b[39m\u001b[38;5;124m\"\u001b[39m]\n",
      "File \u001b[0;32m~/miniconda3/envs/ai_kedf/lib/python3.11/site-packages/pandas/core/frame.py:709\u001b[0m, in \u001b[0;36mDataFrame.__init__\u001b[0;34m(self, data, index, columns, dtype, copy)\u001b[0m\n\u001b[1;32m    703\u001b[0m     mgr \u001b[38;5;241m=\u001b[39m \u001b[38;5;28mself\u001b[39m\u001b[38;5;241m.\u001b[39m_init_mgr(\n\u001b[1;32m    704\u001b[0m         data, axes\u001b[38;5;241m=\u001b[39m{\u001b[38;5;124m\"\u001b[39m\u001b[38;5;124mindex\u001b[39m\u001b[38;5;124m\"\u001b[39m: index, \u001b[38;5;124m\"\u001b[39m\u001b[38;5;124mcolumns\u001b[39m\u001b[38;5;124m\"\u001b[39m: columns}, dtype\u001b[38;5;241m=\u001b[39mdtype, copy\u001b[38;5;241m=\u001b[39mcopy\n\u001b[1;32m    705\u001b[0m     )\n\u001b[1;32m    707\u001b[0m \u001b[38;5;28;01melif\u001b[39;00m \u001b[38;5;28misinstance\u001b[39m(data, \u001b[38;5;28mdict\u001b[39m):\n\u001b[1;32m    708\u001b[0m     \u001b[38;5;66;03m# GH#38939 de facto copy defaults to False only in non-dict cases\u001b[39;00m\n\u001b[0;32m--> 709\u001b[0m     mgr \u001b[38;5;241m=\u001b[39m \u001b[43mdict_to_mgr\u001b[49m\u001b[43m(\u001b[49m\u001b[43mdata\u001b[49m\u001b[43m,\u001b[49m\u001b[43m \u001b[49m\u001b[43mindex\u001b[49m\u001b[43m,\u001b[49m\u001b[43m \u001b[49m\u001b[43mcolumns\u001b[49m\u001b[43m,\u001b[49m\u001b[43m \u001b[49m\u001b[43mdtype\u001b[49m\u001b[38;5;241;43m=\u001b[39;49m\u001b[43mdtype\u001b[49m\u001b[43m,\u001b[49m\u001b[43m \u001b[49m\u001b[43mcopy\u001b[49m\u001b[38;5;241;43m=\u001b[39;49m\u001b[43mcopy\u001b[49m\u001b[43m,\u001b[49m\u001b[43m \u001b[49m\u001b[43mtyp\u001b[49m\u001b[38;5;241;43m=\u001b[39;49m\u001b[43mmanager\u001b[49m\u001b[43m)\u001b[49m\n\u001b[1;32m    710\u001b[0m \u001b[38;5;28;01melif\u001b[39;00m \u001b[38;5;28misinstance\u001b[39m(data, ma\u001b[38;5;241m.\u001b[39mMaskedArray):\n\u001b[1;32m    711\u001b[0m     \u001b[38;5;28;01mfrom\u001b[39;00m \u001b[38;5;21;01mnumpy\u001b[39;00m\u001b[38;5;21;01m.\u001b[39;00m\u001b[38;5;21;01mma\u001b[39;00m \u001b[38;5;28;01mimport\u001b[39;00m mrecords\n",
      "File \u001b[0;32m~/miniconda3/envs/ai_kedf/lib/python3.11/site-packages/pandas/core/internals/construction.py:481\u001b[0m, in \u001b[0;36mdict_to_mgr\u001b[0;34m(data, index, columns, dtype, typ, copy)\u001b[0m\n\u001b[1;32m    477\u001b[0m     \u001b[38;5;28;01melse\u001b[39;00m:\n\u001b[1;32m    478\u001b[0m         \u001b[38;5;66;03m# dtype check to exclude e.g. range objects, scalars\u001b[39;00m\n\u001b[1;32m    479\u001b[0m         arrays \u001b[38;5;241m=\u001b[39m [x\u001b[38;5;241m.\u001b[39mcopy() \u001b[38;5;28;01mif\u001b[39;00m \u001b[38;5;28mhasattr\u001b[39m(x, \u001b[38;5;124m\"\u001b[39m\u001b[38;5;124mdtype\u001b[39m\u001b[38;5;124m\"\u001b[39m) \u001b[38;5;28;01melse\u001b[39;00m x \u001b[38;5;28;01mfor\u001b[39;00m x \u001b[38;5;129;01min\u001b[39;00m arrays]\n\u001b[0;32m--> 481\u001b[0m \u001b[38;5;28;01mreturn\u001b[39;00m \u001b[43marrays_to_mgr\u001b[49m\u001b[43m(\u001b[49m\u001b[43marrays\u001b[49m\u001b[43m,\u001b[49m\u001b[43m \u001b[49m\u001b[43mcolumns\u001b[49m\u001b[43m,\u001b[49m\u001b[43m \u001b[49m\u001b[43mindex\u001b[49m\u001b[43m,\u001b[49m\u001b[43m \u001b[49m\u001b[43mdtype\u001b[49m\u001b[38;5;241;43m=\u001b[39;49m\u001b[43mdtype\u001b[49m\u001b[43m,\u001b[49m\u001b[43m \u001b[49m\u001b[43mtyp\u001b[49m\u001b[38;5;241;43m=\u001b[39;49m\u001b[43mtyp\u001b[49m\u001b[43m,\u001b[49m\u001b[43m \u001b[49m\u001b[43mconsolidate\u001b[49m\u001b[38;5;241;43m=\u001b[39;49m\u001b[43mcopy\u001b[49m\u001b[43m)\u001b[49m\n",
      "File \u001b[0;32m~/miniconda3/envs/ai_kedf/lib/python3.11/site-packages/pandas/core/internals/construction.py:115\u001b[0m, in \u001b[0;36marrays_to_mgr\u001b[0;34m(arrays, columns, index, dtype, verify_integrity, typ, consolidate)\u001b[0m\n\u001b[1;32m    112\u001b[0m \u001b[38;5;28;01mif\u001b[39;00m verify_integrity:\n\u001b[1;32m    113\u001b[0m     \u001b[38;5;66;03m# figure out the index, if necessary\u001b[39;00m\n\u001b[1;32m    114\u001b[0m     \u001b[38;5;28;01mif\u001b[39;00m index \u001b[38;5;129;01mis\u001b[39;00m \u001b[38;5;28;01mNone\u001b[39;00m:\n\u001b[0;32m--> 115\u001b[0m         index \u001b[38;5;241m=\u001b[39m \u001b[43m_extract_index\u001b[49m\u001b[43m(\u001b[49m\u001b[43marrays\u001b[49m\u001b[43m)\u001b[49m\n\u001b[1;32m    116\u001b[0m     \u001b[38;5;28;01melse\u001b[39;00m:\n\u001b[1;32m    117\u001b[0m         index \u001b[38;5;241m=\u001b[39m ensure_index(index)\n",
      "File \u001b[0;32m~/miniconda3/envs/ai_kedf/lib/python3.11/site-packages/pandas/core/internals/construction.py:642\u001b[0m, in \u001b[0;36m_extract_index\u001b[0;34m(data)\u001b[0m\n\u001b[1;32m    640\u001b[0m         raw_lengths\u001b[38;5;241m.\u001b[39mappend(\u001b[38;5;28mlen\u001b[39m(val))\n\u001b[1;32m    641\u001b[0m     \u001b[38;5;28;01melif\u001b[39;00m \u001b[38;5;28misinstance\u001b[39m(val, np\u001b[38;5;241m.\u001b[39mndarray) \u001b[38;5;129;01mand\u001b[39;00m val\u001b[38;5;241m.\u001b[39mndim \u001b[38;5;241m>\u001b[39m \u001b[38;5;241m1\u001b[39m:\n\u001b[0;32m--> 642\u001b[0m         \u001b[38;5;28;01mraise\u001b[39;00m \u001b[38;5;167;01mValueError\u001b[39;00m(\u001b[38;5;124m\"\u001b[39m\u001b[38;5;124mPer-column arrays must each be 1-dimensional\u001b[39m\u001b[38;5;124m\"\u001b[39m)\n\u001b[1;32m    644\u001b[0m \u001b[38;5;28;01mif\u001b[39;00m \u001b[38;5;129;01mnot\u001b[39;00m indexes \u001b[38;5;129;01mand\u001b[39;00m \u001b[38;5;129;01mnot\u001b[39;00m raw_lengths:\n\u001b[1;32m    645\u001b[0m     \u001b[38;5;28;01mraise\u001b[39;00m \u001b[38;5;167;01mValueError\u001b[39;00m(\u001b[38;5;124m\"\u001b[39m\u001b[38;5;124mIf using all scalar values, you must pass an index\u001b[39m\u001b[38;5;124m\"\u001b[39m)\n",
      "\u001b[0;31mValueError\u001b[0m: Per-column arrays must each be 1-dimensional"
     ]
    }
   ],
   "source": [
    "import pandas as pd\n",
    "\n",
    "sine_matrix_df = pd.DataFrame({'Sine_Matrix': [X.T]})\n",
    "rho0_df = pd.DataFrame({'rho0': [y.T]})\n",
    "\n",
    "data = {'SineMatrix': X.T,\n",
    "    'rho0' : y.T}\n",
    "\n",
    "combined_df = pd.DataFrame.from_dict(data)\n",
    "combined_filename = 'DATA.csv'\n",
    "\n",
    "# Save the combined DataFrame to a CSV file\n",
    "combined_df.to_csv(combined_filename, index=False)"
   ]
  },
  {
   "cell_type": "code",
   "execution_count": 15,
   "id": "8633ea16-7d92-4ddf-b144-500e4b7ec414",
   "metadata": {},
   "outputs": [],
   "source": [
    "R= {'SineMatrix': X,\n",
    "    'rho0' : y}"
   ]
  },
  {
   "cell_type": "code",
   "execution_count": 16,
   "id": "2adf03ac-c231-453c-8cab-0cf809fcf615",
   "metadata": {},
   "outputs": [
    {
     "data": {
      "text/plain": [
       "{'SineMatrix': array([[281.62894609,  17.75927393,  25.9860171 , ...,   0.        ,\n",
       "           0.        ,   0.        ],\n",
       "        [281.62894609,  17.31156114,  25.33090742, ...,   0.        ,\n",
       "           0.        ,   0.        ],\n",
       "        [281.62894609,  16.88586702,  24.70801626, ...,   0.        ,\n",
       "           0.        ,   0.        ],\n",
       "        ...,\n",
       "        [281.62894609,  12.99724712,  11.79905344, ...,   0.        ,\n",
       "           0.        ,   0.        ],\n",
       "        [281.62894609,  12.61025409,  11.44773662, ...,   0.        ,\n",
       "           0.        ,   0.        ],\n",
       "        [281.62894609,  12.24029129,  11.11188005, ...,   0.        ,\n",
       "           0.        ,   0.        ]]),\n",
       " 'rho0': array([[0.07670994, 0.        , 0.        , ..., 0.        , 0.        ,\n",
       "         0.        ],\n",
       "        [0.07047272, 0.        , 0.        , ..., 0.        , 0.        ,\n",
       "         0.        ],\n",
       "        [0.06421984, 0.        , 0.        , ..., 0.        , 0.        ,\n",
       "         0.        ],\n",
       "        ...,\n",
       "        [0.01974517, 0.        , 0.        , ..., 0.        , 0.        ,\n",
       "         0.        ],\n",
       "        [0.01958934, 0.        , 0.        , ..., 0.        , 0.        ,\n",
       "         0.        ],\n",
       "        [0.01942135, 0.        , 0.        , ..., 0.        , 0.        ,\n",
       "         0.        ]])}"
      ]
     },
     "execution_count": 16,
     "metadata": {},
     "output_type": "execute_result"
    }
   ],
   "source": [
    "R"
   ]
  },
  {
   "cell_type": "code",
   "execution_count": 10,
   "id": "d61c830f-c741-4f15-be0a-02841a7dfc6e",
   "metadata": {},
   "outputs": [],
   "source": [
    "np.save('SM_Btin_fcc_bcc_8cd_dhcp_Btin-hd_65', X)\n",
    "np.save('rho0_Btin_fcc_bcc_8cd_dhcp_Btin-hd_65', y)"
   ]
  },
  {
   "cell_type": "code",
   "execution_count": 28,
   "id": "411e531e-32d1-4a55-be3d-c49dca5c08b8",
   "metadata": {},
   "outputs": [],
   "source": [
    "yy = y[120:150]\n",
    "ro0 = []\n",
    "for j, r0 in enumerate(np.linspace(0,8, 30)):\n",
    "    rr00 = yy[j][0]\n",
    "    ro0.append(rr00)"
   ]
  },
  {
   "cell_type": "code",
   "execution_count": 20,
   "id": "83a66940-ebbb-4cca-9af0-a511cb48e36a",
   "metadata": {},
   "outputs": [
    {
     "data": {
      "text/plain": [
       "0.06421984089388232"
      ]
     },
     "execution_count": 20,
     "metadata": {},
     "output_type": "execute_result"
    }
   ],
   "source": [
    "y[2][0]"
   ]
  },
  {
   "cell_type": "code",
   "execution_count": 30,
   "id": "ec4c392a-3fb0-492b-a355-746de00736a1",
   "metadata": {},
   "outputs": [
    {
     "data": {
      "text/plain": [
       "[<matplotlib.lines.Line2D at 0x7f0adac5f510>]"
      ]
     },
     "execution_count": 30,
     "metadata": {},
     "output_type": "execute_result"
    },
    {
     "data": {
      "image/png": "[encoded data removed]",
      "text/plain": [
       "<Figure size 640x480 with 1 Axes>"
      ]
     },
     "metadata": {},
     "output_type": "display_data"
    }
   ],
   "source": [
    "plt.plot(np.linspace(0,8, 30), np.asarray(rho0_dhcp.reshape(30)))\n",
    "plt.plot(np.linspace(0,8, 30), np.asarray(ro0))"
   ]
  },
  {
   "cell_type": "code",
   "execution_count": 5,
   "id": "9587044d",
   "metadata": {},
   "outputs": [],
   "source": [
    "np.save('structure_big_dhcp', X)\n",
    "np.save('rho0_big_dhcp', y)"
   ]
  }
 ],
 "metadata": {
  "kernelspec": {
   "display_name": "Python 3 (ipykernel)",
   "language": "python",
   "name": "python3"
  },
  "language_info": {
   "codemirror_mode": {
    "name": "ipython",
    "version": 3
   },
   "file_extension": ".py",
   "mimetype": "text/x-python",
   "name": "python",
   "nbconvert_exporter": "python",
   "pygments_lexer": "ipython3",
   "version": "3.11.6"
  }
 },
 "nbformat": 4,
 "nbformat_minor": 5
}
