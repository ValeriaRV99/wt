{
 "cells": [
  {
   "cell_type": "code",
   "execution_count": 1,
   "id": "c5f19a4a",
   "metadata": {},
   "outputs": [
    {
     "name": "stderr",
     "output_type": "stream",
     "text": [
      "/opt/homebrew/lib/python3.11/site-packages/ase/lattice/spacegroup.py:5: UserWarning: Moved to ase.spacegroup\n",
      "  warnings.warn('Moved to ase.spacegroup')\n"
     ]
    }
   ],
   "source": [
    "import numpy as np\n",
    "from matplotlib import pyplot as plt\n",
    "from dftpy.ions import Ions\n",
    "from ase.build import bulk\n",
    "from ase.io import read\n",
    "from ase.lattice.spacegroup import Spacegroup\n",
    "from ase.lattice.spacegroup import crystal\n",
    "import ase.io\n",
    "\n",
    "from scipy.optimize import minimize\n",
    "from dscribe.descriptors import CoulombMatrix, SineMatrix, EwaldSumMatrix, SOAP"
   ]
  },
  {
   "cell_type": "code",
   "execution_count": 2,
   "id": "051fa01c",
   "metadata": {},
   "outputs": [],
   "source": [
    "#si_Btin, si_fcc, si_bcc, si_8cd, si_dhcp, si_Btin_hd, si_bct5, si_hcp, si_sh"
   ]
  },
  {
   "cell_type": "code",
   "execution_count": 4,
   "id": "9978f352",
   "metadata": {},
   "outputs": [],
   "source": [
    "import os\n",
    "os.chdir('../')\n",
    "path_file = os.getcwd()"
   ]
  },
  {
   "cell_type": "code",
   "execution_count": 5,
   "id": "ccb02f93",
   "metadata": {},
   "outputs": [
    {
     "data": {
      "text/plain": [
       "'/Users/valeria/Documents/aiWT/Final_version/wt/wt'"
      ]
     },
     "execution_count": 5,
     "metadata": {},
     "output_type": "execute_result"
    }
   ],
   "source": [
    "pwd"
   ]
  },
  {
   "cell_type": "code",
   "execution_count": 11,
   "id": "0153a0d8",
   "metadata": {},
   "outputs": [],
   "source": [
    "import ase\n",
    "rho_rand4 = []\n",
    "rho_rand8 = []\n",
    "traj_rand4 = []\n",
    "traj_rand8 = []\n",
    "Sine_matrices = []\n",
    "Sine_gradient = []\n",
    "for i in np.arange(120, 200, 10):\n",
    "    if i==0:\n",
    "        i=1\n",
    "    if i==160 or i==170 or i==180:\n",
    "        continue\n",
    "#     ions_4 = ase.io.read(path_file+'/ks_calculations/random_training/DATA2/si_'+str(i)+'_4.in')\n",
    "#     ions_8 = ase.io.read(path_file+'/ks_calculations/random_training/DATA2/si_'+str(i)+'_8.in')\n",
    "#     rho_rand4.append(ions_4.get_global_number_of_atoms()*4/ions_4.get_volume()) \n",
    "#     rho_rand8.append(ions_8.get_global_number_of_atoms()*4/ions_8.get_volume()) \n",
    "\n",
    "#     phases = [ions_4, ions_8]\n",
    "#     sm = SineMatrix(n_atoms_max=65, sparse=False)\n",
    "#     sine_matrices = sm.create(phases, n_jobs=2)\n",
    "#     sine_gradient = np.gradient(sine_matrices)\n",
    "#     Sine_matrices.append(sine_matrices)\n",
    "#     Sine_gradient.append(sine_gradient)\n",
    "sine_matrices = np.load(path_file+'/organize_data/SM_Btin_fcc_bcc_8cd_dhcp_Btin-hd_bct5_hcp_sh_65.npy')\n",
    "sine_Btin = np.asarray(sine_matrices)[:30,0]\n",
    "sine_fcc = np.asarray(sine_matrices)[:30,1]\n",
    "sine_bcc = np.asarray(sine_matrices)[:30,2]\n",
    "sine_8cd = np.asarray(sine_matrices)[:30,3]\n",
    "sine_dhcp = np.asarray(sine_matrices)[:30,4]\n",
    "sine_Btin_hd = np.asarray(sine_matrices)[:30,5]\n",
    "sine_bct5 = np.asarray(sine_matrices)[:30,6]\n",
    "sine_hcp = np.asarray(sine_matrices)[:30,7]\n",
    "sine_sh = np.asarray(sine_matrices)[:30,8]\n",
    "# sine_rand4 = np.asarray(Sine_matrices)[:5,0]\n",
    "# sine_rand8 = np.asarray(Sine_matrices)[:5,1]\n",
    "Matrix = np.vstack((sine_Btin, sine_fcc, sine_bcc, sine_8cd, sine_dhcp, sine_Btin_hd, sine_bct5, sine_hcp, sine_sh)) #, sine_li))\n",
    "\n",
    "\n"
   ]
  },
  {
   "cell_type": "code",
   "execution_count": 22,
   "id": "1313d7a2",
   "metadata": {
    "scrolled": true
   },
   "outputs": [],
   "source": [
    "rho_Btin = []\n",
    "rho_bcc = []\n",
    "rho_8cd = []\n",
    "rho_fcc = []\n",
    "rho_dhcp = []\n",
    "rho_Btin_hd = []\n",
    "rho_bct5 = []\n",
    "rho_hcp = []\n",
    "rho_sh = []\n",
    "for i in np.arange(0,30,1):\n",
    "    ions_Btin    = ase.io.read(path_file+'/ks_calculations/Si_Btin/DATA2/Si'+str(i)+'.in')\n",
    "    ions_bcc     = ase.io.read(path_file+'/ks_calculations/Si_bcc/DATA2/Si'+str(i)+'.in')\n",
    "    ions_8cd     = ase.io.read(path_file+'/ks_calculations/Si_8cd/DATA2/Si'+str(i)+'.in')\n",
    "    ions_fcc     = ase.io.read(path_file+'/ks_calculations/Si_fcc/DATA2/Si'+str(i)+'.in')\n",
    "    ions_dhcp    = ase.io.read(path_file+'/ks_calculations/ks_calculations_test_set/DATA_dhcp/Si_dhcp'+str(i)+'.in')\n",
    "    ions_Btin_hd = ase.io.read(path_file+'/ks_calculations/Transition_Btin_HD/0.5/si_0.5_'+str(i)+'_4_Btin_hd.in')\n",
    "    ions_bct5    = ase.io.read(path_file+'/ks_calculations/ks_calculations_test_set/DATA_bct5/Si_bct5'+str(i)+'.in')\n",
    "    ions_hcp     = ase.io.read(path_file+'/ks_calculations/ks_calculations_test_set/DATA_hcp/Si_hcp'+str(i)+'.in')\n",
    "    ions_sh      = ase.io.read(path_file+'/ks_calculations/ks_calculations_test_set/DATA_sh/Si_sh'+str(i)+'.in')\n",
    "    \n",
    "    rho_Btin.append(ions_Btin.get_global_number_of_atoms()*4/ions_Btin.get_volume())   \n",
    "    rho_bcc.append(ions_bcc.get_global_number_of_atoms()*4/ions_bcc.get_volume())    \n",
    "    rho_8cd.append(ions_8cd.get_global_number_of_atoms()*4/ions_8cd.get_volume())    \n",
    "    rho_fcc.append(ions_fcc.get_global_number_of_atoms()*4/ions_fcc.get_volume())    \n",
    "    rho_dhcp.append(ions_dhcp.get_global_number_of_atoms()*4/ions_dhcp.get_volume())   \n",
    "    rho_Btin_hd.append(ions_Btin_hd.get_global_number_of_atoms()*4/ions_Btin_hd.get_volume())\n",
    "    rho_bct5.append(ions_bct5.get_global_number_of_atoms()*4/ions_bct5.get_volume())\n",
    "    rho_hcp.append(ions_hcp.get_global_number_of_atoms()*4/ions_hcp.get_volume())\n",
    "    rho_sh.append(ions_sh.get_global_number_of_atoms()*4/ions_sh.get_volume())\n",
    "\n",
    "rho = np.hstack((rho_Btin, rho_fcc, rho_bcc, rho_8cd, rho_dhcp, rho_Btin_hd, rho_rand4, rho_rand8, rho_bct5, rho_hcp, rho_sh))\n",
    "\n",
    "## WT KE\n",
    "# rho0_rand4 = np.load(path_file+\"/ks_calculations/random_training/DATA2/rho0_4.npy\")\n",
    "# rho0_rand8 = np.load(path_file+\"/ks_calculations/random_training/DATA2/rho0_8.npy\")\n",
    "# rho0_4_KE = np.zeros(len(rho0_rand4))\n",
    "# rho0_8_KE = np.zeros(len(rho0_rand4))\n",
    "# for i in range(5):\n",
    "#     rho0_4_KE[i]=rho0_rand4[i]\n",
    "#     rho0_8_KE[i]=rho0_rand8[i]\n",
    "rho0_Btin_KE    = np.load(path_file+\"/ks_calculations/Si_Btin/DATA2/rho0.npy\") #\n",
    "rho0_fcc_KE     = np.load(path_file+\"/ks_calculations/Si_fcc/DATA2/rho0.npy\") #\n",
    "rho0_bcc_KE     = np.load(path_file+\"/ks_calculations/Si_bcc/DATA2/rho0.npy\") #\n",
    "rho0_8cd_KE     = np.load(path_file+\"/ks_calculations/Si_8cd/DATA2/rho0.npy\")\n",
    "rho0_dhcp_KE    = np.load(path_file+\"/ks_calculations/Si_dhcp/DATA2/rho0.npy\")\n",
    "rho0_Btin_hd_KE = np.load(path_file+\"/ks_calculations/Transition_Btin_HD/DATA2/rho0.npy\")\n",
    "rho0_bct5_KE    = np.load(path_file+\"/ks_calculations/Si_bct5/DATA2/rho0.npy\")\n",
    "rho0_hcp_KE     = np.load(path_file+\"/ks_calculations/Si_hcp/DATA2/rho0.npy\")\n",
    "rho0_sh_KE      = np.load(path_file+\"/ks_calculations/Si_sh/DATA2/rho0.npy\")\n",
    "\n",
    "## WT TE\n",
    "# rho0_rand4 = np.load(\"/Users/valeria/Documents/aiWT/Model_ML_function/training_set_data/ks_calculations/random_training/DATA2/rho0_4_dTE.npy\")\n",
    "# rho0_rand8 = np.load(\"/Users/valeria/Documents/aiWT/Model_ML_function/training_set_data/ks_calculations/random_training/DATA2/rho0_8_dTE.npy\")\n",
    "# rho0_4_TE  = np.zeros(len(rho0_rand4))\n",
    "# rho0_8_TE  = np.zeros(len(rho0_rand4))\n",
    "# for i in range(len(rho0_rand4)):\n",
    "#     rho0_4_TE[i]=rho0_rand4[i]\n",
    "#     rho0_8_TE[i]=rho0_rand8[i]\n",
    "rho0_Btin_TE    = np.load(path_file+\"/ks_calculations/Si_Btin/DATA2/rho0_dTE.npy\") #\n",
    "rho0_fcc_TE     = np.load(path_file+\"/ks_calculations/Si_fcc/DATA2/rho0_dTE.npy\") #\n",
    "rho0_bcc_TE     = np.load(path_file+\"/ks_calculations/Si_bcc/DATA2/rho0_dTE.npy\") #\n",
    "rho0_8cd_TE     = np.load(path_file+\"/ks_calculations/Si_8cd/DATA2/rho0_dTE.npy\")\n",
    "rho0_dhcp_TE    = np.load(path_file+\"/ks_calculations/Si_dhcp/DATA2/rho0_dTE.npy\")\n",
    "rho0_Btin_hd_TE = np.load(path_file+\"/ks_calculations/Transition_Btin_HD/DATA2/rho0_dTE.npy\")\n",
    "rho0_bct5_TE    = np.load(path_file+\"/ks_calculations/Si_bct5/DATA2/rho0_dTE.npy\")\n",
    "rho0_hcp_TE     = np.load(path_file+\"/ks_calculations/Si_hcp/DATA2/rho0_dTE.npy\")\n",
    "rho0_sh_TE      = np.load(path_file+\"/ks_calculations/Si_sh/DATA2/rho0_dTE.npy\")\n",
    "\n",
    "## WT DEN\n",
    "# rho0_rand4 = np.load(path_file+\"/ks_calculations/random_training/DATA2/rho0_4_dDEN.npy\")\n",
    "# rho0_rand8 = np.load(path_file+\"/ks_calculations/random_training/DATA2/rho0_8_dDEN.npy\")\n",
    "# rho0_4_DEN = np.zeros(len(rho0_rand4))\n",
    "# rho0_8_DEN = np.zeros(len(rho0_rand4))\n",
    "# for i in range(len(rho0_rand4)):\n",
    "#     rho0_4_DEN[i]=rho0_rand4[i]\n",
    "#     rho0_8_DEN[i]=rho0_rand8[i]\n",
    "rho0_Btin_DEN    = np.load(path_file+\"/ks_calculations/Si_Btin/DATA2/rho0_dDEN.npy\") #\n",
    "rho0_fcc_DEN     = np.load(path_file+\"/ks_calculations/Si_fcc/DATA2/rho0_dDEN.npy\") #\n",
    "rho0_bcc_DEN     = np.load(path_file+\"/ks_calculations/Si_bcc/DATA2/rho0_dDEN.npy\") #\n",
    "rho0_8cd_DEN     = np.load(path_file+\"/ks_calculations/Si_8cd/DATA2/rho0_dDEN.npy\")\n",
    "rho0_dhcp_DEN    = np.load(path_file+\"/ks_calculations/Si_dhcp/DATA2/rho0_dDEN.npy\")\n",
    "rho0_Btin_hd_DEN = np.load(path_file+\"/ks_calculations/Transition_Btin_HD/DATA2/rho0_dDEN.npy\")\n",
    "rho0_bct5_DEN    = np.load(path_file+\"/ks_calculations/Si_bct5/DATA2/rho0_dDEN_wt_smooth.npy\")\n",
    "rho0_hcp_DEN     = np.load(path_file+\"/ks_calculations/Si_hcp/DATA2/rho0_dDEN.npy\")\n",
    "rho0_sh_DEN      = np.load(path_file+\"/ks_calculations/Si_sh/DATA2/rho0_dDEN_smooth.npy\")\n",
    "\n",
    "    \n",
    "rho0_TE_wt = np.hstack((rho0_Btin_TE.reshape(30), rho0_fcc_TE.reshape(30), rho0_bcc_TE.reshape(30), rho0_8cd_TE.reshape(30), rho0_dhcp_TE.reshape(30), rho0_Btin_hd_TE.reshape(30), rho0_bct5_TE.reshape(30), rho0_hcp_TE.reshape(30), rho0_sh_TE.reshape(30)))\n",
    "rho0_KE_wt = np.hstack((rho0_Btin_KE, rho0_fcc_KE, rho0_bcc_KE, rho0_8cd_KE.reshape(30), rho0_dhcp_KE.reshape(30), rho0_Btin_hd_KE.reshape(30), rho0_bct5_KE.reshape(30), rho0_hcp_KE.reshape(30), rho0_sh_KE.reshape(30)))\n",
    "rho0_DEN_wt = np.hstack((rho0_Btin_DEN.reshape(30), rho0_fcc_DEN.reshape(30), rho0_bcc_DEN.reshape(30), rho0_8cd_DEN.reshape(30), rho0_dhcp_DEN.reshape(30), rho0_Btin_hd_DEN.reshape(30), rho0_bct5_DEN.reshape(30), rho0_hcp_DEN.reshape(30), rho0_sh_DEN.reshape(30)))\n",
    "\n",
    "\n",
    "# rho0 = np.hstack((rho0_1, rho0_rand4, rho0_rand8))\n",
    "\n"
   ]
  },
  {
   "cell_type": "code",
   "execution_count": null,
   "id": "df11ac33",
   "metadata": {},
   "outputs": [],
   "source": [
    "'/Users/valeria/Documents/aiWT/Final_version/wt/wt/ks_calculations/ks_calculations_test_set/DATA_bct5/\n",
    "'/Users/valeria/Documents/aiWT/Final_version/wt/wt/ks_calculations/ks_calculations_test_set/DATA_bct5'"
   ]
  },
  {
   "cell_type": "code",
   "execution_count": 15,
   "id": "04da8654",
   "metadata": {},
   "outputs": [],
   "source": [
    "rho0_fcc_TE = np.load(path_file+\"/ks_calculations/Si_fcc/rho0_dTE.npy\") #\n"
   ]
  },
  {
   "cell_type": "code",
   "execution_count": 17,
   "id": "6d57dc17",
   "metadata": {},
   "outputs": [
    {
     "data": {
      "text/plain": [
       "'/Users/valeria/Documents/aiWT/Final_version/wt/wt'"
      ]
     },
     "execution_count": 17,
     "metadata": {},
     "output_type": "execute_result"
    }
   ],
   "source": [
    "path_file"
   ]
  },
  {
   "cell_type": "code",
   "execution_count": 16,
   "id": "9730427c",
   "metadata": {},
   "outputs": [
    {
     "data": {
      "text/plain": [
       "array([[0.09673084],\n",
       "       [0.09021482],\n",
       "       [0.08449455],\n",
       "       [0.07952551],\n",
       "       [0.0751474 ],\n",
       "       [0.07119835],\n",
       "       [0.06768235],\n",
       "       [0.06452084],\n",
       "       [0.06163877],\n",
       "       [0.0590039 ],\n",
       "       [0.05640183],\n",
       "       [0.05364946],\n",
       "       [0.05005879],\n",
       "       [0.04647901],\n",
       "       [0.04368379],\n",
       "       [0.04189186],\n",
       "       [0.04072559],\n",
       "       [0.03974306],\n",
       "       [0.03875802],\n",
       "       [0.0377161 ],\n",
       "       [0.03674104],\n",
       "       [0.03577425],\n",
       "       [0.03483485],\n",
       "       [0.03391843],\n",
       "       [0.03304381],\n",
       "       [0.0321998 ],\n",
       "       [0.03140109],\n",
       "       [0.03063086],\n",
       "       [0.02989303],\n",
       "       [0.02919675]])"
      ]
     },
     "execution_count": 16,
     "metadata": {},
     "output_type": "execute_result"
    }
   ],
   "source": [
    "rho0_fcc_TE"
   ]
  },
  {
   "cell_type": "code",
   "execution_count": 11,
   "id": "9d624955",
   "metadata": {},
   "outputs": [
    {
     "name": "stderr",
     "output_type": "stream",
     "text": [
      "/var/folders/9b/gsh5m3sd3j96rq9k2zstrc_40000gn/T/ipykernel_22771/1955311543.py:12: DeprecationWarning: Conversion of an array with ndim > 0 to a scalar is deprecated, and will error in future. Ensure you extract a single element from your array before performing this operation. (Deprecated NumPy 1.25.)\n",
      "  rho0_4_KE_sm[i]=rho0_rand4[i]\n",
      "/var/folders/9b/gsh5m3sd3j96rq9k2zstrc_40000gn/T/ipykernel_22771/1955311543.py:13: DeprecationWarning: Conversion of an array with ndim > 0 to a scalar is deprecated, and will error in future. Ensure you extract a single element from your array before performing this operation. (Deprecated NumPy 1.25.)\n",
      "  rho0_8_KE_sm[i]=rho0_rand8[i]\n",
      "/var/folders/9b/gsh5m3sd3j96rq9k2zstrc_40000gn/T/ipykernel_22771/1955311543.py:29: DeprecationWarning: Conversion of an array with ndim > 0 to a scalar is deprecated, and will error in future. Ensure you extract a single element from your array before performing this operation. (Deprecated NumPy 1.25.)\n",
      "  rho0_4_TE_sm[i]=rho0_rand4[i]\n",
      "/var/folders/9b/gsh5m3sd3j96rq9k2zstrc_40000gn/T/ipykernel_22771/1955311543.py:30: DeprecationWarning: Conversion of an array with ndim > 0 to a scalar is deprecated, and will error in future. Ensure you extract a single element from your array before performing this operation. (Deprecated NumPy 1.25.)\n",
      "  rho0_8_TE_sm[i]=rho0_rand8[i]\n",
      "/var/folders/9b/gsh5m3sd3j96rq9k2zstrc_40000gn/T/ipykernel_22771/1955311543.py:46: DeprecationWarning: Conversion of an array with ndim > 0 to a scalar is deprecated, and will error in future. Ensure you extract a single element from your array before performing this operation. (Deprecated NumPy 1.25.)\n",
      "  rho0_4_DEN_sm[i]=rho0_rand4[i]\n",
      "/var/folders/9b/gsh5m3sd3j96rq9k2zstrc_40000gn/T/ipykernel_22771/1955311543.py:47: DeprecationWarning: Conversion of an array with ndim > 0 to a scalar is deprecated, and will error in future. Ensure you extract a single element from your array before performing this operation. (Deprecated NumPy 1.25.)\n",
      "  rho0_8_DEN_sm[i]=rho0_rand8[i]\n"
     ]
    }
   ],
   "source": [
    "## SM\n",
    "\n",
    "# np.array(rho0_rand4.T)\n",
    "\n",
    "# Data with phases Btin, fcc, bcc, 8cd, dhcp (sd) matrix of 65x65\n",
    "\n",
    "rho0_rand4 = np.load(path_file+\"/ks_calculations/random_training/DATA2/rho0_4.npy\")\n",
    "rho0_rand8 = np.load(path_file+\"/ks_calculations/random_training/DATA2/rho0_8.npy\")\n",
    "rho0_4_KE_sm = np.zeros(len(rho0_rand4))\n",
    "rho0_8_KE_sm = np.zeros(len(rho0_rand4))\n",
    "for i in range(5):\n",
    "    rho0_4_KE_sm[i]=rho0_rand4[i]\n",
    "    rho0_8_KE_sm[i]=rho0_rand8[i]                   \n",
    "rho0_Btin_KE_sm    = np.load(path_file+\"/ks_calculations/Si_Btin/DATA2/rho0.npy\") #\n",
    "rho0_fcc_KE_sm     = np.load(path_file+\"/ks_calculations/Si_fcc/DATA2/rho0.npy\") #\n",
    "rho0_bcc_KE_sm     = np.load(path_file+\"/ks_calculations/Si_bcc/DATA2/rho0.npy\") #\n",
    "rho0_8cd_KE_sm     = np.load(path_file+\"/ks_calculations/Si_8cd/DATA2/rho0.npy\")\n",
    "rho0_dhcp_KE_sm    = np.load(path_file+\"/ks_calculations/Si_dhcp/DATA2/rho0.npy\")\n",
    "rho0_Btin_hd_KE_sm = np.load(path_file+\"/ks_calculations/Transition_Btin_HD/DATA2/rho0.npy\")\n",
    "rho0_bct5_KE_sm    = np.load(path_file+\"/ks_calculations/Si_bct5/DATA2/rho0.npy\")\n",
    "rho0_hcp_KE_sm     = np.load(path_file+\"/ks_calculations/Si_hcp/DATA2/rho0.npy\")\n",
    "rho0_sh_KE_sm      = np.load(path_file+\"/ks_calculations/Si_sh/DATA2/rho0.npy\")\n",
    "\n",
    "rho0_rand4   = np.load(path_file+\"/ks_calculations/random_training/DATA2/rho0_4_dTE_aism.npy\")\n",
    "rho0_rand8   = np.load(path_file+\"/ks_calculations/random_training/DATA2/rho0_8_dTE_aism.npy\")\n",
    "rho0_4_TE_sm = np.zeros(len(rho0_rand4))\n",
    "rho0_8_TE_sm = np.zeros(len(rho0_rand4))\n",
    "for i in range(len(rho0_rand4)):\n",
    "    rho0_4_TE_sm[i]=rho0_rand4[i]\n",
    "    rho0_8_TE_sm[i]=rho0_rand8[i]\n",
    "rho0_Btin_TE_sm    = np.load(path_file+\"/ks_calculations/Si_Btin/DATA2/rho0_dTE_sm.npy\") #\n",
    "rho0_fcc_TE_sm     = np.load(path_file+\"/ks_calculations/Si_fcc/DATA2/rho0_dTE_sm.npy\") #\n",
    "rho0_bcc_TE_sm     = np.load(path_file+\"/ks_calculations/Si_bcc/DATA2/rho0_dTE_sm.npy\") #\n",
    "rho0_8cd_TE_sm     = np.load(path_file+\"/ks_calculations/Si_8cd/DATA2/rho0_dTE_sm.npy\")\n",
    "rho0_dhcp_TE_sm    = np.load(path_file+\"/ks_calculations/Si_dhcp/DATA2/rho0_dTE_aism.npy\")\n",
    "rho0_Btin_hd_TE_sm = np.load(path_file+\"/ks_calculations/Transition_Btin_HD/DATA2/rho0_dTE_aism.npy\")\n",
    "rho0_bct5_TE_sm    = np.load(path_file+\"/ks_calculations/Si_bct5/DATA2/rho0_dTE_sm.npy\")\n",
    "rho0_hcp_TE_sm     = np.load(path_file+\"/ks_calculations/Si_hcp/DATA2/rho0_dTE_sm.npy\")\n",
    "rho0_sh_TE_sm      = np.load(path_file+\"/ks_calculations/Si_sh/DATA2/rho0_dTE_sm.npy\")\n",
    "\n",
    "rho0_rand4 = np.load(path_file+\"/ks_calculations/random_training/DATA2/rho0_4_dDEN_sm.npy\")\n",
    "rho0_rand8 = np.load(path_file+\"/ks_calculations/random_training/DATA2/rho0_8_dDEN_sm.npy\")\n",
    "rho0_4_DEN_sm = np.zeros(len(rho0_rand4))\n",
    "rho0_8_DEN_sm = np.zeros(len(rho0_rand4))\n",
    "for i in range(len(rho0_rand4)):\n",
    "    rho0_4_DEN_sm[i]=rho0_rand4[i]\n",
    "    rho0_8_DEN_sm[i]=rho0_rand8[i]\n",
    "rho0_Btin_DEN_sm    = np.load(path_file+\"/ks_calculations/Si_Btin/DATA2/rho0_dDEN_sm.npy\") #\n",
    "rho0_fcc_DEN_sm     = np.load(path_file+\"/ks_calculations/Si_fcc/DATA2/rho0_dDEN_sm_smooth.npy\") #\n",
    "rho0_bcc_DEN_sm     = np.load(path_file+\"/ks_calculations/Si_bcc/DATA2/rho0_dDEN_sm.npy\") #\n",
    "rho0_8cd_DEN_sm     = np.load(path_file+\"/ks_calculations/Si_8cd/DATA2/rho0_dDEN_sm.npy\")\n",
    "rho0_dhcp_DEN_sm    = np.load(path_file+\"/ks_calculations/Si_dhcp/DATA2/rho0_dDEN_sm.npy\")\n",
    "rho0_Btin_hd_DEN_sm = np.load(path_file+\"/ks_calculations/Transition_Btin_HD/DATA2/rho0_dDEN_sm_smooth.npy\")\n",
    "rho0_bct5_DEN_sm    = np.load(path_file+\"/ks_calculations/Si_bct5/DATA2/rho0_dDEN_sm_smooth.npy\")\n",
    "rho0_hcp_DEN_sm     = np.load(path_file+\"/ks_calculations/Si_hcp/DATA2/rho0_dDEN_sm.npy\")\n",
    "rho0_sh_DEN_sm      = np.load(path_file+\"/ks_calculations/Si_sh/DATA2/rho0_dDEN_sm.npy\")\n",
    "\n",
    "    \n",
    "rho0_TE_sm = np.hstack((rho0_Btin_TE_sm.reshape(30), rho0_fcc_TE_sm.reshape(30), rho0_bcc_TE_sm.reshape(30), rho0_8cd_TE_sm.reshape(30), rho0_dhcp_TE_sm.reshape(30), rho0_Btin_hd_TE_sm.reshape(30), rho0_4_TE_sm, rho0_8_TE_sm, rho0_bct5_TE_sm.reshape(30), rho0_hcp_TE_sm.reshape(30), rho0_sh_TE_sm.reshape(30)))\n",
    "rho0_KE_sm = np.hstack((rho0_Btin_KE_sm.reshape(30), rho0_fcc_KE_sm.reshape(30), rho0_bcc_KE_sm.reshape(30), rho0_8cd_KE_sm.reshape(30), rho0_dhcp_KE_sm.reshape(30), rho0_Btin_hd_KE_sm.reshape(30), rho0_4_KE_sm, rho0_8_KE_sm, rho0_bct5_KE_sm.reshape(30), rho0_hcp_KE_sm.reshape(30), rho0_sh_KE_sm.reshape(30)))\n",
    "rho0_DEN_sm = np.hstack((rho0_Btin_DEN_sm.reshape(30), rho0_fcc_DEN_sm.reshape(30), rho0_bcc_DEN_sm.reshape(30), rho0_8cd_DEN_sm.reshape(30), rho0_dhcp_DEN_sm.reshape(30), rho0_Btin_hd_DEN_sm.reshape(30), rho0_4_DEN_sm, rho0_8_DEN_sm, rho0_bct5_DEN_sm.reshape(30), rho0_hcp_DEN_sm.reshape(30), rho0_sh_DEN_sm.reshape(30)))\n",
    "\n",
    "\n",
    "# rho0 = np.hstack((rho0_1, rho0_rand4, rho0_rand8))\n",
    "\n"
   ]
  },
  {
   "cell_type": "code",
   "execution_count": 25,
   "id": "c4c76606",
   "metadata": {},
   "outputs": [
    {
     "data": {
      "text/plain": [
       "270"
      ]
     },
     "execution_count": 25,
     "metadata": {},
     "output_type": "execute_result"
    }
   ],
   "source": [
    "len(rho0_TE_wt)"
   ]
  },
  {
   "cell_type": "code",
   "execution_count": 27,
   "id": "afccb08a",
   "metadata": {},
   "outputs": [],
   "source": [
    "X_ref = Matrix.reshape(270,65,65)\n",
    "y_KE_wt = np.asarray(rho0_KE_wt)\n",
    "y_TE_wt = np.asarray(rho0_TE_wt)\n",
    "y_DEN_wt = np.asarray(rho0_DEN_wt)\n",
    "# y_KE_sm = np.asarray(rho0_KE_sm)\n",
    "# y_TE_sm = np.asarray(rho0_TE_sm)\n",
    "# y_DEN_sm = np.asarray(rho0_DEN_sm)\n",
    "\n",
    "y = np.asarray(rho)\n",
    "\n",
    "\n",
    "\n",
    "rh0_KE_wt = []\n",
    "rh0_TE_wt = []\n",
    "rh0_DEN_wt= []\n",
    "rh0_KE_sm = []\n",
    "rh0_TE_sm = []\n",
    "rh0_DEN_sm= []\n",
    "\n",
    "rh0_ro = []\n",
    "for j, r0 in enumerate(y_KE_wt):\n",
    "        rho0_matrix_KE_wt = np.zeros((len(X_ref[1])*len(X_ref[1])))\n",
    "        rho0_matrix_TE_wt = np.zeros((len(X_ref[1])*len(X_ref[1])))\n",
    "        rho0_matrix_DEN_wt= np.zeros((len(X_ref[1])*len(X_ref[1])))\n",
    "#         rho0_matrix_KE_sm = np.zeros((len(X_ref[1])*len(X_ref[1])))\n",
    "#         rho0_matrix_TE_sm = np.zeros((len(X_ref[1])*len(X_ref[1])))\n",
    "#         rho0_matrix_DEN_sm= np.zeros((len(X_ref[1])*len(X_ref[1])))\n",
    "        \n",
    "        rho0_matrix_ro = np.zeros((len(X_ref[1])*len(X_ref[1])))\n",
    "        \n",
    "        rho0_matrix_KE_wt[0] = y_KE_wt[j]\n",
    "        rho0_matrix_TE_wt[0] = y_TE_wt[j]\n",
    "        rho0_matrix_DEN_wt[0]= y_DEN_wt[j]\n",
    "        \n",
    "#         rho0_matrix_KE_sm[0] = y_KE_sm[j]\n",
    "#         rho0_matrix_TE_sm[0] = y_TE_sm[j]\n",
    "#         rho0_matrix_DEN_sm[0]= y_DEN_sm[j]\n",
    "        rho0_matrix_ro[0] = y[j]\n",
    "\n",
    "        rh0_KE_wt.append(rho0_matrix_KE_wt)\n",
    "        rh0_TE_wt.append(rho0_matrix_TE_wt)\n",
    "        rh0_DEN_wt.append(rho0_matrix_DEN_wt)\n",
    "#         rh0_KE_sm.append(rho0_matrix_KE_sm)\n",
    "#         rh0_TE_sm.append(rho0_matrix_TE_sm)\n",
    "#         rh0_DEN_sm.append(rho0_matrix_DEN_sm)\n",
    "        rh0_ro.append(rho0_matrix_ro)\n",
    "\n",
    "X = X_ref.reshape(-1, len(X_ref[1])*len(X_ref[1]))\n",
    "y_ke_wt = np.asarray(rh0_KE_wt)\n",
    "y_te_wt = np.asarray(rh0_TE_wt)\n",
    "y_den_wt= np.asarray(rh0_DEN_wt)\n",
    "# y_ke_sm = np.asarray(rh0_KE_sm)\n",
    "# y_te_sm = np.asarray(rh0_TE_sm)\n",
    "# y_den_sm= np.asarray(rh0_DEN_sm)\n",
    "y_ro = np.asarray(rh0_ro)"
   ]
  },
  {
   "cell_type": "code",
   "execution_count": 28,
   "id": "304c6392",
   "metadata": {},
   "outputs": [],
   "source": [
    "import h5py\n",
    "f = h5py.File('Data_phases2.hdf5','w')\n",
    "d = f.create_dataset('Descriptor', data=X)\n",
    "k = f.create_dataset('rho0_KE_wt', data=y_ke_wt)\n",
    "t = f.create_dataset('rho0_TE_wt', data=y_te_wt)\n",
    "p = f.create_dataset('rho0_DEN_wt', data=y_den_wt)\n",
    "\n",
    "# k_sm = f.create_dataset('rho0_KE_sm', data=y_ke_sm)\n",
    "# t_sm = f.create_dataset('rho0_TE_sm', data=y_te_sm)\n",
    "# p_sm = f.create_dataset('rho0_DEN_sm', data=y_den_sm)\n",
    "r = f.create_dataset('rho', data=y_ro)\n",
    "\n",
    "f.close()"
   ]
  },
  {
   "cell_type": "code",
   "execution_count": 17,
   "id": "5089de55",
   "metadata": {},
   "outputs": [],
   "source": [
    "f = h5py.File('Data_phases.hdf5','r')"
   ]
  }
 ],
 "metadata": {
  "kernelspec": {
   "display_name": "Python 3 (ipykernel)",
   "language": "python",
   "name": "python3"
  },
  "language_info": {
   "codemirror_mode": {
    "name": "ipython",
    "version": 3
   },
   "file_extension": ".py",
   "mimetype": "text/x-python",
   "name": "python",
   "nbconvert_exporter": "python",
   "pygments_lexer": "ipython3",
   "version": "3.11.6"
  }
 },
 "nbformat": 4,
 "nbformat_minor": 5
}
