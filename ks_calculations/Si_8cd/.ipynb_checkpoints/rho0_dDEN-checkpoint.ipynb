{
 "cells": [
  {
   "cell_type": "code",
   "execution_count": null,
   "id": "7144d2a3-47ab-42b5-9894-f8f081abb402",
   "metadata": {},
   "outputs": [],
   "source": [
    "import numpy as np\n",
    "from matplotlib import pyplot as plt\n",
    "\n",
    "from ase.io import read\n",
    "from ase.lattice.spacegroup import Spacegroup\n",
    "from ase.lattice.spacegroup import crystal\n",
    "\n",
    "from scipy.optimize import minimize\n",
    "\n",
    "from dftpy.ions import Ions\n",
    "from dftpy.functional import Functional\n",
    "from dftpy.formats import io\n",
    "from dftpy.ions import Ions\n",
    "from dftpy.field import DirectField\n",
    "from dftpy.grid import DirectGrid\n",
    "from dftpy.functional import LocalPseudo, Functional, TotalFunctional, ExternalPotential\n",
    "from dftpy.formats import io\n",
    "from dftpy.math_utils import ecut2nr\n",
    "from dftpy.optimization import Optimization\n",
    "\n",
    "from ase.build import bulk\n"
   ]
  },
  {
   "cell_type": "code",
   "execution_count": null,
   "id": "c6532718-26cf-43cf-ab2b-bae1a66d3882",
   "metadata": {},
   "outputs": [],
   "source": [
    "path_pp='/Users/valeria/Documents/PP/ofpp/EAC/upf/blps/'\n",
    "file='si.lda.upf'\n",
    "PP_list = {'Si': path_pp+file}"
   ]
  },
  {
   "cell_type": "code",
   "execution_count": null,
   "id": "8c3d8e3f-9714-4fba-9b6f-187df3287e38",
   "metadata": {},
   "outputs": [],
   "source": [
    "def min_delta_rho(x0, *args):\n",
    "    rho_ks, ions = args\n",
    "    KE = Functional(type='KEDF',name='WT', rho0=x0)\n",
    "    ions.set_charges(4)\n",
    "    grid = DirectGrid(lattice=ions.cell, nr=[len(rho_ks),len(rho_ks),len(rho_ks[0,0])])\n",
    "    rho_ini = DirectField(grid=grid)\n",
    "    rho_ini[:] = ions.get_ncharges()/ions.cell.volume\n",
    "    PSEUDO = LocalPseudo(grid = grid, ions=ions, PP_list=PP_list, rcut=10)\n",
    "    evaluator = TotalFunctional(KE=KE, XC=XC, HARTREE=HARTREE, PSEUDO=PSEUDO)\n",
    "    optimization_options = {'econv' : 1e-5*ions.nat}\n",
    "    opt = Optimization(EnergyEvaluator=evaluator, optimization_options = optimization_options, \n",
    "                       optimization_method = 'TN')\n",
    "    rho = opt.optimize_rho(guess_rho=rho_ini)\n",
    "    rho_ini[:]=rho\n",
    "    diff = 0.5 * (np.abs(rho - rho_ks)).integral()\n",
    "    print(diff)\n",
    "    return diff"
   ]
  },
  {
   "cell_type": "code",
   "execution_count": null,
   "id": "f9931908-d9b2-478c-b699-e350834b7c91",
   "metadata": {
    "scrolled": true
   },
   "outputs": [],
   "source": [
    "XC = Functional(type='XC',name='LDA')\n",
    "HARTREE = Functional(type='HARTREE')\n",
    "l = np.linspace(0.8, 1.4, 30)\n",
    "delta_rho = []\n",
    "R0 = []\n",
    "vol = []\n",
    "for n in np.arange(0,30,1):\n",
    "    i = int(n)\n",
    "    rho_ks = io.read_density('/Users/Valeria/Documents/aiWT/Model_ML_function/training_set_data/ks_calculations/Si_8cd/DATA2/rho0'+str(i)+'.xsf')\n",
    "    ions = Ions.from_ase(bulk('Si', 'diamond', a=5.43, cubic=True))\n",
    "    cell = ions.get_cell()\n",
    "    ions.set_cell(cell * l[i], scale_atoms=True) \n",
    "    minn = minimize(min_delta_rho, 0.01, args = (rho_ks, ions), method='Powell', bounds=[[0,1]], options={'ftol' : 1e-3})\n",
    "    vol.append(ions.get_volume())\n",
    "    delta_rho.append(minn.fun)\n",
    "    R0.append(minn.x)"
   ]
  },
  {
   "cell_type": "code",
   "execution_count": null,
   "id": "83197e2c-a80e-470f-a101-3d95743642c4",
   "metadata": {},
   "outputs": [],
   "source": [
    "fig, axs = plt.subplots(1,2, figsize=(10,3))\n",
    "im0 = axs[0].plot(np.asarray(vol)*0.529177**3/4,np.asarray(delta_rho)*1/4,'*--')\n",
    "im1 = axs[1].plot(np.asarray(vol)*0.529177**3/4,np.asarray(R0),'*--')\n",
    "axs[0].set_title('Si-\\u03B2$_{tin}$')\n",
    "axs[1].set_title('Si-\\u03B2$_{tin}$')\n",
    "axs[0].set_xlabel('Volume ($\\AA^{3}$)')\n",
    "axs[0].set_ylabel('$\\Delta n(r)$')\n",
    "axs[1].set_xlabel('Volume ($\\AA^{3}$)')\n",
    "axs[1].set_ylabel('$\\u03C1_{0}$')"
   ]
  },
  {
   "cell_type": "code",
   "execution_count": null,
   "id": "c63a381a-be18-4787-a5e1-c903146b4d9b",
   "metadata": {},
   "outputs": [],
   "source": []
  }
 ],
 "metadata": {
  "kernelspec": {
   "display_name": "Python 3 (ipykernel)",
   "language": "python",
   "name": "python3"
  },
  "language_info": {
   "codemirror_mode": {
    "name": "ipython",
    "version": 3
   },
   "file_extension": ".py",
   "mimetype": "text/x-python",
   "name": "python",
   "nbconvert_exporter": "python",
   "pygments_lexer": "ipython3",
   "version": "3.11.5"
  }
 },
 "nbformat": 4,
 "nbformat_minor": 5
}
