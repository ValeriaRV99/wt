{
 "cells": [
  {
   "cell_type": "code",
   "execution_count": 2,
   "id": "da2edab9",
   "metadata": {},
   "outputs": [
    {
     "name": "stderr",
     "output_type": "stream",
     "text": [
      "/opt/homebrew/lib/python3.11/site-packages/ase/lattice/spacegroup.py:5: UserWarning: Moved to ase.spacegroup\n",
      "  warnings.warn('Moved to ase.spacegroup')\n"
     ]
    }
   ],
   "source": [
    "import numpy as np\n",
    "from matplotlib import pyplot as plt\n",
    "\n",
    "from dftpy.ions import Ions\n",
    "from dftpy.functional import Functional\n",
    "from dftpy.formats import io\n",
    "\n",
    "from ase.io import read\n",
    "from ase.lattice.spacegroup import Spacegroup\n",
    "from ase.lattice.spacegroup import crystal\n",
    "\n",
    "from scipy.optimize import minimize"
   ]
  },
  {
   "cell_type": "code",
   "execution_count": 3,
   "id": "5cecd3b9",
   "metadata": {},
   "outputs": [],
   "source": [
    "with open('he.out') as D:\n",
    "    k = [match for match in D if \"Kinetic energy\" in match]\n",
    "KS_ke = str(k).split()[6]\n"
   ]
  },
  {
   "cell_type": "code",
   "execution_count": 4,
   "id": "cf227e4e",
   "metadata": {},
   "outputs": [
    {
     "data": {
      "text/plain": [
       "4.996581918196923"
      ]
     },
     "execution_count": 4,
     "metadata": {},
     "output_type": "execute_result"
    }
   ],
   "source": [
    "float(KS_ke)"
   ]
  },
  {
   "cell_type": "code",
   "execution_count": 5,
   "id": "a3d2147e",
   "metadata": {},
   "outputs": [],
   "source": [
    "def min_energy(x0, *args):\n",
    "        KS_KE, rho = args\n",
    "        KE = Functional(type='KEDF',name='WT', rho0=x0)\n",
    "        OF_KE = KE(rho).energy\n",
    "        diff = np.abs(KS_KE*1/2-OF_KE)\n",
    "        return diff"
   ]
  },
  {
   "cell_type": "code",
   "execution_count": 13,
   "id": "e5c39939",
   "metadata": {},
   "outputs": [],
   "source": [
    "rho = io.read_density('he.xsf')\n",
    "KS_KE = float(KS_ke)\n",
    "minn = minimize(min_energy, 0.1, args = (KS_KE, rho), method='L-BFGS-B', bounds=[[0,1]], options={'ftol' : 1e-4})"
   ]
  },
  {
   "cell_type": "code",
   "execution_count": 14,
   "id": "359763cc",
   "metadata": {},
   "outputs": [
    {
     "data": {
      "text/plain": [
       "(array([0.07137737]), 3.1480399620420485e-08)"
      ]
     },
     "execution_count": 14,
     "metadata": {},
     "output_type": "execute_result"
    }
   ],
   "source": [
    "minn.x, minn.fun"
   ]
  },
  {
   "cell_type": "code",
   "execution_count": 15,
   "id": "6ae5139d",
   "metadata": {
    "scrolled": true
   },
   "outputs": [
    {
     "data": {
      "text/plain": [
       "3.1480399620420485e-08"
      ]
     },
     "execution_count": 15,
     "metadata": {},
     "output_type": "execute_result"
    }
   ],
   "source": [
    "minn.fun"
   ]
  },
  {
   "cell_type": "code",
   "execution_count": 31,
   "id": "8dfa8d2e",
   "metadata": {},
   "outputs": [
    {
     "data": {
      "text/plain": [
       "numpy.ndarray"
      ]
     },
     "execution_count": 31,
     "metadata": {},
     "output_type": "execute_result"
    }
   ],
   "source": [
    "type(minn.x)"
   ]
  },
  {
   "cell_type": "code",
   "execution_count": 33,
   "id": "7b04b03f",
   "metadata": {},
   "outputs": [
    {
     "data": {
      "text/plain": [
       "array(0.00029637)"
      ]
     },
     "execution_count": 33,
     "metadata": {},
     "output_type": "execute_result"
    }
   ],
   "source": [
    "rho.mean()"
   ]
  },
  {
   "cell_type": "code",
   "execution_count": 16,
   "id": "6f708dd6",
   "metadata": {},
   "outputs": [],
   "source": [
    "np.save('rho_KIN', minn.x)"
   ]
  }
 ],
 "metadata": {
  "kernelspec": {
   "display_name": "Python 3 (ipykernel)",
   "language": "python",
   "name": "python3"
  },
  "language_info": {
   "codemirror_mode": {
    "name": "ipython",
    "version": 3
   },
   "file_extension": ".py",
   "mimetype": "text/x-python",
   "name": "python",
   "nbconvert_exporter": "python",
   "pygments_lexer": "ipython3",
   "version": "3.11.8"
  }
 },
 "nbformat": 4,
 "nbformat_minor": 5
}
