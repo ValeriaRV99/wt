{
 "cells": [
  {
   "cell_type": "code",
   "execution_count": 1,
   "id": "2e44caad",
   "metadata": {},
   "outputs": [
    {
     "name": "stderr",
     "output_type": "stream",
     "text": [
      "/opt/homebrew/lib/python3.11/site-packages/ase/lattice/spacegroup.py:5: UserWarning: Moved to ase.spacegroup\n",
      "  warnings.warn('Moved to ase.spacegroup')\n"
     ]
    }
   ],
   "source": [
    "import numpy as np\n",
    "from matplotlib import pyplot as plt\n",
    "\n",
    "import dftpy\n",
    "from dftpy.ions import Ions\n",
    "from dftpy.field import DirectField\n",
    "from dftpy.grid import DirectGrid\n",
    "from dftpy.functional import LocalPseudo, Functional, TotalFunctional, ExternalPotential\n",
    "from dftpy.formats import io\n",
    "from dftpy.math_utils import ecut2nr\n",
    "from dftpy.time_data import TimeData\n",
    "from dftpy.optimization import Optimization\n",
    "from dftpy.mpi import sprint\n",
    "\n",
    "from qepy.calculator import QEpyCalculator \n",
    "from qepy.io import QEInput\n",
    "from qepy.driver import Driver \n",
    "\n",
    "from ase.build import bulk\n",
    "from ase.io.trajectory import Trajectory\n",
    "from ase.io import read\n",
    "from ase.units import kJ\n",
    "from ase.eos import EquationOfState\n",
    "from ase import Atoms\n",
    "from ase.lattice.spacegroup import Spacegroup\n",
    "from ase.lattice.spacegroup import crystal\n",
    "from ase.visualize import view\n",
    "import ase"
   ]
  },
  {
   "cell_type": "code",
   "execution_count": 2,
   "id": "e4a3f777",
   "metadata": {},
   "outputs": [],
   "source": [
    "from scipy.optimize import minimize\n",
    "try:\n",
    "    from mpi4py import MPI\n",
    "    comm=MPI.COMM_WORLD\n",
    "except:\n",
    "    comm=None\n",
    "path_pp='/Users/valeria/Documents/PP/ofpp/EAC/upf/blps/'\n",
    "file1='He.pz-rrkjus_psl.1.0.0.UPF'\n",
    "PP_list = {'He': path_pp+file1}"
   ]
  },
  {
   "cell_type": "code",
   "execution_count": 3,
   "id": "e0a43251",
   "metadata": {},
   "outputs": [],
   "source": [
    "# from ase import Atoms\n",
    "# L = 10.0\n",
    "# He = Atoms('He',\n",
    "#              positions=[[L/2, L / 2, L / 2]],\n",
    "#              cell=[L, L, L])"
   ]
  },
  {
   "cell_type": "code",
   "execution_count": 4,
   "id": "5b049af1",
   "metadata": {},
   "outputs": [],
   "source": [
    "# He.write('he.vasp', format='vasp')"
   ]
  },
  {
   "cell_type": "code",
   "execution_count": 5,
   "id": "edd5dc6b",
   "metadata": {},
   "outputs": [],
   "source": [
    "qe_options = {\n",
    "        '&control': {\n",
    "            'calculation': \"'scf'\",\n",
    "            'prefix': \"'he'\",\n",
    "            'pseudo_dir': \"'/Users/valeria/Documents/PP/nc'\",\n",
    "            'restart_mode': \"'from_scratch'\"},\n",
    "        '&system': {\n",
    "            'ibrav' : 1,\n",
    "            'nat': 1,\n",
    "            'degauss': 0.005,\n",
    "            'ecutwfc': 60,\n",
    "            'nbnd': 4,\n",
    "            'occupations': \"'smearing'\"},\n",
    "        'atomic_species': ['He  4.002602 He.upf'],\n",
    "        'cell_parameters angstrom': ['3.405    0.0000000000000000    0.0000000000000003',\n",
    "                                     '0.0000000000000009    3.405   0.0000000000000003',\n",
    "                                     '0.0000000000000000    0.0000000000000000    3.405'],\n",
    "         'k_points gamma': []}\n",
    "\n"
   ]
  },
  {
   "cell_type": "code",
   "execution_count": 6,
   "id": "f28e5c81",
   "metadata": {},
   "outputs": [
    {
     "data": {
      "text/plain": [
       "{'&control': {'calculation': \"'scf'\",\n",
       "  'prefix': \"'he'\",\n",
       "  'pseudo_dir': \"'/Users/valeria/Documents/PP/nc'\",\n",
       "  'restart_mode': \"'from_scratch'\"},\n",
       " '&system': {'ibrav': 1,\n",
       "  'nat': 1,\n",
       "  'degauss': 0.005,\n",
       "  'ecutwfc': 60,\n",
       "  'nbnd': 4,\n",
       "  'occupations': \"'smearing'\"},\n",
       " 'atomic_species': ['He  4.002602 He.upf'],\n",
       " 'cell_parameters angstrom': ['3.405    0.0000000000000000    0.0000000000000003',\n",
       "  '0.0000000000000009    3.405   0.0000000000000003',\n",
       "  '0.0000000000000000    0.0000000000000000    3.405'],\n",
       " 'k_points gamma': []}"
      ]
     },
     "execution_count": 6,
     "metadata": {},
     "output_type": "execute_result"
    }
   ],
   "source": [
    "qe_options"
   ]
  },
  {
   "cell_type": "code",
   "execution_count": 7,
   "id": "49b63a69",
   "metadata": {},
   "outputs": [],
   "source": [
    "inputfile = 'he.vasp'\n",
    "he = ase.io.read(inputfile, format='vasp')\n",
    "cell = he.get_cell()\n",
    "he.set_cell(cell , scale_atoms=True)\n",
    "qe_options = QEInput.update_atoms(he, qe_options = qe_options,  extrapolation=False)\n",
    "QEInput().write_qe_input(\"he.in\", qe_options=qe_options)\n",
    "driver = Driver('he.in', comm=comm, logfile='he.out')\n",
    "driver.scf()\n",
    "driver.calc_energy()\n",
    "# v_men = driver.get_effective_potential().mean()\n",
    "rho = driver.data2field(driver.get_density())\n",
    "ions = driver.get_dftpy_ions()\n",
    "rho.write('he.xsf', ions=ions)\n",
    "# driver.stop()\n"
   ]
  },
  {
   "cell_type": "code",
   "execution_count": 8,
   "id": "9989ea6b",
   "metadata": {},
   "outputs": [
    {
     "data": {
      "text/plain": [
       "'/Users/valeria/Documents/aiWT/Final_version/wt/wt/ks_calculations/Helium'"
      ]
     },
     "execution_count": 8,
     "metadata": {},
     "output_type": "execute_result"
    }
   ],
   "source": [
    "pwd"
   ]
  },
  {
   "cell_type": "code",
   "execution_count": 8,
   "id": "21e46d1c",
   "metadata": {},
   "outputs": [],
   "source": [
    "wfc = driver.get_wave_function(0,0)[0]\n",
    "den = driver.get_density()"
   ]
  },
  {
   "cell_type": "code",
   "execution_count": 11,
   "id": "7f8de68d",
   "metadata": {},
   "outputs": [],
   "source": [
    "rho2 = wfc * np.conj(wfc)*2/np.size(wfc)/rho.grid.dV"
   ]
  },
  {
   "cell_type": "code",
   "execution_count": 12,
   "id": "7d0eb950",
   "metadata": {},
   "outputs": [
    {
     "data": {
      "text/plain": [
       "[<matplotlib.lines.Line2D at 0x140d8a550>]"
      ]
     },
     "execution_count": 12,
     "metadata": {},
     "output_type": "execute_result"
    },
    {
     "data": {
      "image/png": "[encoded data removed]",
      "text/plain": [
       "<Figure size 640x480 with 1 Axes>"
      ]
     },
     "metadata": {},
     "output_type": "display_data"
    }
   ],
   "source": [
    "plt.plot(den.ravel())\n",
    "plt.plot(rho2.ravel(), alpha=0.6)"
   ]
  },
  {
   "cell_type": "code",
   "execution_count": 31,
   "id": "fa6de6c5",
   "metadata": {},
   "outputs": [
    {
     "data": {
      "text/plain": [
       "(0.8864607844670302-6.719689302377638e-34j)"
      ]
     },
     "execution_count": 31,
     "metadata": {},
     "output_type": "execute_result"
    }
   ],
   "source": [
    "driver.data2field(rho2).integral()/rho.grid.dV"
   ]
  },
  {
   "cell_type": "code",
   "execution_count": 32,
   "id": "858175d5",
   "metadata": {},
   "outputs": [
    {
     "data": {
      "text/plain": [
       "array([2., 0., 0., 0.])"
      ]
     },
     "execution_count": 32,
     "metadata": {},
     "output_type": "execute_result"
    }
   ],
   "source": [
    "driver.get_occupation_numbers()"
   ]
  },
  {
   "cell_type": "code",
   "execution_count": null,
   "id": "a08a2e44",
   "metadata": {},
   "outputs": [],
   "source": []
  }
 ],
 "metadata": {
  "kernelspec": {
   "display_name": "Python 3 (ipykernel)",
   "language": "python",
   "name": "python3"
  },
  "language_info": {
   "codemirror_mode": {
    "name": "ipython",
    "version": 3
   },
   "file_extension": ".py",
   "mimetype": "text/x-python",
   "name": "python",
   "nbconvert_exporter": "python",
   "pygments_lexer": "ipython3",
   "version": "3.11.8"
  }
 },
 "nbformat": 4,
 "nbformat_minor": 5
}
