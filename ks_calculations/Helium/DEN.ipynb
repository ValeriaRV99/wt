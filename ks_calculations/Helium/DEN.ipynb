{
 "cells": [
  {
   "cell_type": "code",
   "execution_count": 15,
   "id": "da2edab9",
   "metadata": {},
   "outputs": [],
   "source": [
    "import numpy as np\n",
    "from matplotlib import pyplot as plt\n",
    "\n",
    "from dftpy.ions import Ions\n",
    "from dftpy.functional import Functional\n",
    "from dftpy.formats import io\n",
    "\n",
    "from ase.io import read\n",
    "from ase.lattice.spacegroup import Spacegroup\n",
    "from ase.lattice.spacegroup import crystal\n",
    "\n",
    "from scipy.optimize import minimize\n",
    "import numpy as np\n",
    "from matplotlib import pyplot as plt\n",
    "\n",
    "from ase.io import read\n",
    "from ase.lattice.spacegroup import Spacegroup\n",
    "from ase.lattice.spacegroup import crystal\n",
    "\n",
    "from scipy.optimize import minimize\n",
    "\n",
    "from dftpy.ions import Ions\n",
    "from dftpy.functional import Functional\n",
    "from dftpy.formats import io\n",
    "from dftpy.ions import Ions\n",
    "from dftpy.field import DirectField\n",
    "from dftpy.grid import DirectGrid\n",
    "from dftpy.functional import LocalPseudo, Functional, TotalFunctional, ExternalPotential\n",
    "from dftpy.formats import io\n",
    "from dftpy.math_utils import ecut2nr\n",
    "from dftpy.optimization import Optimization\n",
    "\n",
    "from ase.build import bulk\n"
   ]
  },
  {
   "cell_type": "code",
   "execution_count": 16,
   "id": "5cecd3b9",
   "metadata": {},
   "outputs": [],
   "source": [
    "with open('he.out') as D:\n",
    "    k = [match for match in D if \"Kinetic energy\" in match]\n",
    "KS_ke = str(k).split()[6]\n"
   ]
  },
  {
   "cell_type": "code",
   "execution_count": 22,
   "id": "8e79dd31",
   "metadata": {},
   "outputs": [],
   "source": [
    "path_pp='/Users/valeria/Documents/PP/psl/'\n",
    "file1='He.pz-rrkjus_psl.1.0.0.UPF'\n",
    "PP_list = {'He': path_pp+file1}"
   ]
  },
  {
   "cell_type": "code",
   "execution_count": 24,
   "id": "b520a3fe",
   "metadata": {},
   "outputs": [],
   "source": [
    "XC = Functional(type='XC',name='LDA')\n",
    "HARTREE = Functional(type='HARTREE')"
   ]
  },
  {
   "cell_type": "code",
   "execution_count": 17,
   "id": "d47d23af",
   "metadata": {},
   "outputs": [],
   "source": [
    "def get_ions(path_file):\n",
    "    inputfile = path_file\n",
    "    ions = read(inputfile, format='vasp')\n",
    "    return ions"
   ]
  },
  {
   "cell_type": "code",
   "execution_count": 18,
   "id": "90906383",
   "metadata": {},
   "outputs": [],
   "source": [
    "material = Ions.from_ase(get_ions('he.vasp'))"
   ]
  },
  {
   "cell_type": "code",
   "execution_count": 32,
   "id": "cf227e4e",
   "metadata": {},
   "outputs": [],
   "source": [
    "def min_delta_rho(x0, *args):\n",
    "    rho_ks, ions = args\n",
    "    KE = Functional(type='KEDF',name='WT', rho0=x0, sigma=0.02)\n",
    "#     ions.set_charges(4)\n",
    "    grid = DirectGrid(lattice=ions.cell, nr=[len(rho_ks),len(rho_ks),len(rho_ks[0,0])])\n",
    "    rho_ini = DirectField(grid=grid)\n",
    "    rho_ini[:] = ions.get_ncharges()/ions.cell.volume \n",
    "    PSEUDO = LocalPseudo(grid = grid, ions=ions, PP_list=PP_list, rcut=10)\n",
    "    evaluator = TotalFunctional(KE=KE, XC=XC, HARTREE=HARTREE, PSEUDO=PSEUDO)\n",
    "    optimization_options = {'econv' : 1e-5*ions.nat}\n",
    "    opt = Optimization(EnergyEvaluator=evaluator, optimization_options = optimization_options, \n",
    "                       optimization_method = 'CG')\n",
    "    rho = opt.optimize_rho(guess_rho=rho_ini)\n",
    "    rho_ini[:]=rho\n",
    "    diff = 0.5 * (np.abs(rho - rho_ks)).integral()\n",
    "    print(diff)\n",
    "    return diff"
   ]
  },
  {
   "cell_type": "code",
   "execution_count": 33,
   "id": "a3d2147e",
   "metadata": {},
   "outputs": [],
   "source": [
    "def min_energy(x0, *args):\n",
    "        KS_KE, rho = args\n",
    "        KE = Functional(type='KEDF',name='WT', rho0=x0)\n",
    "        OF_KE = KE(rho).energy\n",
    "        diff = np.abs(KS_KE*1/2-OF_KE)\n",
    "        return diff"
   ]
  },
  {
   "cell_type": "code",
   "execution_count": 39,
   "id": "e5c39939",
   "metadata": {
    "scrolled": true
   },
   "outputs": [
    {
     "name": "stdout",
     "output_type": "stream",
     "text": [
      "setting key: He -> /Users/valeria/Documents/PP/psl/He.pz-rrkjus_psl.1.0.0.UPF\n",
      "Step    Energy(a.u.)            dE              dP              Nd      Nls     Time(s)         \n",
      "0       -4.120160008539E-01     -4.120160E-01   3.435016E-02    1       1       3.151197E-01    \n",
      "1       -2.061487867697E+00     -1.649472E+00   1.707753E+00    1       5       1.032588E+00    \n",
      "2       -2.156085476765E+00     -9.459761E-02   3.810642E+00    1       3       1.475331E+00    \n",
      "3       -2.191140920429E+00     -3.505544E-02   2.331116E+00    1       2       1.769160E+00    \n",
      "4       -2.234840486539E+00     -4.369957E-02   4.787020E+00    1       2       2.063967E+00    \n",
      "5       -2.295463311922E+00     -6.062283E-02   6.132236E+00    1       2       2.366319E+00    \n",
      "6       -2.362275890876E+00     -6.681258E-02   4.481997E+00    1       1       2.519347E+00    \n",
      "7       -2.420565940429E+00     -5.829005E-02   7.453345E+00    1       1       2.676324E+00    \n",
      "8       -2.487447362198E+00     -6.688142E-02   5.474820E+00    1       1       2.825712E+00    \n",
      "9       -2.553806556677E+00     -6.635919E-02   7.452684E+00    1       1       2.974052E+00    \n",
      "10      -2.604924193873E+00     -5.111764E-02   6.176115E+00    1       1       3.124672E+00    \n",
      "11      -2.654111135707E+00     -4.918694E-02   4.460304E+00    1       2       3.411950E+00    \n",
      "12      -2.695949639585E+00     -4.183850E-02   2.745482E+00    1       2       3.696956E+00    \n",
      "13      -2.720041692491E+00     -2.409205E-02   1.804006E+00    1       2       3.991753E+00    \n",
      "14      -2.738966383708E+00     -1.892469E-02   1.822618E+00    1       1       4.143982E+00    \n",
      "15      -2.752815971354E+00     -1.384959E-02   1.776941E+00    1       1       4.297197E+00    \n",
      "16      -2.765038612648E+00     -1.222264E-02   1.549755E+00    1       1       4.454740E+00    \n",
      "17      -2.776582749263E+00     -1.154414E-02   9.672304E-01    1       2       4.749147E+00    \n",
      "18      -2.785322012372E+00     -8.739263E-03   6.681327E-01    1       2       5.047091E+00    \n",
      "19      -2.791940582063E+00     -6.618570E-03   6.450288E-01    1       1       5.234035E+00    \n",
      "20      -2.797323558123E+00     -5.382976E-03   5.633862E-01    1       1       5.386685E+00    \n",
      "21      -2.802431397779E+00     -5.107840E-03   5.060728E-01    1       1       5.536119E+00    \n",
      "22      -2.807374719097E+00     -4.943321E-03   4.676706E-01    1       1       5.697534E+00    \n",
      "23      -2.812457113747E+00     -5.082395E-03   4.039609E-01    1       1       5.861119E+00    \n",
      "24      -2.816949841679E+00     -4.492728E-03   3.716539E-01    1       1       6.018685E+00    \n",
      "25      -2.820650732182E+00     -3.700891E-03   3.471847E-01    1       1       6.183637E+00    \n",
      "26      -2.824443054655E+00     -3.792322E-03   3.075884E-01    1       1       6.352677E+00    \n"
     ]
    },
    {
     "ename": "KeyboardInterrupt",
     "evalue": "",
     "output_type": "error",
     "traceback": [
      "\u001b[0;31m---------------------------------------------------------------------------\u001b[0m",
      "\u001b[0;31mKeyboardInterrupt\u001b[0m                         Traceback (most recent call last)",
      "Cell \u001b[0;32mIn[39], line 3\u001b[0m\n\u001b[1;32m      1\u001b[0m rho_ks \u001b[38;5;241m=\u001b[39m io\u001b[38;5;241m.\u001b[39mread_density(\u001b[38;5;124m'\u001b[39m\u001b[38;5;124mhe.xsf\u001b[39m\u001b[38;5;124m'\u001b[39m)\n\u001b[1;32m      2\u001b[0m \u001b[38;5;66;03m# KS_KE = float(KS_ke)\u001b[39;00m\n\u001b[0;32m----> 3\u001b[0m minn \u001b[38;5;241m=\u001b[39m \u001b[43mminimize\u001b[49m\u001b[43m(\u001b[49m\u001b[43mmin_delta_rho\u001b[49m\u001b[43m,\u001b[49m\u001b[43m \u001b[49m\u001b[38;5;241;43m1e-4\u001b[39;49m\u001b[43m,\u001b[49m\u001b[43m \u001b[49m\u001b[43margs\u001b[49m\u001b[43m \u001b[49m\u001b[38;5;241;43m=\u001b[39;49m\u001b[43m \u001b[49m\u001b[43m(\u001b[49m\u001b[43mrho_ks\u001b[49m\u001b[43m,\u001b[49m\u001b[43m \u001b[49m\u001b[43mmaterial\u001b[49m\u001b[43m)\u001b[49m\u001b[43m,\u001b[49m\u001b[43m \u001b[49m\u001b[43mmethod\u001b[49m\u001b[38;5;241;43m=\u001b[39;49m\u001b[38;5;124;43m'\u001b[39;49m\u001b[38;5;124;43mL-BFGS-B\u001b[39;49m\u001b[38;5;124;43m'\u001b[39;49m\u001b[43m,\u001b[49m\u001b[43m \u001b[49m\u001b[43mbounds\u001b[49m\u001b[38;5;241;43m=\u001b[39;49m\u001b[43m[\u001b[49m\u001b[43m[\u001b[49m\u001b[38;5;241;43m0\u001b[39;49m\u001b[43m,\u001b[49m\u001b[38;5;241;43m5\u001b[39;49m\u001b[43m]\u001b[49m\u001b[43m]\u001b[49m\u001b[43m,\u001b[49m\u001b[43m \u001b[49m\u001b[43moptions\u001b[49m\u001b[38;5;241;43m=\u001b[39;49m\u001b[43m{\u001b[49m\u001b[38;5;124;43m'\u001b[39;49m\u001b[38;5;124;43mftol\u001b[39;49m\u001b[38;5;124;43m'\u001b[39;49m\u001b[43m \u001b[49m\u001b[43m:\u001b[49m\u001b[43m \u001b[49m\u001b[38;5;241;43m1e-4\u001b[39;49m\u001b[43m}\u001b[49m\u001b[43m)\u001b[49m\n",
      "File \u001b[0;32m/opt/homebrew/lib/python3.11/site-packages/scipy/optimize/_minimize.py:710\u001b[0m, in \u001b[0;36mminimize\u001b[0;34m(fun, x0, args, method, jac, hess, hessp, bounds, constraints, tol, callback, options)\u001b[0m\n\u001b[1;32m    707\u001b[0m     res \u001b[38;5;241m=\u001b[39m _minimize_newtoncg(fun, x0, args, jac, hess, hessp, callback,\n\u001b[1;32m    708\u001b[0m                              \u001b[38;5;241m*\u001b[39m\u001b[38;5;241m*\u001b[39moptions)\n\u001b[1;32m    709\u001b[0m \u001b[38;5;28;01melif\u001b[39;00m meth \u001b[38;5;241m==\u001b[39m \u001b[38;5;124m'\u001b[39m\u001b[38;5;124ml-bfgs-b\u001b[39m\u001b[38;5;124m'\u001b[39m:\n\u001b[0;32m--> 710\u001b[0m     res \u001b[38;5;241m=\u001b[39m \u001b[43m_minimize_lbfgsb\u001b[49m\u001b[43m(\u001b[49m\u001b[43mfun\u001b[49m\u001b[43m,\u001b[49m\u001b[43m \u001b[49m\u001b[43mx0\u001b[49m\u001b[43m,\u001b[49m\u001b[43m \u001b[49m\u001b[43margs\u001b[49m\u001b[43m,\u001b[49m\u001b[43m \u001b[49m\u001b[43mjac\u001b[49m\u001b[43m,\u001b[49m\u001b[43m \u001b[49m\u001b[43mbounds\u001b[49m\u001b[43m,\u001b[49m\n\u001b[1;32m    711\u001b[0m \u001b[43m                           \u001b[49m\u001b[43mcallback\u001b[49m\u001b[38;5;241;43m=\u001b[39;49m\u001b[43mcallback\u001b[49m\u001b[43m,\u001b[49m\u001b[43m \u001b[49m\u001b[38;5;241;43m*\u001b[39;49m\u001b[38;5;241;43m*\u001b[39;49m\u001b[43moptions\u001b[49m\u001b[43m)\u001b[49m\n\u001b[1;32m    712\u001b[0m \u001b[38;5;28;01melif\u001b[39;00m meth \u001b[38;5;241m==\u001b[39m \u001b[38;5;124m'\u001b[39m\u001b[38;5;124mtnc\u001b[39m\u001b[38;5;124m'\u001b[39m:\n\u001b[1;32m    713\u001b[0m     res \u001b[38;5;241m=\u001b[39m _minimize_tnc(fun, x0, args, jac, bounds, callback\u001b[38;5;241m=\u001b[39mcallback,\n\u001b[1;32m    714\u001b[0m                         \u001b[38;5;241m*\u001b[39m\u001b[38;5;241m*\u001b[39moptions)\n",
      "File \u001b[0;32m/opt/homebrew/lib/python3.11/site-packages/scipy/optimize/_lbfgsb_py.py:307\u001b[0m, in \u001b[0;36m_minimize_lbfgsb\u001b[0;34m(fun, x0, args, jac, bounds, disp, maxcor, ftol, gtol, eps, maxfun, maxiter, iprint, callback, maxls, finite_diff_rel_step, **unknown_options)\u001b[0m\n\u001b[1;32m    304\u001b[0m     \u001b[38;5;28;01melse\u001b[39;00m:\n\u001b[1;32m    305\u001b[0m         iprint \u001b[38;5;241m=\u001b[39m disp\n\u001b[0;32m--> 307\u001b[0m sf \u001b[38;5;241m=\u001b[39m \u001b[43m_prepare_scalar_function\u001b[49m\u001b[43m(\u001b[49m\u001b[43mfun\u001b[49m\u001b[43m,\u001b[49m\u001b[43m \u001b[49m\u001b[43mx0\u001b[49m\u001b[43m,\u001b[49m\u001b[43m \u001b[49m\u001b[43mjac\u001b[49m\u001b[38;5;241;43m=\u001b[39;49m\u001b[43mjac\u001b[49m\u001b[43m,\u001b[49m\u001b[43m \u001b[49m\u001b[43margs\u001b[49m\u001b[38;5;241;43m=\u001b[39;49m\u001b[43margs\u001b[49m\u001b[43m,\u001b[49m\u001b[43m \u001b[49m\u001b[43mepsilon\u001b[49m\u001b[38;5;241;43m=\u001b[39;49m\u001b[43meps\u001b[49m\u001b[43m,\u001b[49m\n\u001b[1;32m    308\u001b[0m \u001b[43m                              \u001b[49m\u001b[43mbounds\u001b[49m\u001b[38;5;241;43m=\u001b[39;49m\u001b[43mnew_bounds\u001b[49m\u001b[43m,\u001b[49m\n\u001b[1;32m    309\u001b[0m \u001b[43m                              \u001b[49m\u001b[43mfinite_diff_rel_step\u001b[49m\u001b[38;5;241;43m=\u001b[39;49m\u001b[43mfinite_diff_rel_step\u001b[49m\u001b[43m)\u001b[49m\n\u001b[1;32m    311\u001b[0m func_and_grad \u001b[38;5;241m=\u001b[39m sf\u001b[38;5;241m.\u001b[39mfun_and_grad\n\u001b[1;32m    313\u001b[0m fortran_int \u001b[38;5;241m=\u001b[39m _lbfgsb\u001b[38;5;241m.\u001b[39mtypes\u001b[38;5;241m.\u001b[39mintvar\u001b[38;5;241m.\u001b[39mdtype\n",
      "File \u001b[0;32m/opt/homebrew/lib/python3.11/site-packages/scipy/optimize/_optimize.py:383\u001b[0m, in \u001b[0;36m_prepare_scalar_function\u001b[0;34m(fun, x0, jac, args, bounds, epsilon, finite_diff_rel_step, hess)\u001b[0m\n\u001b[1;32m    379\u001b[0m     bounds \u001b[38;5;241m=\u001b[39m (\u001b[38;5;241m-\u001b[39mnp\u001b[38;5;241m.\u001b[39minf, np\u001b[38;5;241m.\u001b[39minf)\n\u001b[1;32m    381\u001b[0m \u001b[38;5;66;03m# ScalarFunction caches. Reuse of fun(x) during grad\u001b[39;00m\n\u001b[1;32m    382\u001b[0m \u001b[38;5;66;03m# calculation reduces overall function evaluations.\u001b[39;00m\n\u001b[0;32m--> 383\u001b[0m sf \u001b[38;5;241m=\u001b[39m \u001b[43mScalarFunction\u001b[49m\u001b[43m(\u001b[49m\u001b[43mfun\u001b[49m\u001b[43m,\u001b[49m\u001b[43m \u001b[49m\u001b[43mx0\u001b[49m\u001b[43m,\u001b[49m\u001b[43m \u001b[49m\u001b[43margs\u001b[49m\u001b[43m,\u001b[49m\u001b[43m \u001b[49m\u001b[43mgrad\u001b[49m\u001b[43m,\u001b[49m\u001b[43m \u001b[49m\u001b[43mhess\u001b[49m\u001b[43m,\u001b[49m\n\u001b[1;32m    384\u001b[0m \u001b[43m                    \u001b[49m\u001b[43mfinite_diff_rel_step\u001b[49m\u001b[43m,\u001b[49m\u001b[43m \u001b[49m\u001b[43mbounds\u001b[49m\u001b[43m,\u001b[49m\u001b[43m \u001b[49m\u001b[43mepsilon\u001b[49m\u001b[38;5;241;43m=\u001b[39;49m\u001b[43mepsilon\u001b[49m\u001b[43m)\u001b[49m\n\u001b[1;32m    386\u001b[0m \u001b[38;5;28;01mreturn\u001b[39;00m sf\n",
      "File \u001b[0;32m/opt/homebrew/lib/python3.11/site-packages/scipy/optimize/_differentiable_functions.py:158\u001b[0m, in \u001b[0;36mScalarFunction.__init__\u001b[0;34m(self, fun, x0, args, grad, hess, finite_diff_rel_step, finite_diff_bounds, epsilon)\u001b[0m\n\u001b[1;32m    155\u001b[0m     \u001b[38;5;28mself\u001b[39m\u001b[38;5;241m.\u001b[39mf \u001b[38;5;241m=\u001b[39m fun_wrapped(\u001b[38;5;28mself\u001b[39m\u001b[38;5;241m.\u001b[39mx)\n\u001b[1;32m    157\u001b[0m \u001b[38;5;28mself\u001b[39m\u001b[38;5;241m.\u001b[39m_update_fun_impl \u001b[38;5;241m=\u001b[39m update_fun\n\u001b[0;32m--> 158\u001b[0m \u001b[38;5;28;43mself\u001b[39;49m\u001b[38;5;241;43m.\u001b[39;49m\u001b[43m_update_fun\u001b[49m\u001b[43m(\u001b[49m\u001b[43m)\u001b[49m\n\u001b[1;32m    160\u001b[0m \u001b[38;5;66;03m# Gradient evaluation\u001b[39;00m\n\u001b[1;32m    161\u001b[0m \u001b[38;5;28;01mif\u001b[39;00m \u001b[38;5;28mcallable\u001b[39m(grad):\n",
      "File \u001b[0;32m/opt/homebrew/lib/python3.11/site-packages/scipy/optimize/_differentiable_functions.py:251\u001b[0m, in \u001b[0;36mScalarFunction._update_fun\u001b[0;34m(self)\u001b[0m\n\u001b[1;32m    249\u001b[0m \u001b[38;5;28;01mdef\u001b[39;00m \u001b[38;5;21m_update_fun\u001b[39m(\u001b[38;5;28mself\u001b[39m):\n\u001b[1;32m    250\u001b[0m     \u001b[38;5;28;01mif\u001b[39;00m \u001b[38;5;129;01mnot\u001b[39;00m \u001b[38;5;28mself\u001b[39m\u001b[38;5;241m.\u001b[39mf_updated:\n\u001b[0;32m--> 251\u001b[0m         \u001b[38;5;28;43mself\u001b[39;49m\u001b[38;5;241;43m.\u001b[39;49m\u001b[43m_update_fun_impl\u001b[49m\u001b[43m(\u001b[49m\u001b[43m)\u001b[49m\n\u001b[1;32m    252\u001b[0m         \u001b[38;5;28mself\u001b[39m\u001b[38;5;241m.\u001b[39mf_updated \u001b[38;5;241m=\u001b[39m \u001b[38;5;28;01mTrue\u001b[39;00m\n",
      "File \u001b[0;32m/opt/homebrew/lib/python3.11/site-packages/scipy/optimize/_differentiable_functions.py:155\u001b[0m, in \u001b[0;36mScalarFunction.__init__.<locals>.update_fun\u001b[0;34m()\u001b[0m\n\u001b[1;32m    154\u001b[0m \u001b[38;5;28;01mdef\u001b[39;00m \u001b[38;5;21mupdate_fun\u001b[39m():\n\u001b[0;32m--> 155\u001b[0m     \u001b[38;5;28mself\u001b[39m\u001b[38;5;241m.\u001b[39mf \u001b[38;5;241m=\u001b[39m \u001b[43mfun_wrapped\u001b[49m\u001b[43m(\u001b[49m\u001b[38;5;28;43mself\u001b[39;49m\u001b[38;5;241;43m.\u001b[39;49m\u001b[43mx\u001b[49m\u001b[43m)\u001b[49m\n",
      "File \u001b[0;32m/opt/homebrew/lib/python3.11/site-packages/scipy/optimize/_differentiable_functions.py:137\u001b[0m, in \u001b[0;36mScalarFunction.__init__.<locals>.fun_wrapped\u001b[0;34m(x)\u001b[0m\n\u001b[1;32m    133\u001b[0m \u001b[38;5;28mself\u001b[39m\u001b[38;5;241m.\u001b[39mnfev \u001b[38;5;241m+\u001b[39m\u001b[38;5;241m=\u001b[39m \u001b[38;5;241m1\u001b[39m\n\u001b[1;32m    134\u001b[0m \u001b[38;5;66;03m# Send a copy because the user may overwrite it.\u001b[39;00m\n\u001b[1;32m    135\u001b[0m \u001b[38;5;66;03m# Overwriting results in undefined behaviour because\u001b[39;00m\n\u001b[1;32m    136\u001b[0m \u001b[38;5;66;03m# fun(self.x) will change self.x, with the two no longer linked.\u001b[39;00m\n\u001b[0;32m--> 137\u001b[0m fx \u001b[38;5;241m=\u001b[39m \u001b[43mfun\u001b[49m\u001b[43m(\u001b[49m\u001b[43mnp\u001b[49m\u001b[38;5;241;43m.\u001b[39;49m\u001b[43mcopy\u001b[49m\u001b[43m(\u001b[49m\u001b[43mx\u001b[49m\u001b[43m)\u001b[49m\u001b[43m,\u001b[49m\u001b[43m \u001b[49m\u001b[38;5;241;43m*\u001b[39;49m\u001b[43margs\u001b[49m\u001b[43m)\u001b[49m\n\u001b[1;32m    138\u001b[0m \u001b[38;5;66;03m# Make sure the function returns a true scalar\u001b[39;00m\n\u001b[1;32m    139\u001b[0m \u001b[38;5;28;01mif\u001b[39;00m \u001b[38;5;129;01mnot\u001b[39;00m np\u001b[38;5;241m.\u001b[39misscalar(fx):\n",
      "Cell \u001b[0;32mIn[32], line 13\u001b[0m, in \u001b[0;36mmin_delta_rho\u001b[0;34m(x0, *args)\u001b[0m\n\u001b[1;32m     10\u001b[0m optimization_options \u001b[38;5;241m=\u001b[39m {\u001b[38;5;124m'\u001b[39m\u001b[38;5;124meconv\u001b[39m\u001b[38;5;124m'\u001b[39m : \u001b[38;5;241m1e-5\u001b[39m\u001b[38;5;241m*\u001b[39mions\u001b[38;5;241m.\u001b[39mnat}\n\u001b[1;32m     11\u001b[0m opt \u001b[38;5;241m=\u001b[39m Optimization(EnergyEvaluator\u001b[38;5;241m=\u001b[39mevaluator, optimization_options \u001b[38;5;241m=\u001b[39m optimization_options, \n\u001b[1;32m     12\u001b[0m                    optimization_method \u001b[38;5;241m=\u001b[39m \u001b[38;5;124m'\u001b[39m\u001b[38;5;124mCG\u001b[39m\u001b[38;5;124m'\u001b[39m)\n\u001b[0;32m---> 13\u001b[0m rho \u001b[38;5;241m=\u001b[39m \u001b[43mopt\u001b[49m\u001b[38;5;241;43m.\u001b[39;49m\u001b[43moptimize_rho\u001b[49m\u001b[43m(\u001b[49m\u001b[43mguess_rho\u001b[49m\u001b[38;5;241;43m=\u001b[39;49m\u001b[43mrho_ini\u001b[49m\u001b[43m)\u001b[49m\n\u001b[1;32m     14\u001b[0m rho_ini[:]\u001b[38;5;241m=\u001b[39mrho\n\u001b[1;32m     15\u001b[0m diff \u001b[38;5;241m=\u001b[39m \u001b[38;5;241m0.5\u001b[39m \u001b[38;5;241m*\u001b[39m (np\u001b[38;5;241m.\u001b[39mabs(rho \u001b[38;5;241m-\u001b[39m rho_ks))\u001b[38;5;241m.\u001b[39mintegral()\n",
      "File \u001b[0;32m/opt/homebrew/lib/python3.11/site-packages/dftpy/time_data.py:116\u001b[0m, in \u001b[0;36mtimer.<locals>.decorator.<locals>.wrapper\u001b[0;34m(*args, **kwargs)\u001b[0m\n\u001b[1;32m    114\u001b[0m         tag \u001b[38;5;241m=\u001b[39m function\u001b[38;5;241m.\u001b[39m\u001b[38;5;18m__class__\u001b[39m\u001b[38;5;241m.\u001b[39m\u001b[38;5;18m__name__\u001b[39m\n\u001b[1;32m    115\u001b[0m TimeData\u001b[38;5;241m.\u001b[39mBegin(tag)\n\u001b[0;32m--> 116\u001b[0m results \u001b[38;5;241m=\u001b[39m \u001b[43mfunction\u001b[49m\u001b[43m(\u001b[49m\u001b[38;5;241;43m*\u001b[39;49m\u001b[43margs\u001b[49m\u001b[43m,\u001b[49m\u001b[43m \u001b[49m\u001b[38;5;241;43m*\u001b[39;49m\u001b[38;5;241;43m*\u001b[39;49m\u001b[43mkwargs\u001b[49m\u001b[43m)\u001b[49m\n\u001b[1;32m    117\u001b[0m TimeData\u001b[38;5;241m.\u001b[39mEnd(tag)\n\u001b[1;32m    118\u001b[0m \u001b[38;5;28;01mreturn\u001b[39;00m results\n",
      "File \u001b[0;32m/opt/homebrew/lib/python3.11/site-packages/dftpy/optimization/optimization.py:395\u001b[0m, in \u001b[0;36mOptimization.optimize_rho\u001b[0;34m(self, guess_rho, guess_phi, lphi)\u001b[0m\n\u001b[1;32m    393\u001b[0m \u001b[38;5;28;01mif\u001b[39;00m lsfun \u001b[38;5;241m==\u001b[39m \u001b[38;5;124m\"\u001b[39m\u001b[38;5;124mdcsrch\u001b[39m\u001b[38;5;124m\"\u001b[39m:\n\u001b[1;32m    394\u001b[0m     func0 \u001b[38;5;241m=\u001b[39m fun_value_deriv(\u001b[38;5;241m0.0\u001b[39m, func\u001b[38;5;241m=\u001b[39mfunc)\n\u001b[0;32m--> 395\u001b[0m     theta, _, _, task, NumLineSearch, valuederiv \u001b[38;5;241m=\u001b[39m \u001b[43mLineSearchDcsrch2\u001b[49m\u001b[43m(\u001b[49m\n\u001b[1;32m    396\u001b[0m \u001b[43m        \u001b[49m\u001b[43mfun_value_deriv\u001b[49m\u001b[43m,\u001b[49m\n\u001b[1;32m    397\u001b[0m \u001b[43m        \u001b[49m\u001b[43malpha0\u001b[49m\u001b[38;5;241;43m=\u001b[39;49m\u001b[43mtheta\u001b[49m\u001b[43m,\u001b[49m\n\u001b[1;32m    398\u001b[0m \u001b[43m        \u001b[49m\u001b[43mfunc0\u001b[49m\u001b[38;5;241;43m=\u001b[39;49m\u001b[43mfunc0\u001b[49m\u001b[43m,\u001b[49m\n\u001b[1;32m    399\u001b[0m \u001b[43m        \u001b[49m\u001b[43mc1\u001b[49m\u001b[38;5;241;43m=\u001b[39;49m\u001b[43mc1\u001b[49m\u001b[43m,\u001b[49m\n\u001b[1;32m    400\u001b[0m \u001b[43m        \u001b[49m\u001b[43mc2\u001b[49m\u001b[38;5;241;43m=\u001b[39;49m\u001b[43mc2\u001b[49m\u001b[43m,\u001b[49m\n\u001b[1;32m    401\u001b[0m \u001b[43m        \u001b[49m\u001b[43mamax\u001b[49m\u001b[38;5;241;43m=\u001b[39;49m\u001b[43mnp\u001b[49m\u001b[38;5;241;43m.\u001b[39;49m\u001b[43mpi\u001b[49m\u001b[43m,\u001b[49m\n\u001b[1;32m    402\u001b[0m \u001b[43m        \u001b[49m\u001b[43mamin\u001b[49m\u001b[38;5;241;43m=\u001b[39;49m\u001b[38;5;241;43m0.0\u001b[39;49m\u001b[43m,\u001b[49m\n\u001b[1;32m    403\u001b[0m \u001b[43m        \u001b[49m\u001b[43mxtol\u001b[49m\u001b[38;5;241;43m=\u001b[39;49m\u001b[43mxtol\u001b[49m\u001b[43m,\u001b[49m\n\u001b[1;32m    404\u001b[0m \u001b[43m        \u001b[49m\u001b[43mmaxiter\u001b[49m\u001b[38;5;241;43m=\u001b[39;49m\u001b[43mmaxls\u001b[49m\u001b[43m,\u001b[49m\n\u001b[1;32m    405\u001b[0m \u001b[43m    \u001b[49m\u001b[43m)\u001b[49m\n\u001b[1;32m    406\u001b[0m \u001b[38;5;28;01melif\u001b[39;00m lsfun \u001b[38;5;241m==\u001b[39m \u001b[38;5;124m\"\u001b[39m\u001b[38;5;124mdcsrchV\u001b[39m\u001b[38;5;124m\"\u001b[39m:\n\u001b[1;32m    407\u001b[0m     \u001b[38;5;66;03m# func0 = fun_value_deriv(theta)\u001b[39;00m\n\u001b[1;32m    408\u001b[0m     theta \u001b[38;5;241m=\u001b[39m np\u001b[38;5;241m.\u001b[39mzeros(\u001b[38;5;28mself\u001b[39m\u001b[38;5;241m.\u001b[39mnspin)\n",
      "File \u001b[0;32m/opt/homebrew/lib/python3.11/site-packages/dftpy/math_utils.py:92\u001b[0m, in \u001b[0;36mLineSearchDcsrch2\u001b[0;34m(func, alpha0, func0, c1, c2, amax, amin, xtol, maxiter)\u001b[0m\n\u001b[1;32m     90\u001b[0m alists\u001b[38;5;241m.\u001b[39mappend(alpha1)\n\u001b[1;32m     91\u001b[0m \u001b[38;5;28;01mif\u001b[39;00m task[:\u001b[38;5;241m2\u001b[39m] \u001b[38;5;241m==\u001b[39m \u001b[38;5;124mb\u001b[39m\u001b[38;5;124m\"\u001b[39m\u001b[38;5;124mFG\u001b[39m\u001b[38;5;124m\"\u001b[39m:\n\u001b[0;32m---> 92\u001b[0m     func1 \u001b[38;5;241m=\u001b[39m \u001b[43mfunc\u001b[49m\u001b[43m(\u001b[49m\u001b[43malpha1\u001b[49m\u001b[43m)\u001b[49m\n\u001b[1;32m     93\u001b[0m     x1 \u001b[38;5;241m=\u001b[39m func1[\u001b[38;5;241m0\u001b[39m]\n\u001b[1;32m     94\u001b[0m     g1 \u001b[38;5;241m=\u001b[39m func1[\u001b[38;5;241m1\u001b[39m]\n",
      "File \u001b[0;32m/opt/homebrew/lib/python3.11/site-packages/dftpy/optimization/optimization.py:250\u001b[0m, in \u001b[0;36mOptimization.ValueAndDerivative\u001b[0;34m(self, phi, p, theta, Ne, algorithm, vector, func)\u001b[0m\n\u001b[1;32m    248\u001b[0m \u001b[38;5;28;01mif\u001b[39;00m algorithm \u001b[38;5;241m==\u001b[39m \u001b[38;5;124m\"\u001b[39m\u001b[38;5;124mEMM\u001b[39m\u001b[38;5;124m\"\u001b[39m:\n\u001b[1;32m    249\u001b[0m     \u001b[38;5;28;01mif\u001b[39;00m func \u001b[38;5;129;01mis\u001b[39;00m \u001b[38;5;28;01mNone\u001b[39;00m:\n\u001b[0;32m--> 250\u001b[0m         f \u001b[38;5;241m=\u001b[39m \u001b[38;5;28;43mself\u001b[39;49m\u001b[38;5;241;43m.\u001b[39;49m\u001b[43mEnergyEvaluator\u001b[49m\u001b[43m(\u001b[49m\u001b[43mnewrho\u001b[49m\u001b[43m,\u001b[49m\u001b[43m \u001b[49m\u001b[43mcalcType\u001b[49m\u001b[38;5;241;43m=\u001b[39;49m\u001b[43m{\u001b[49m\u001b[38;5;124;43m\"\u001b[39;49m\u001b[38;5;124;43mE\u001b[39;49m\u001b[38;5;124;43m\"\u001b[39;49m\u001b[43m,\u001b[49m\u001b[38;5;124;43m\"\u001b[39;49m\u001b[38;5;124;43mV\u001b[39;49m\u001b[38;5;124;43m\"\u001b[39;49m\u001b[43m}\u001b[49m\u001b[43m,\u001b[49m\u001b[43m \u001b[49m\u001b[43mphi\u001b[49m\u001b[43m \u001b[49m\u001b[38;5;241;43m=\u001b[39;49m\u001b[43m \u001b[49m\u001b[43mnewphi\u001b[49m\u001b[43m,\u001b[49m\u001b[43m \u001b[49m\u001b[43mlphi\u001b[49m\u001b[43m \u001b[49m\u001b[38;5;241;43m=\u001b[39;49m\u001b[43m \u001b[49m\u001b[38;5;28;43mself\u001b[39;49m\u001b[38;5;241;43m.\u001b[39;49m\u001b[43mlphi\u001b[49m\u001b[43m)\u001b[49m\n\u001b[1;32m    251\u001b[0m     value \u001b[38;5;241m=\u001b[39m f\u001b[38;5;241m.\u001b[39menergy\n\u001b[1;32m    252\u001b[0m \u001b[38;5;28;01melse\u001b[39;00m:  \u001b[38;5;66;03m# RMM\u001b[39;00m\n",
      "File \u001b[0;32m/opt/homebrew/lib/python3.11/site-packages/dftpy/functional/abstract_functional.py:23\u001b[0m, in \u001b[0;36mAbstractFunctional.__call__\u001b[0;34m(self, rho, *args, **kwargs)\u001b[0m\n\u001b[1;32m     22\u001b[0m \u001b[38;5;28;01mdef\u001b[39;00m \u001b[38;5;21m__call__\u001b[39m(\u001b[38;5;28mself\u001b[39m, rho, \u001b[38;5;241m*\u001b[39margs, \u001b[38;5;241m*\u001b[39m\u001b[38;5;241m*\u001b[39mkwargs):\n\u001b[0;32m---> 23\u001b[0m     \u001b[38;5;28;01mreturn\u001b[39;00m \u001b[38;5;28;43mself\u001b[39;49m\u001b[38;5;241;43m.\u001b[39;49m\u001b[43mcompute\u001b[49m\u001b[43m(\u001b[49m\u001b[43mrho\u001b[49m\u001b[43m,\u001b[49m\u001b[43m \u001b[49m\u001b[38;5;241;43m*\u001b[39;49m\u001b[43margs\u001b[49m\u001b[43m,\u001b[49m\u001b[43m \u001b[49m\u001b[38;5;241;43m*\u001b[39;49m\u001b[38;5;241;43m*\u001b[39;49m\u001b[43mkwargs\u001b[49m\u001b[43m)\u001b[49m\n",
      "File \u001b[0;32m/opt/homebrew/lib/python3.11/site-packages/dftpy/functional/total_functional.py:108\u001b[0m, in \u001b[0;36mTotalFunctional.compute\u001b[0;34m(self, rho, calcType, **kwargs)\u001b[0m\n\u001b[1;32m    107\u001b[0m \u001b[38;5;28;01mdef\u001b[39;00m \u001b[38;5;21mcompute\u001b[39m(\u001b[38;5;28mself\u001b[39m, rho, calcType\u001b[38;5;241m=\u001b[39m{\u001b[38;5;124m\"\u001b[39m\u001b[38;5;124mE\u001b[39m\u001b[38;5;124m\"\u001b[39m, \u001b[38;5;124m\"\u001b[39m\u001b[38;5;124mV\u001b[39m\u001b[38;5;124m\"\u001b[39m}, \u001b[38;5;241m*\u001b[39m\u001b[38;5;241m*\u001b[39mkwargs):\n\u001b[0;32m--> 108\u001b[0m     Obj \u001b[38;5;241m=\u001b[39m \u001b[38;5;28;43mself\u001b[39;49m\u001b[38;5;241;43m.\u001b[39;49m\u001b[43mget_energy_potential\u001b[49m\u001b[43m(\u001b[49m\u001b[43mrho\u001b[49m\u001b[43m,\u001b[49m\u001b[43m \u001b[49m\u001b[43mcalcType\u001b[49m\u001b[38;5;241;43m=\u001b[39;49m\u001b[43m{\u001b[49m\u001b[38;5;124;43m\"\u001b[39;49m\u001b[38;5;124;43mE\u001b[39;49m\u001b[38;5;124;43m\"\u001b[39;49m\u001b[43m,\u001b[49m\u001b[43m \u001b[49m\u001b[38;5;124;43m\"\u001b[39;49m\u001b[38;5;124;43mV\u001b[39;49m\u001b[38;5;124;43m\"\u001b[39;49m\u001b[43m}\u001b[49m\u001b[43m,\u001b[49m\u001b[43m \u001b[49m\u001b[38;5;241;43m*\u001b[39;49m\u001b[38;5;241;43m*\u001b[39;49m\u001b[43mkwargs\u001b[49m\u001b[43m)\u001b[49m\n\u001b[1;32m    109\u001b[0m     \u001b[38;5;28;01mreturn\u001b[39;00m Obj\n",
      "File \u001b[0;32m/opt/homebrew/lib/python3.11/site-packages/dftpy/functional/total_functional.py:131\u001b[0m, in \u001b[0;36mTotalFunctional.get_energy_potential\u001b[0;34m(self, rho, calcType, split, **kwargs)\u001b[0m\n\u001b[1;32m    129\u001b[0m             energy_potential[\u001b[38;5;124m\"\u001b[39m\u001b[38;5;124mTOTAL\u001b[39m\u001b[38;5;124m\"\u001b[39m] \u001b[38;5;241m+\u001b[39m\u001b[38;5;241m=\u001b[39m results\n\u001b[1;32m    130\u001b[0m     \u001b[38;5;28;01melse\u001b[39;00m :\n\u001b[0;32m--> 131\u001b[0m         results \u001b[38;5;241m=\u001b[39m \u001b[43mfunc\u001b[49m\u001b[43m(\u001b[49m\u001b[43mrho\u001b[49m\u001b[43m,\u001b[49m\u001b[43m \u001b[49m\u001b[43mcalcType\u001b[49m\u001b[38;5;241;43m=\u001b[39;49m\u001b[43mcalcType\u001b[49m\u001b[43m,\u001b[49m\u001b[43m \u001b[49m\u001b[38;5;241;43m*\u001b[39;49m\u001b[38;5;241;43m*\u001b[39;49m\u001b[43mkwargs\u001b[49m\u001b[43m)\u001b[49m\n\u001b[1;32m    132\u001b[0m         energy_potential[\u001b[38;5;124m\"\u001b[39m\u001b[38;5;124mTOTAL\u001b[39m\u001b[38;5;124m\"\u001b[39m] \u001b[38;5;241m+\u001b[39m\u001b[38;5;241m=\u001b[39m results\n\u001b[1;32m    133\u001b[0m \u001b[38;5;66;03m#\u001b[39;00m\n",
      "File \u001b[0;32m/opt/homebrew/lib/python3.11/site-packages/dftpy/functional/abstract_functional.py:23\u001b[0m, in \u001b[0;36mAbstractFunctional.__call__\u001b[0;34m(self, rho, *args, **kwargs)\u001b[0m\n\u001b[1;32m     22\u001b[0m \u001b[38;5;28;01mdef\u001b[39;00m \u001b[38;5;21m__call__\u001b[39m(\u001b[38;5;28mself\u001b[39m, rho, \u001b[38;5;241m*\u001b[39margs, \u001b[38;5;241m*\u001b[39m\u001b[38;5;241m*\u001b[39mkwargs):\n\u001b[0;32m---> 23\u001b[0m     \u001b[38;5;28;01mreturn\u001b[39;00m \u001b[38;5;28;43mself\u001b[39;49m\u001b[38;5;241;43m.\u001b[39;49m\u001b[43mcompute\u001b[49m\u001b[43m(\u001b[49m\u001b[43mrho\u001b[49m\u001b[43m,\u001b[49m\u001b[43m \u001b[49m\u001b[38;5;241;43m*\u001b[39;49m\u001b[43margs\u001b[49m\u001b[43m,\u001b[49m\u001b[43m \u001b[49m\u001b[38;5;241;43m*\u001b[39;49m\u001b[38;5;241;43m*\u001b[39;49m\u001b[43mkwargs\u001b[49m\u001b[43m)\u001b[49m\n",
      "File \u001b[0;32m/opt/homebrew/lib/python3.11/site-packages/dftpy/functional/kedf/__init__.py:157\u001b[0m, in \u001b[0;36mKEDF.compute\u001b[0;34m(self, density, calcType, name, kedf, split, **kwargs)\u001b[0m\n\u001b[1;32m    154\u001b[0m \u001b[38;5;28;01mif\u001b[39;00m func \u001b[38;5;129;01mis\u001b[39;00m \u001b[38;5;28;01mNone\u001b[39;00m :\n\u001b[1;32m    155\u001b[0m     \u001b[38;5;28;01mraise\u001b[39;00m \u001b[38;5;167;01mAttributeError\u001b[39;00m(\u001b[38;5;124m\"\u001b[39m\u001b[38;5;132;01m%s\u001b[39;00m\u001b[38;5;124m KEDF to be implemented\u001b[39m\u001b[38;5;124m\"\u001b[39m \u001b[38;5;241m%\u001b[39m name)\n\u001b[0;32m--> 157\u001b[0m out \u001b[38;5;241m=\u001b[39m \u001b[43mfunc\u001b[49m\u001b[43m(\u001b[49m\u001b[43mrho\u001b[49m\u001b[43m,\u001b[49m\u001b[43m \u001b[49m\u001b[43mcalcType\u001b[49m\u001b[38;5;241;43m=\u001b[39;49m\u001b[43mcalcType\u001b[49m\u001b[43m,\u001b[49m\u001b[43m \u001b[49m\u001b[43mke_kernel_saved\u001b[49m\u001b[38;5;241;43m=\u001b[39;49m\u001b[38;5;28;43mself\u001b[39;49m\u001b[38;5;241;43m.\u001b[39;49m\u001b[43mke_kernel_saved\u001b[49m\u001b[43m,\u001b[49m\u001b[43m \u001b[49m\u001b[38;5;241;43m*\u001b[39;49m\u001b[38;5;241;43m*\u001b[39;49m\u001b[43moptions\u001b[49m\u001b[43m)\u001b[49m\n\u001b[1;32m    159\u001b[0m \u001b[38;5;28;01mif\u001b[39;00m \u001b[38;5;129;01mnot\u001b[39;00m split: key \u001b[38;5;241m=\u001b[39m \u001b[38;5;124m'\u001b[39m\u001b[38;5;124mKEDF\u001b[39m\u001b[38;5;124m'\u001b[39m\n\u001b[1;32m    160\u001b[0m \u001b[38;5;28;01mif\u001b[39;00m key \u001b[38;5;129;01mnot\u001b[39;00m \u001b[38;5;129;01min\u001b[39;00m functional :\n",
      "File \u001b[0;32m/opt/homebrew/lib/python3.11/site-packages/dftpy/time_data.py:116\u001b[0m, in \u001b[0;36mtimer.<locals>.decorator.<locals>.wrapper\u001b[0;34m(*args, **kwargs)\u001b[0m\n\u001b[1;32m    114\u001b[0m         tag \u001b[38;5;241m=\u001b[39m function\u001b[38;5;241m.\u001b[39m\u001b[38;5;18m__class__\u001b[39m\u001b[38;5;241m.\u001b[39m\u001b[38;5;18m__name__\u001b[39m\n\u001b[1;32m    115\u001b[0m TimeData\u001b[38;5;241m.\u001b[39mBegin(tag)\n\u001b[0;32m--> 116\u001b[0m results \u001b[38;5;241m=\u001b[39m \u001b[43mfunction\u001b[49m\u001b[43m(\u001b[49m\u001b[38;5;241;43m*\u001b[39;49m\u001b[43margs\u001b[49m\u001b[43m,\u001b[49m\u001b[43m \u001b[49m\u001b[38;5;241;43m*\u001b[39;49m\u001b[38;5;241;43m*\u001b[39;49m\u001b[43mkwargs\u001b[49m\u001b[43m)\u001b[49m\n\u001b[1;32m    117\u001b[0m TimeData\u001b[38;5;241m.\u001b[39mEnd(tag)\n\u001b[1;32m    118\u001b[0m \u001b[38;5;28;01mreturn\u001b[39;00m results\n",
      "File \u001b[0;32m/opt/homebrew/lib/python3.11/site-packages/dftpy/functional/kedf/vw.py:116\u001b[0m, in \u001b[0;36mvW\u001b[0;34m(rho, y, sigma, calcType, split, **kwargs)\u001b[0m\n\u001b[1;32m    114\u001b[0m \u001b[38;5;129m@timer\u001b[39m()\n\u001b[1;32m    115\u001b[0m \u001b[38;5;28;01mdef\u001b[39;00m \u001b[38;5;21mvW\u001b[39m(rho, y\u001b[38;5;241m=\u001b[39m\u001b[38;5;241m1.0\u001b[39m, sigma\u001b[38;5;241m=\u001b[39m\u001b[38;5;28;01mNone\u001b[39;00m, calcType\u001b[38;5;241m=\u001b[39m{\u001b[38;5;124m\"\u001b[39m\u001b[38;5;124mE\u001b[39m\u001b[38;5;124m\"\u001b[39m, \u001b[38;5;124m\"\u001b[39m\u001b[38;5;124mV\u001b[39m\u001b[38;5;124m\"\u001b[39m}, split\u001b[38;5;241m=\u001b[39m\u001b[38;5;28;01mFalse\u001b[39;00m, \u001b[38;5;241m*\u001b[39m\u001b[38;5;241m*\u001b[39mkwargs):\n\u001b[0;32m--> 116\u001b[0m     pot \u001b[38;5;241m=\u001b[39m \u001b[43mvonWeizsackerPotential\u001b[49m\u001b[43m(\u001b[49m\u001b[43mrho\u001b[49m\u001b[43m,\u001b[49m\u001b[43m \u001b[49m\u001b[43msigma\u001b[49m\u001b[43m,\u001b[49m\u001b[43m \u001b[49m\u001b[38;5;241;43m*\u001b[39;49m\u001b[38;5;241;43m*\u001b[39;49m\u001b[43mkwargs\u001b[49m\u001b[43m)\u001b[49m\n\u001b[1;32m    117\u001b[0m     OutFunctional \u001b[38;5;241m=\u001b[39m FunctionalOutput(name\u001b[38;5;241m=\u001b[39m\u001b[38;5;124m\"\u001b[39m\u001b[38;5;124mvW\u001b[39m\u001b[38;5;124m\"\u001b[39m)\n\u001b[1;32m    118\u001b[0m     \u001b[38;5;28;01mif\u001b[39;00m \u001b[38;5;124m\"\u001b[39m\u001b[38;5;124mE\u001b[39m\u001b[38;5;124m\"\u001b[39m \u001b[38;5;129;01min\u001b[39;00m calcType:\n",
      "File \u001b[0;32m/opt/homebrew/lib/python3.11/site-packages/dftpy/functional/kedf/vw.py:48\u001b[0m, in \u001b[0;36mvonWeizsackerPotential\u001b[0;34m(rho, sigma, phi, lphi, **kwargs)\u001b[0m\n\u001b[1;32m     46\u001b[0m     n2_sq_dens \u001b[38;5;241m=\u001b[39m sq_dens\u001b[38;5;241m.\u001b[39mfft() \u001b[38;5;241m*\u001b[39m gg\n\u001b[1;32m     47\u001b[0m \u001b[38;5;28;01melse\u001b[39;00m:\n\u001b[0;32m---> 48\u001b[0m     n2_sq_dens \u001b[38;5;241m=\u001b[39m \u001b[43msq_dens\u001b[49m\u001b[38;5;241;43m.\u001b[39;49m\u001b[43mfft\u001b[49m\u001b[43m(\u001b[49m\u001b[43m)\u001b[49m \u001b[38;5;241m*\u001b[39m np\u001b[38;5;241m.\u001b[39mexp(\u001b[38;5;241m-\u001b[39mgg \u001b[38;5;241m*\u001b[39m (sigma) \u001b[38;5;241m*\u001b[39m\u001b[38;5;241m*\u001b[39m \u001b[38;5;241m2\u001b[39m \u001b[38;5;241m/\u001b[39m \u001b[38;5;241m4.0\u001b[39m) \u001b[38;5;241m*\u001b[39m gg\n\u001b[1;32m     49\u001b[0m a \u001b[38;5;241m=\u001b[39m n2_sq_dens\u001b[38;5;241m.\u001b[39mifft(force_real\u001b[38;5;241m=\u001b[39m\u001b[38;5;28;01mTrue\u001b[39;00m)\n\u001b[1;32m     50\u001b[0m a \u001b[38;5;241m*\u001b[39m\u001b[38;5;241m=\u001b[39m \u001b[38;5;241m0.5\u001b[39m\n",
      "File \u001b[0;32m/opt/homebrew/lib/python3.11/site-packages/dftpy/time_data.py:116\u001b[0m, in \u001b[0;36mtimer.<locals>.decorator.<locals>.wrapper\u001b[0;34m(*args, **kwargs)\u001b[0m\n\u001b[1;32m    114\u001b[0m         tag \u001b[38;5;241m=\u001b[39m function\u001b[38;5;241m.\u001b[39m\u001b[38;5;18m__class__\u001b[39m\u001b[38;5;241m.\u001b[39m\u001b[38;5;18m__name__\u001b[39m\n\u001b[1;32m    115\u001b[0m TimeData\u001b[38;5;241m.\u001b[39mBegin(tag)\n\u001b[0;32m--> 116\u001b[0m results \u001b[38;5;241m=\u001b[39m \u001b[43mfunction\u001b[49m\u001b[43m(\u001b[49m\u001b[38;5;241;43m*\u001b[39;49m\u001b[43margs\u001b[49m\u001b[43m,\u001b[49m\u001b[43m \u001b[49m\u001b[38;5;241;43m*\u001b[39;49m\u001b[38;5;241;43m*\u001b[39;49m\u001b[43mkwargs\u001b[49m\u001b[43m)\u001b[49m\n\u001b[1;32m    117\u001b[0m TimeData\u001b[38;5;241m.\u001b[39mEnd(tag)\n\u001b[1;32m    118\u001b[0m \u001b[38;5;28;01mreturn\u001b[39;00m results\n",
      "File \u001b[0;32m/opt/homebrew/lib/python3.11/site-packages/dftpy/field.py:381\u001b[0m, in \u001b[0;36mDirectField.fft\u001b[0;34m(self)\u001b[0m\n\u001b[1;32m    379\u001b[0m reciprocal_grid \u001b[38;5;241m=\u001b[39m \u001b[38;5;28mself\u001b[39m\u001b[38;5;241m.\u001b[39mgrid\u001b[38;5;241m.\u001b[39mget_reciprocal()\n\u001b[1;32m    380\u001b[0m \u001b[38;5;28;01mif\u001b[39;00m \u001b[38;5;28mself\u001b[39m\u001b[38;5;241m.\u001b[39mrank \u001b[38;5;241m==\u001b[39m \u001b[38;5;241m1\u001b[39m:\n\u001b[0;32m--> 381\u001b[0m     griddata_3d \u001b[38;5;241m=\u001b[39m \u001b[38;5;28;43mself\u001b[39;49m\u001b[38;5;241;43m.\u001b[39;49m\u001b[43mfft_object\u001b[49m\u001b[43m(\u001b[49m\u001b[38;5;28;43mself\u001b[39;49m\u001b[43m)\u001b[49m \u001b[38;5;241m*\u001b[39m \u001b[38;5;28mself\u001b[39m\u001b[38;5;241m.\u001b[39mgrid\u001b[38;5;241m.\u001b[39mdV\n\u001b[1;32m    382\u001b[0m \u001b[38;5;28;01melse\u001b[39;00m:\n\u001b[1;32m    383\u001b[0m     nr \u001b[38;5;241m=\u001b[39m \u001b[38;5;28mself\u001b[39m\u001b[38;5;241m.\u001b[39mrank, \u001b[38;5;241m*\u001b[39mreciprocal_grid\u001b[38;5;241m.\u001b[39mnr\n",
      "File \u001b[0;32m/opt/homebrew/lib/python3.11/site-packages/numpy/fft/_pocketfft.py:815\u001b[0m, in \u001b[0;36mfftn\u001b[0;34m(a, s, axes, norm)\u001b[0m\n\u001b[1;32m    715\u001b[0m \u001b[38;5;129m@array_function_dispatch\u001b[39m(_fftn_dispatcher)\n\u001b[1;32m    716\u001b[0m \u001b[38;5;28;01mdef\u001b[39;00m \u001b[38;5;21mfftn\u001b[39m(a, s\u001b[38;5;241m=\u001b[39m\u001b[38;5;28;01mNone\u001b[39;00m, axes\u001b[38;5;241m=\u001b[39m\u001b[38;5;28;01mNone\u001b[39;00m, norm\u001b[38;5;241m=\u001b[39m\u001b[38;5;28;01mNone\u001b[39;00m):\n\u001b[1;32m    717\u001b[0m \u001b[38;5;250m    \u001b[39m\u001b[38;5;124;03m\"\"\"\u001b[39;00m\n\u001b[1;32m    718\u001b[0m \u001b[38;5;124;03m    Compute the N-dimensional discrete Fourier Transform.\u001b[39;00m\n\u001b[1;32m    719\u001b[0m \n\u001b[0;32m   (...)\u001b[0m\n\u001b[1;32m    813\u001b[0m \n\u001b[1;32m    814\u001b[0m \u001b[38;5;124;03m    \"\"\"\u001b[39;00m\n\u001b[0;32m--> 815\u001b[0m     \u001b[38;5;28;01mreturn\u001b[39;00m \u001b[43m_raw_fftnd\u001b[49m\u001b[43m(\u001b[49m\u001b[43ma\u001b[49m\u001b[43m,\u001b[49m\u001b[43m \u001b[49m\u001b[43ms\u001b[49m\u001b[43m,\u001b[49m\u001b[43m \u001b[49m\u001b[43maxes\u001b[49m\u001b[43m,\u001b[49m\u001b[43m \u001b[49m\u001b[43mfft\u001b[49m\u001b[43m,\u001b[49m\u001b[43m \u001b[49m\u001b[43mnorm\u001b[49m\u001b[43m)\u001b[49m\n",
      "File \u001b[0;32m/opt/homebrew/lib/python3.11/site-packages/numpy/fft/_pocketfft.py:707\u001b[0m, in \u001b[0;36m_raw_fftnd\u001b[0;34m(a, s, axes, function, norm)\u001b[0m\n\u001b[1;32m    705\u001b[0m itl\u001b[38;5;241m.\u001b[39mreverse()\n\u001b[1;32m    706\u001b[0m \u001b[38;5;28;01mfor\u001b[39;00m ii \u001b[38;5;129;01min\u001b[39;00m itl:\n\u001b[0;32m--> 707\u001b[0m     a \u001b[38;5;241m=\u001b[39m \u001b[43mfunction\u001b[49m\u001b[43m(\u001b[49m\u001b[43ma\u001b[49m\u001b[43m,\u001b[49m\u001b[43m \u001b[49m\u001b[43mn\u001b[49m\u001b[38;5;241;43m=\u001b[39;49m\u001b[43ms\u001b[49m\u001b[43m[\u001b[49m\u001b[43mii\u001b[49m\u001b[43m]\u001b[49m\u001b[43m,\u001b[49m\u001b[43m \u001b[49m\u001b[43maxis\u001b[49m\u001b[38;5;241;43m=\u001b[39;49m\u001b[43maxes\u001b[49m\u001b[43m[\u001b[49m\u001b[43mii\u001b[49m\u001b[43m]\u001b[49m\u001b[43m,\u001b[49m\u001b[43m \u001b[49m\u001b[43mnorm\u001b[49m\u001b[38;5;241;43m=\u001b[39;49m\u001b[43mnorm\u001b[49m\u001b[43m)\u001b[49m\n\u001b[1;32m    708\u001b[0m \u001b[38;5;28;01mreturn\u001b[39;00m a\n",
      "File \u001b[0;32m/opt/homebrew/lib/python3.11/site-packages/numpy/fft/_pocketfft.py:215\u001b[0m, in \u001b[0;36mfft\u001b[0;34m(a, n, axis, norm)\u001b[0m\n\u001b[1;32m    213\u001b[0m     n \u001b[38;5;241m=\u001b[39m a\u001b[38;5;241m.\u001b[39mshape[axis]\n\u001b[1;32m    214\u001b[0m inv_norm \u001b[38;5;241m=\u001b[39m _get_forward_norm(n, norm)\n\u001b[0;32m--> 215\u001b[0m output \u001b[38;5;241m=\u001b[39m \u001b[43m_raw_fft\u001b[49m\u001b[43m(\u001b[49m\u001b[43ma\u001b[49m\u001b[43m,\u001b[49m\u001b[43m \u001b[49m\u001b[43mn\u001b[49m\u001b[43m,\u001b[49m\u001b[43m \u001b[49m\u001b[43maxis\u001b[49m\u001b[43m,\u001b[49m\u001b[43m \u001b[49m\u001b[38;5;28;43;01mFalse\u001b[39;49;00m\u001b[43m,\u001b[49m\u001b[43m \u001b[49m\u001b[38;5;28;43;01mTrue\u001b[39;49;00m\u001b[43m,\u001b[49m\u001b[43m \u001b[49m\u001b[43minv_norm\u001b[49m\u001b[43m)\u001b[49m\n\u001b[1;32m    216\u001b[0m \u001b[38;5;28;01mreturn\u001b[39;00m output\n",
      "File \u001b[0;32m/opt/homebrew/lib/python3.11/site-packages/numpy/fft/_pocketfft.py:70\u001b[0m, in \u001b[0;36m_raw_fft\u001b[0;34m(a, n, axis, is_real, is_forward, inv_norm)\u001b[0m\n\u001b[1;32m     67\u001b[0m         a \u001b[38;5;241m=\u001b[39m z\n\u001b[1;32m     69\u001b[0m \u001b[38;5;28;01mif\u001b[39;00m axis \u001b[38;5;241m==\u001b[39m a\u001b[38;5;241m.\u001b[39mndim\u001b[38;5;241m-\u001b[39m\u001b[38;5;241m1\u001b[39m:\n\u001b[0;32m---> 70\u001b[0m     r \u001b[38;5;241m=\u001b[39m \u001b[43mpfi\u001b[49m\u001b[38;5;241;43m.\u001b[39;49m\u001b[43mexecute\u001b[49m\u001b[43m(\u001b[49m\u001b[43ma\u001b[49m\u001b[43m,\u001b[49m\u001b[43m \u001b[49m\u001b[43mis_real\u001b[49m\u001b[43m,\u001b[49m\u001b[43m \u001b[49m\u001b[43mis_forward\u001b[49m\u001b[43m,\u001b[49m\u001b[43m \u001b[49m\u001b[43mfct\u001b[49m\u001b[43m)\u001b[49m\n\u001b[1;32m     71\u001b[0m \u001b[38;5;28;01melse\u001b[39;00m:\n\u001b[1;32m     72\u001b[0m     a \u001b[38;5;241m=\u001b[39m swapaxes(a, axis, \u001b[38;5;241m-\u001b[39m\u001b[38;5;241m1\u001b[39m)\n",
      "\u001b[0;31mKeyboardInterrupt\u001b[0m: "
     ]
    }
   ],
   "source": [
    "rho_ks = io.read_density('he.xsf')\n",
    "# KS_KE = float(KS_ke)\n",
    "minn = minimize(min_delta_rho, 1e-9, args = (rho_ks, material), method='L-BFGS-B', bounds=[[0,5]], options={'ftol' : 1e-4})"
   ]
  },
  {
   "cell_type": "code",
   "execution_count": 35,
   "id": "359763cc",
   "metadata": {
    "scrolled": true
   },
   "outputs": [
    {
     "data": {
      "text/plain": [
       "(array([0.1]), 0.13291427651937252)"
      ]
     },
     "execution_count": 35,
     "metadata": {},
     "output_type": "execute_result"
    }
   ],
   "source": [
    "minn.x, minn.fun"
   ]
  },
  {
   "cell_type": "code",
   "execution_count": 43,
   "id": "6ae5139d",
   "metadata": {
    "scrolled": true
   },
   "outputs": [
    {
     "name": "stdout",
     "output_type": "stream",
     "text": [
      "setting key: He -> /Users/valeria/Documents/PP/psl/He.pz-rrkjus_psl.1.0.0.UPF\n",
      "Step    Energy(a.u.)            dE              dP              Nd      Nls     Time(s)         \n",
      "0       -4.120160008539E-01     -4.120160E-01   3.435016E-02    1       1       2.781250E-01    \n",
      "1       -2.051291280708E+00     -1.639275E+00   1.703231E+00    1       5       1.021752E+00    \n",
      "2       -2.146108019446E+00     -9.481674E-02   3.771227E+00    1       3       1.477575E+00    \n",
      "3       -2.180458400005E+00     -3.435038E-02   2.356123E+00    1       2       1.775319E+00    \n",
      "4       -2.223575041938E+00     -4.311664E-02   4.746175E+00    1       2       2.073843E+00    \n",
      "5       -2.283835132103E+00     -6.026009E-02   5.867163E+00    1       2       2.366424E+00    \n",
      "6       -2.350466037311E+00     -6.663091E-02   4.330892E+00    1       1       2.517509E+00    \n",
      "7       -2.408008619147E+00     -5.754258E-02   7.260004E+00    1       1       2.664923E+00    \n",
      "8       -2.477189240804E+00     -6.918062E-02   7.720860E+00    1       2       2.959889E+00    \n",
      "9       -2.554339457477E+00     -7.715022E-02   6.209232E+00    1       1       3.108409E+00    \n",
      "10      -2.609451787808E+00     -5.511233E-02   4.271521E+00    1       2       3.402122E+00    \n",
      "11      -2.650628865089E+00     -4.117708E-02   3.595624E+00    1       2       3.711391E+00    \n",
      "12      -2.688234518608E+00     -3.760565E-02   3.132774E+00    1       1       3.894720E+00    \n",
      "13      -2.713966027177E+00     -2.573151E-02   1.934191E+00    1       2       4.220686E+00    \n",
      "14      -2.732357786441E+00     -1.839176E-02   1.493346E+00    1       2       4.510285E+00    \n",
      "15      -2.746359067744E+00     -1.400128E-02   1.577472E+00    1       1       4.662001E+00    \n",
      "16      -2.757413982559E+00     -1.105491E-02   1.314353E+00    1       1       4.809177E+00    \n",
      "17      -2.766612506564E+00     -9.198524E-03   7.930357E-01    1       2       5.092969E+00    \n",
      "18      -2.773838602803E+00     -7.226096E-03   5.527978E-01    1       2       5.378321E+00    \n",
      "19      -2.779543979767E+00     -5.705377E-03   5.077874E-01    1       1       5.535370E+00    \n",
      "20      -2.783973917280E+00     -4.429938E-03   4.834532E-01    1       1       5.689348E+00    \n",
      "21      -2.788282303668E+00     -4.308386E-03   4.170429E-01    1       1       5.847609E+00    \n",
      "22      -2.792863990034E+00     -4.581686E-03   3.587138E-01    1       1       5.998437E+00    \n",
      "23      -2.797067988214E+00     -4.203998E-03   3.245420E-01    1       1       6.176609E+00    \n",
      "24      -2.800617572308E+00     -3.549584E-03   3.201219E-01    1       1       6.339494E+00    \n",
      "25      -2.804258600517E+00     -3.641028E-03   2.736208E-01    1       1       6.488156E+00    \n",
      "26      -2.808071625974E+00     -3.813025E-03   2.515807E-01    1       1       6.637927E+00    \n",
      "27      -2.811373268828E+00     -3.301643E-03   2.367136E-01    1       1       6.790356E+00    \n",
      "28      -2.814245396364E+00     -2.872128E-03   2.293073E-01    1       1       6.937996E+00    \n",
      "29      -2.817132021749E+00     -2.886625E-03   1.964224E-01    1       1       7.089432E+00    \n",
      "30      -2.819872838741E+00     -2.740817E-03   1.947323E-01    1       1       7.246894E+00    \n",
      "31      -2.822200506369E+00     -2.327668E-03   1.713432E-01    1       1       7.400490E+00    \n",
      "32      -2.824098507275E+00     -1.898001E-03   1.790971E-01    1       1       7.557906E+00    \n",
      "33      -2.825796087721E+00     -1.697580E-03   1.593270E-01    1       1       7.707010E+00    \n",
      "34      -2.827216564500E+00     -1.420477E-03   1.708905E-01    1       1       7.865842E+00    \n",
      "35      -2.828347012355E+00     -1.130448E-03   9.194032E-02    1       2       8.157605E+00    \n",
      "36      -2.829215856961E+00     -8.688446E-04   6.366663E-02    1       2       8.459605E+00    \n",
      "37      -2.829862062801E+00     -6.462058E-04   6.707690E-02    1       1       8.625526E+00    \n",
      "38      -2.830326760495E+00     -4.646977E-04   3.957931E-02    1       2       8.925553E+00    \n",
      "39      -2.830756652302E+00     -4.298918E-04   3.738799E-02    1       2       9.211422E+00    \n",
      "40      -2.831147377515E+00     -3.907252E-04   2.705128E-02    1       1       9.358910E+00    \n",
      "41      -2.831424030477E+00     -2.766530E-04   2.010262E-02    1       2       9.645160E+00    \n",
      "42      -2.831625021701E+00     -2.009912E-04   1.899981E-02    1       1       9.801174E+00    \n",
      "43      -2.831774982419E+00     -1.499607E-04   1.885140E-02    1       1       9.954355E+00    \n",
      "44      -2.831923976390E+00     -1.489940E-04   1.522017E-02    1       1       1.010394E+01    \n",
      "45      -2.832046602171E+00     -1.226258E-04   9.585362E-03    1       2       1.040065E+01    \n",
      "46      -2.832141721091E+00     -9.511892E-05   7.861760E-03    1       2       1.069096E+01    \n",
      "47      -2.832222972723E+00     -8.125163E-05   7.280482E-03    1       1       1.084538E+01    \n",
      "48      -2.832298313437E+00     -7.534071E-05   6.082933E-03    1       1       1.098967E+01    \n",
      "49      -2.832370031844E+00     -7.171841E-05   5.439592E-03    1       1       1.113932E+01    \n",
      "50      -2.832428704793E+00     -5.867295E-05   5.882905E-03    1       1       1.128518E+01    \n",
      "51      -2.832481614216E+00     -5.290942E-05   4.606986E-03    1       1       1.143775E+01    \n",
      "52      -2.832525026154E+00     -4.341194E-05   5.668104E-03    1       1       1.159423E+01    \n",
      "53      -2.832560693876E+00     -3.566772E-05   4.816036E-03    1       1       1.174406E+01    \n",
      "54      -2.832593548749E+00     -3.285487E-05   3.113248E-03    1       2       1.203433E+01    \n",
      "55      -2.832621296631E+00     -2.774788E-05   2.151681E-03    1       2       1.233010E+01    \n",
      "56      -2.832640267319E+00     -1.897069E-05   1.613266E-03    1       2       1.263479E+01    \n",
      "57      -2.832654737237E+00     -1.446992E-05   1.691895E-03    1       1       1.278741E+01    \n",
      "58      -2.832667664192E+00     -1.292695E-05   1.253742E-03    1       1       1.293530E+01    \n",
      "59      -2.832678715020E+00     -1.105083E-05   9.457721E-04    1       2       1.323061E+01    \n",
      "60      -2.832687301832E+00     -8.586812E-06   9.486495E-04    1       1       1.337913E+01    \n",
      "61      -2.832693628488E+00     -6.326656E-06   8.345595E-04    1       1       1.352941E+01    \n",
      "62      -2.832698930358E+00     -5.301870E-06   4.891419E-04    1       2       1.382333E+01    \n",
      "63      -2.832703103211E+00     -4.172853E-06   3.332840E-04    1       2       1.410843E+01    \n",
      "#### Density Optimization Converged ####\n",
      "Chemical potential (a.u.): -0.7696762468719508\n",
      "Chemical potential (eV)  : -20.943957467418834\n",
      "0.06668380769835179\n"
     ]
    },
    {
     "data": {
      "text/plain": [
       "0.06668380769835179"
      ]
     },
     "execution_count": 43,
     "metadata": {},
     "output_type": "execute_result"
    }
   ],
   "source": [
    "min_delta_rho(1e-7,rho_ks, material)"
   ]
  },
  {
   "cell_type": "code",
   "execution_count": 44,
   "id": "8dfa8d2e",
   "metadata": {
    "scrolled": true
   },
   "outputs": [
    {
     "name": "stdout",
     "output_type": "stream",
     "text": [
      "setting key: He -> /Users/valeria/Documents/PP/psl/He.pz-rrkjus_psl.1.0.0.UPF\n",
      "Step    Energy(a.u.)            dE              dP              Nd      Nls     Time(s)         \n",
      "0       -4.120160008539E-01     -4.120160E-01   3.435016E-02    1       1       2.899361E-01    \n",
      "1       -2.051585175000E+00     -1.639569E+00   1.703426E+00    1       5       1.035048E+00    \n",
      "2       -2.146230364783E+00     -9.464519E-02   3.785036E+00    1       3       1.495302E+00    \n",
      "3       -2.180702126590E+00     -3.447176E-02   2.345166E+00    1       2       1.794352E+00    \n",
      "4       -2.223747455118E+00     -4.304533E-02   4.730542E+00    1       2       2.086736E+00    \n",
      "5       -2.283994693995E+00     -6.024724E-02   5.866638E+00    1       2       2.372662E+00    \n",
      "6       -2.350643340018E+00     -6.664865E-02   4.331723E+00    1       1       2.520246E+00    \n",
      "7       -2.408410483841E+00     -5.776714E-02   7.227253E+00    1       1       2.669121E+00    \n",
      "8       -2.474309628460E+00     -6.589914E-02   5.430101E+00    1       1       2.818628E+00    \n",
      "9       -2.541646221716E+00     -6.733659E-02   6.865031E+00    1       1       2.978996E+00    \n",
      "10      -2.592667178626E+00     -5.102096E-02   5.816959E+00    1       1       3.134160E+00    \n",
      "11      -2.640371480433E+00     -4.770430E-02   4.538792E+00    1       2       3.464779E+00    \n",
      "12      -2.682804376137E+00     -4.243290E-02   2.832928E+00    1       2       3.773441E+00    \n",
      "13      -2.707437994098E+00     -2.463362E-02   1.850424E+00    1       2       4.078652E+00    \n",
      "14      -2.726611956034E+00     -1.917396E-02   1.915056E+00    1       1       4.227782E+00    \n",
      "15      -2.740971267720E+00     -1.435931E-02   1.809853E+00    1       1       4.380770E+00    \n",
      "16      -2.753313185414E+00     -1.234192E-02   1.622608E+00    1       1       4.539190E+00    \n",
      "17      -2.764426342250E+00     -1.111316E-02   9.870878E-01    1       2       4.832689E+00    \n",
      "18      -2.773263082402E+00     -8.836740E-03   6.551911E-01    1       2       5.127413E+00    \n",
      "19      -2.779652067072E+00     -6.388985E-03   6.645202E-01    1       1       5.275889E+00    \n",
      "20      -2.784809942522E+00     -5.157875E-03   5.595893E-01    1       1       5.423341E+00    \n",
      "21      -2.789713015463E+00     -4.903073E-03   5.023552E-01    1       1       5.574798E+00    \n",
      "22      -2.794295441611E+00     -4.582426E-03   4.776762E-01    1       1       5.727405E+00    \n",
      "23      -2.799191273626E+00     -4.895832E-03   4.002835E-01    1       1       5.870619E+00    \n",
      "24      -2.803498011195E+00     -4.306738E-03   3.872967E-01    1       1       6.018993E+00    \n",
      "25      -2.806897149379E+00     -3.399138E-03   3.673210E-01    1       1       6.172235E+00    \n",
      "26      -2.810557982598E+00     -3.660833E-03   3.134211E-01    1       1       6.319849E+00    \n",
      "27      -2.814054571173E+00     -3.496589E-03   3.346905E-01    1       1       6.468490E+00    \n",
      "28      -2.817173885730E+00     -3.119315E-03   2.859847E-01    1       1       6.614643E+00    \n",
      "29      -2.819824588030E+00     -2.650702E-03   2.920048E-01    1       1       6.761777E+00    \n",
      "30      -2.821962056154E+00     -2.137468E-03   2.632285E-01    1       1       6.910024E+00    \n",
      "31      -2.824033186732E+00     -2.071131E-03   1.856888E-01    1       2       7.198854E+00    \n",
      "32      -2.825879423752E+00     -1.846237E-03   1.406996E-01    1       2       7.484737E+00    \n",
      "33      -2.827225812442E+00     -1.346389E-03   1.007939E-01    1       2       7.788136E+00    \n",
      "34      -2.828182043075E+00     -9.562306E-04   6.911969E-02    1       2       8.079329E+00    \n",
      "35      -2.828831681078E+00     -6.496380E-04   4.828033E-02    1       2       8.363354E+00    \n",
      "36      -2.829343647664E+00     -5.119666E-04   5.196946E-02    1       1       8.515993E+00    \n",
      "37      -2.829849702853E+00     -5.060552E-04   3.870625E-02    1       1       8.670095E+00    \n",
      "38      -2.830274471165E+00     -4.247683E-04   4.782502E-02    1       1       8.823588E+00    \n",
      "39      -2.830651272700E+00     -3.768015E-04   3.691445E-02    1       1       8.979190E+00    \n",
      "40      -2.831010344709E+00     -3.590720E-04   2.901944E-02    1       2       9.277103E+00    \n",
      "41      -2.831305287895E+00     -2.949432E-04   3.167568E-02    1       1       9.427895E+00    \n",
      "42      -2.831614535826E+00     -3.092479E-04   2.459223E-02    1       1       9.574775E+00    \n",
      "43      -2.831905495087E+00     -2.909593E-04   2.728968E-02    1       1       9.724060E+00    \n",
      "44      -2.832133797476E+00     -2.283024E-04   2.214980E-02    1       1       9.881626E+00    \n",
      "45      -2.832328162450E+00     -1.943650E-04   2.294133E-02    1       1       1.002979E+01    \n",
      "46      -2.832497930873E+00     -1.697684E-04   1.476039E-02    1       2       1.031695E+01    \n",
      "47      -2.832633467307E+00     -1.355364E-04   9.272112E-03    1       2       1.061031E+01    \n",
      "48      -2.832725637414E+00     -9.217011E-05   7.022580E-03    1       2       1.090045E+01    \n",
      "49      -2.832793810544E+00     -6.817313E-05   7.733794E-03    1       1       1.105112E+01    \n",
      "50      -2.832851278132E+00     -5.746759E-05   5.800433E-03    1       1       1.120300E+01    \n",
      "51      -2.832902468503E+00     -5.119037E-05   4.211747E-03    1       2       1.149520E+01    \n",
      "52      -2.832943772678E+00     -4.130417E-05   5.100384E-03    1       1       1.164859E+01    \n",
      "53      -2.832984526651E+00     -4.075397E-05   3.838252E-03    1       1       1.179838E+01    \n",
      "54      -2.833021016075E+00     -3.648942E-05   2.427641E-03    1       2       1.208414E+01    \n",
      "55      -2.833045953367E+00     -2.493729E-05   2.000616E-03    1       2       1.237660E+01    \n",
      "56      -2.833067928472E+00     -2.197511E-05   1.810574E-03    1       1       1.252941E+01    \n",
      "57      -2.833087891080E+00     -1.996261E-05   1.553433E-03    1       1       1.268382E+01    \n",
      "58      -2.833102610402E+00     -1.471932E-05   1.492247E-03    1       1       1.283596E+01    \n",
      "59      -2.833114519474E+00     -1.190907E-05   1.365899E-03    1       1       1.298876E+01    \n",
      "60      -2.833127259415E+00     -1.273994E-05   1.268042E-03    1       1       1.314028E+01    \n",
      "61      -2.833138136553E+00     -1.087714E-05   8.732393E-04    1       2       1.342391E+01    \n",
      "62      -2.833146994773E+00     -8.858219E-06   7.632119E-04    1       2       1.370444E+01    \n",
      "63      -2.833153831266E+00     -6.836493E-06   6.833589E-04    1       1       1.385124E+01    \n",
      "64      -2.833158993678E+00     -5.162411E-06   5.981727E-04    1       1       1.400200E+01    \n",
      "65      -2.833163288918E+00     -4.295241E-06   3.568178E-04    1       2       1.429272E+01    \n",
      "#### Density Optimization Converged ####\n",
      "Chemical potential (a.u.): -0.7703897904059239\n",
      "Chemical potential (eV)  : -20.963373975966967\n",
      "0.0656723813760336\n"
     ]
    },
    {
     "data": {
      "text/plain": [
       "0.0656723813760336"
      ]
     },
     "execution_count": 44,
     "metadata": {},
     "output_type": "execute_result"
    }
   ],
   "source": [
    "min_delta_rho(1e-6,rho_ks, material)"
   ]
  },
  {
   "cell_type": "code",
   "execution_count": 38,
   "id": "7b04b03f",
   "metadata": {
    "scrolled": true
   },
   "outputs": [
    {
     "name": "stdout",
     "output_type": "stream",
     "text": [
      "setting key: He -> /Users/valeria/Documents/PP/psl/He.pz-rrkjus_psl.1.0.0.UPF\n",
      "Step    Energy(a.u.)            dE              dP              Nd      Nls     Time(s)         \n",
      "0       -4.120160008539E-01     -4.120160E-01   3.435016E-02    1       1       2.722063E-01    \n",
      "1       -1.319403118928E+00     -9.073871E-01   1.186916E+00    1       5       9.918082E-01    \n",
      "2       -1.378567123274E+00     -5.916400E-02   1.071358E+00    1       2       1.280318E+00    \n",
      "3       -1.390269647272E+00     -1.170252E-02   9.359919E-01    1       2       1.586248E+00    \n",
      "4       -1.401977425051E+00     -1.170778E-02   1.013599E+00    1       2       1.883709E+00    \n",
      "5       -1.411464998548E+00     -9.487573E-03   8.856484E-01    1       1       2.035438E+00    \n",
      "6       -1.417379606968E+00     -5.914608E-03   4.289564E-01    1       2       2.323268E+00    \n",
      "7       -1.420980321817E+00     -3.600715E-03   2.857031E-01    1       2       2.616696E+00    \n",
      "8       -1.424486635146E+00     -3.506313E-03   2.471519E-01    1       1       2.775397E+00    \n",
      "9       -1.427553436494E+00     -3.066801E-03   1.932562E-01    1       1       2.928412E+00    \n",
      "10      -1.429743860496E+00     -2.190424E-03   1.861801E-01    1       1       3.083968E+00    \n",
      "11      -1.431456231569E+00     -1.712371E-03   1.578312E-01    1       1       3.233170E+00    \n",
      "12      -1.432818618241E+00     -1.362387E-03   1.573879E-01    1       1       3.384186E+00    \n",
      "13      -1.433916229351E+00     -1.097611E-03   9.608643E-02    1       2       3.675404E+00    \n",
      "14      -1.434904686937E+00     -9.884576E-04   9.277803E-02    1       2       4.009288E+00    \n",
      "15      -1.436070252865E+00     -1.165566E-03   1.033588E-01    1       2       4.333017E+00    \n",
      "16      -1.437125734341E+00     -1.055481E-03   7.952851E-02    1       1       4.481883E+00    \n",
      "17      -1.437921763253E+00     -7.960289E-04   6.261848E-02    1       2       4.772498E+00    \n",
      "18      -1.438608039754E+00     -6.862765E-04   7.001811E-02    1       1       4.928221E+00    \n",
      "19      -1.439328230865E+00     -7.201911E-04   5.343344E-02    1       1       5.080068E+00    \n",
      "20      -1.440029404106E+00     -7.011732E-04   6.502424E-02    1       1       5.245474E+00    \n",
      "21      -1.440734464460E+00     -7.050604E-04   4.859727E-02    1       1       5.399826E+00    \n",
      "22      -1.441405698101E+00     -6.712336E-04   5.931757E-02    1       1       5.558873E+00    \n",
      "23      -1.442048901265E+00     -6.432032E-04   4.303006E-02    1       1       5.730117E+00    \n",
      "24      -1.442571303562E+00     -5.224023E-04   6.530544E-02    1       1       5.895439E+00    \n",
      "25      -1.443146836177E+00     -5.755326E-04   4.682465E-02    1       1       6.062340E+00    \n",
      "26      -1.443651185843E+00     -5.043497E-04   3.324283E-02    1       2       6.377139E+00    \n",
      "27      -1.444061582729E+00     -4.103969E-04   3.628823E-02    1       1       6.552793E+00    \n",
      "28      -1.444481280233E+00     -4.196975E-04   2.638625E-02    1       1       6.717305E+00    \n",
      "29      -1.444824037236E+00     -3.427570E-04   3.006670E-02    1       1       6.875489E+00    \n",
      "30      -1.445154320764E+00     -3.302835E-04   2.352303E-02    1       1       7.034022E+00    \n",
      "31      -1.445425327243E+00     -2.710065E-04   3.022207E-02    1       1       7.192335E+00    \n",
      "32      -1.445708397603E+00     -2.830704E-04   2.380256E-02    1       1       7.347692E+00    \n",
      "33      -1.445966432478E+00     -2.580349E-04   1.662343E-02    1       2       7.642665E+00    \n",
      "34      -1.446169557742E+00     -2.031253E-04   1.847783E-02    1       1       7.791806E+00    \n",
      "35      -1.446379613836E+00     -2.100561E-04   1.441452E-02    1       1       7.945678E+00    \n",
      "36      -1.446558997590E+00     -1.793838E-04   1.501192E-02    1       1       8.100763E+00    \n",
      "37      -1.446718560374E+00     -1.595628E-04   1.349116E-02    1       1       8.253874E+00    \n",
      "38      -1.446875950790E+00     -1.573904E-04   1.296675E-02    1       1       8.407357E+00    \n",
      "39      -1.447021846041E+00     -1.458953E-04   1.182270E-02    1       1       8.583352E+00    \n",
      "40      -1.447175325792E+00     -1.534798E-04   1.125555E-02    1       1       8.757943E+00    \n",
      "41      -1.447314132856E+00     -1.388071E-04   1.100277E-02    1       1       8.926732E+00    \n",
      "42      -1.447448987762E+00     -1.348549E-04   9.853124E-03    1       1       9.077714E+00    \n",
      "43      -1.447571140738E+00     -1.221530E-04   1.024993E-02    1       1       9.228696E+00    \n",
      "44      -1.447678282011E+00     -1.071413E-04   9.713959E-03    1       1       9.384121E+00    \n",
      "45      -1.447793483264E+00     -1.152013E-04   8.883331E-03    1       1       9.531566E+00    \n",
      "46      -1.447891516425E+00     -9.803316E-05   9.118846E-03    1       1       9.688467E+00    \n",
      "47      -1.447991839724E+00     -1.003233E-04   8.018213E-03    1       1       9.838697E+00    \n",
      "48      -1.448078481411E+00     -8.664169E-05   8.822034E-03    1       1       9.995053E+00    \n",
      "49      -1.448161761732E+00     -8.328032E-05   7.442323E-03    1       1       1.015365E+01    \n",
      "50      -1.448239009999E+00     -7.724827E-05   4.899397E-03    1       2       1.044755E+01    \n",
      "51      -1.448289355544E+00     -5.034554E-05   4.053815E-03    1       2       1.079331E+01    \n",
      "52      -1.448341547024E+00     -5.219148E-05   3.882307E-03    1       1       1.096590E+01    \n",
      "53      -1.448384830524E+00     -4.328350E-05   4.012369E-03    1       1       1.116384E+01    \n",
      "54      -1.448427332892E+00     -4.250237E-05   3.393717E-03    1       1       1.135767E+01    \n",
      "55      -1.448463051406E+00     -3.571851E-05   2.438943E-03    1       2       1.167892E+01    \n",
      "56      -1.448491361442E+00     -2.831004E-05   2.753427E-03    1       1       1.183330E+01    \n",
      "57      -1.448522453178E+00     -3.109174E-05   2.471539E-03    1       1       1.198392E+01    \n",
      "58      -1.448554406165E+00     -3.195299E-05   2.082581E-03    1       1       1.213621E+01    \n",
      "59      -1.448584212956E+00     -2.980679E-05   2.247918E-03    1       1       1.228770E+01    \n",
      "60      -1.448617352840E+00     -3.313988E-05   2.878635E-03    1       2       1.258197E+01    \n",
      "61      -1.448654286705E+00     -3.693387E-05   3.387266E-03    1       2       1.288313E+01    \n",
      "62      -1.448695204563E+00     -4.091786E-05   2.812923E-03    1       1       1.304763E+01    \n",
      "63      -1.448729662631E+00     -3.445807E-05   3.696074E-03    1       1       1.324811E+01    \n",
      "64      -1.448771038490E+00     -4.137586E-05   4.425051E-03    1       2       1.360820E+01    \n",
      "65      -1.448817808645E+00     -4.677015E-05   3.577166E-03    1       1       1.377433E+01    \n",
      "66      -1.448855007028E+00     -3.719838E-05   2.953856E-03    1       2       1.408064E+01    \n",
      "67      -1.448887154411E+00     -3.214738E-05   3.758521E-03    1       1       1.423186E+01    \n",
      "68      -1.448920068344E+00     -3.291393E-05   2.785068E-03    1       1       1.438106E+01    \n",
      "69      -1.448949400158E+00     -2.933181E-05   2.357505E-03    1       2       1.467685E+01    \n",
      "70      -1.448975674023E+00     -2.627387E-05   2.392438E-03    1       1       1.482537E+01    \n",
      "71      -1.449000085063E+00     -2.441104E-05   2.349445E-03    1       1       1.498016E+01    \n",
      "72      -1.449023041412E+00     -2.295635E-05   2.191701E-03    1       1       1.513077E+01    \n",
      "73      -1.449043167904E+00     -2.012649E-05   2.644544E-03    1       1       1.528146E+01    \n",
      "74      -1.449065336093E+00     -2.216819E-05   2.027245E-03    1       1       1.543890E+01    \n",
      "75      -1.449084903991E+00     -1.956790E-05   1.478414E-03    1       2       1.575719E+01    \n",
      "76      -1.449099913057E+00     -1.500907E-05   1.940968E-03    1       1       1.592928E+01    \n",
      "77      -1.449116266519E+00     -1.635346E-05   1.503204E-03    1       1       1.609911E+01    \n",
      "78      -1.449131017470E+00     -1.475095E-05   9.765029E-04    1       2       1.640122E+01    \n",
      "79      -1.449140812355E+00     -9.794885E-06   8.051907E-04    1       2       1.670099E+01    \n",
      "80      -1.449148604588E+00     -7.792233E-06   8.727445E-04    1       1       1.685350E+01    \n",
      "81      -1.449156769943E+00     -8.165355E-06   7.281241E-04    1       1       1.700142E+01    \n",
      "82      -1.449165054596E+00     -8.284653E-06   8.854806E-04    1       1       1.714437E+01    \n"
     ]
    },
    {
     "name": "stdout",
     "output_type": "stream",
     "text": [
      "83      -1.449173206699E+00     -8.152102E-06   6.696181E-04    1       1       1.729320E+01    \n",
      "84      -1.449180473258E+00     -7.266559E-06   5.593856E-04    1       2       1.758648E+01    \n",
      "85      -1.449187182238E+00     -6.708980E-06   5.805271E-04    1       1       1.773918E+01    \n",
      "86      -1.449194130899E+00     -6.948661E-06   4.661025E-04    1       1       1.789392E+01    \n",
      "87      -1.449200117425E+00     -5.986526E-06   5.522459E-04    1       1       1.804509E+01    \n",
      "88      -1.449207004368E+00     -6.886942E-06   7.134265E-04    1       2       1.834890E+01    \n",
      "89      -1.449214589093E+00     -7.584725E-06   5.228220E-04    1       1       1.849468E+01    \n",
      "90      -1.449220755854E+00     -6.166761E-06   4.982546E-04    1       2       1.878483E+01    \n",
      "91      -1.449226675539E+00     -5.919685E-06   4.844375E-04    1       1       1.893343E+01    \n",
      "92      -1.449233170218E+00     -6.494679E-06   3.978260E-04    1       1       1.907958E+01    \n",
      "93      -1.449238615155E+00     -5.444937E-06   4.830524E-04    1       1       1.923114E+01    \n",
      "94      -1.449244874086E+00     -6.258931E-06   6.484144E-04    1       2       1.951192E+01    \n",
      "95      -1.449251772686E+00     -6.898600E-06   4.531370E-04    1       1       1.966175E+01    \n",
      "96      -1.449257218242E+00     -5.445556E-06   4.647329E-04    1       2       1.994540E+01    \n",
      "97      -1.449262226046E+00     -5.007804E-06   3.643740E-04    1       1       2.009543E+01    \n",
      "98      -1.449267050835E+00     -4.824788E-06   4.605324E-04    1       1       2.024585E+01    \n",
      "#### Density Optimization Converged ####\n",
      "Chemical potential (a.u.): -0.1339317623659297\n",
      "Chemical potential (eV)  : -3.6444688866631347\n",
      "0.8360087867127698\n"
     ]
    },
    {
     "data": {
      "text/plain": [
       "0.8360087867127698"
      ]
     },
     "execution_count": 38,
     "metadata": {},
     "output_type": "execute_result"
    }
   ],
   "source": [
    "min_delta_rho(1.5,rho_ks, material)"
   ]
  },
  {
   "cell_type": "code",
   "execution_count": 16,
   "id": "6f708dd6",
   "metadata": {},
   "outputs": [],
   "source": [
    "np.save('rho_DEN', minn.x)"
   ]
  }
 ],
 "metadata": {
  "kernelspec": {
   "display_name": "Python 3 (ipykernel)",
   "language": "python",
   "name": "python3"
  },
  "language_info": {
   "codemirror_mode": {
    "name": "ipython",
    "version": 3
   },
   "file_extension": ".py",
   "mimetype": "text/x-python",
   "name": "python",
   "nbconvert_exporter": "python",
   "pygments_lexer": "ipython3",
   "version": "3.11.8"
  }
 },
 "nbformat": 4,
 "nbformat_minor": 5
}
