{
 "cells": [
  {
   "cell_type": "code",
   "execution_count": null,
   "id": "c132dac8",
   "metadata": {},
   "outputs": [],
   "source": [
    "import numpy as np\n",
    "from matplotlib import pyplot as plt\n",
    "\n",
    "from dftpy.ions import Ions\n",
    "from dftpy.functional import Functional\n",
    "from dftpy.formats import io\n",
    "\n",
    "from ase.io import read\n",
    "from ase.lattice.spacegroup import Spacegroup\n",
    "from ase.lattice.spacegroup import crystal\n",
    "\n",
    "from scipy.optimize import minimize"
   ]
  },
  {
   "cell_type": "code",
   "execution_count": 1,
   "id": "b46db043",
   "metadata": {},
   "outputs": [],
   "source": [
    "with open('he.out') as D:\n",
    "    k = [match for match in D if \"Kinetic energy\" in match]\n",
    "KS_ke = str(k).split()[6]\n"
   ]
  },
  {
   "cell_type": "code",
   "execution_count": null,
   "id": "98cb9a93",
   "metadata": {},
   "outputs": [],
   "source": [
    "def min_energy(x0, *args):\n",
    "        KS_KE, rho = args\n",
    "        KE = Functional(type='KEDF',name='WT', rho0=x0)\n",
    "        OF_KE = KE(rho).energy\n",
    "        diff = np.abs(KS_KE*1/2-OF_KE)\n",
    "        return diff"
   ]
  },
  {
   "cell_type": "code",
   "execution_count": null,
   "id": "ebb7425e",
   "metadata": {},
   "outputs": [],
   "source": [
    "\n",
    "rho = io.read_density('.../Si-B-tin/DATA2/rho0'+str(i)+'.xsf')\n",
    "ions = Ions.from_ase(crystal('Si',[(0,0,0)],spacegroup=141,cellpar = [4.81,4.81,2.65, 90,90,90]))\n",
    "cell = ions.get_cell()\n",
    "ions.set_cell(cell * l[i], scale_atoms=True) \n",
    "KS_KE = ks_ke[i]\n",
    "minn = minimize(min_energy, 0.01, args = (KS_KE, rho), method='Powell', bounds=[[0.001,0.9]], options={'ftol' : 1e-6})\n",
    "VOLUME = ions.get_volume()\n",
    "vol.append(VOLUME)\n",
    "delta_E.append(minn.fun)\n",
    "R0.append(minn.x)"
   ]
  }
 ],
 "metadata": {
  "kernelspec": {
   "display_name": "Python 3 (ipykernel)",
   "language": "python",
   "name": "python3"
  },
  "language_info": {
   "codemirror_mode": {
    "name": "ipython",
    "version": 3
   },
   "file_extension": ".py",
   "mimetype": "text/x-python",
   "name": "python",
   "nbconvert_exporter": "python",
   "pygments_lexer": "ipython3",
   "version": "3.11.8"
  }
 },
 "nbformat": 4,
 "nbformat_minor": 5
}
