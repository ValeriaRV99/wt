{
 "cells": [
  {
   "cell_type": "code",
   "execution_count": null,
   "id": "13fdc4a2",
   "metadata": {},
   "outputs": [],
   "source": [
    "import numpy as np\n",
    "from matplotlib import pyplot as plt\n",
    "\n",
    "from dftpy.ions import Ions\n",
    "from dftpy.field import DirectField\n",
    "from dftpy.grid import DirectGrid\n",
    "from dftpy.functional import LocalPseudo, Functional, TotalFunctional, ExternalPotential\n",
    "from dftpy.formats import io\n",
    "from dftpy.math_utils import ecut2nr\n",
    "from dftpy.optimization import Optimization\n",
    "\n",
    "\n",
    "from ase.build import bulk\n",
    "from ase.io.trajectory import Trajectory\n",
    "from ase.lattice.spacegroup import Spacegroup\n",
    "from ase.lattice.spacegroup import crystal\n",
    "\n",
    "from sklearn.model_selection import train_test_split \n",
    "from sklearn.kernel_ridge import KernelRidge \n",
    "from dscribe.descriptors import CoulombMatrix, SineMatrix, EwaldSumMatrix, SOAP\n",
    "from ase import Atoms\n",
    "from ase.io import read\n",
    "\n",
    "import cWT"
   ]
  },
  {
   "cell_type": "code",
   "execution_count": 17,
   "id": "75313889",
   "metadata": {},
   "outputs": [],
   "source": [
    "from ase import Atoms\n",
    "d = 52"
   ]
  },
  {
   "cell_type": "code",
   "execution_count": 18,
   "id": "af244242",
   "metadata": {},
   "outputs": [],
   "source": [
    "Helium = Atoms('He2', positions=[(0,0,0), (0,0,d)])"
   ]
  },
  {
   "cell_type": "code",
   "execution_count": 19,
   "id": "11739bef",
   "metadata": {},
   "outputs": [],
   "source": [
    "from ase.visualize import view"
   ]
  },
  {
   "cell_type": "code",
   "execution_count": 30,
   "id": "7ee61ffb",
   "metadata": {},
   "outputs": [],
   "source": [
    "from ase import Atoms\n",
    "L = 10.0\n",
    "He = Atoms('He',\n",
    "             positions=[[L/2, L / 2, L / 2], [L/2 , L / 2  , L / 2 ]],\n",
    "             cell=[L, L, L])"
   ]
  },
  {
   "cell_type": "code",
   "execution_count": 31,
   "id": "6ebd824b",
   "metadata": {},
   "outputs": [],
   "source": [
    "d = 52\n",
    "L=100\n",
    "He2 = Atoms('He2',\n",
    "             positions=[[L/2, L / 2, L / 2], [L/2, L / 2  , L / 2 ]],\n",
    "             cell=[L, L, L])"
   ]
  },
  {
   "cell_type": "code",
   "execution_count": 32,
   "id": "1d4c021b",
   "metadata": {},
   "outputs": [],
   "source": [
    "He2.write('he2.vasp', format='vasp')\n",
    "He.write('he.vasp', format='vasp')"
   ]
  },
  {
   "cell_type": "code",
   "execution_count": 34,
   "id": "5f109343",
   "metadata": {},
   "outputs": [],
   "source": [
    "path_pp='/Users/valeria/Documents/PP/ofpp/EAC/upf/blps/'\n",
    "file1='He.pz-rrkjus_psl.1.0.0.UPF'\n",
    "PP_list = {'He': path_pp+file1}"
   ]
  },
  {
   "cell_type": "code",
   "execution_count": null,
   "id": "ccbe7aee",
   "metadata": {},
   "outputs": [],
   "source": [
    "def rho0(material):\n",
    "    rho0 = []\n",
    "    for j, d in enumerate(r):\n",
    "        ions = Ions.from_ase(material)\n",
    "        cell = ions.get_cell()\n",
    "        ions.set_cell(cell * d, scale_atoms=True)\n",
    "        nr = ecut2nr(ecut=25, lattice=ions.cell)\n",
    "        grid = DirectGrid(lattice=ions.cell, nr=nr)\n",
    "        ions.set_charges(4)\n",
    "        rho_ini = DirectField(grid=grid)\n",
    "        rho_ini[:] = ions.get_ncharges()/ions.cell.volume\n",
    "        z=rho_ini.mean()\n",
    "        rho0.append(z)\n",
    "        \n",
    "    return rho0"
   ]
  },
  {
   "cell_type": "code",
   "execution_count": null,
   "id": "2f7ac41d",
   "metadata": {},
   "outputs": [],
   "source": [
    "def TF_NL(material, r, rho0_ene, rho0_kin, rho0_den):\n",
    "    pred_energy = []\n",
    "    Volume = []\n",
    "    wt_e_ave = []\n",
    "    wt_e_den = []\n",
    "    wt_e_ene = []\n",
    "    wt_e_kin = []\n",
    "    vw_e = []\n",
    "    tf_e = []\n",
    "    wt_s = []\n",
    "    rho0_mean = []\n",
    "    path_rho = None\n",
    "    for j, d in enumerate(r):\n",
    "        WT_KE_ave = Functional(type='KEDF',name='WT')\n",
    "        WT_KE_ene = Functional(type='KEDF',name='WT', rho0=np.asarray(rho0_ene[0]).min())\n",
    "        WT_KE_den = Functional(type='KEDF',name='WT', rho0=np.asarray(rho0_den[0]).min())\n",
    "        WT_KE_kin = Functional(type='KEDF',name='WT', rho0=np.asarray(rho0_kin[0]).min())\n",
    "        \n",
    "        vW_KE = Functional(type='KEDF',name='vW')\n",
    "        TF_KE = Functional(type='KEDF',name='TF')\n",
    "         \n",
    "        ions = Ions.from_ase(material)\n",
    "        cell = ions.get_cell()\n",
    "        ions.set_cell(cell * d, scale_atoms=True)\n",
    "        nr = ecut2nr(ecut=25, lattice=ions.cell)\n",
    "        grid = DirectGrid(lattice=ions.cell, nr=nr)\n",
    "        PSEUDO = LocalPseudo(grid = grid, ions=ions, PP_list=PP_list, rcut=20)\n",
    "\n",
    "        rho_ini = DirectField(grid=grid)\n",
    "        rho_ini[:] = ions.get_ncharges()/ions.cell.volume\n",
    "        WT_KE_scale = Functional(type='KEDF',name='WT', z=rho_ini.mean()/rho0_mean)\n",
    "        \n",
    "        evaluator_ave = TotalFunctional(KE=WT_KE_ave, XC=XC, HARTREE=HARTREE, PSEUDO=PSEUDO)\n",
    "        evaluator_ene = TotalFunctional(KE=WT_KE_ene, XC=XC, HARTREE=HARTREE, PSEUDO=PSEUDO)\n",
    "        evaluator_den = TotalFunctional(KE=WT_KE_den, XC=XC, HARTREE=HARTREE, PSEUDO=PSEUDO)\n",
    "        evaluator_kin = TotalFunctional(KE=WT_KE_kin, XC=XC, HARTREE=HARTREE, PSEUDO=PSEUDO)\n",
    "        evaluator_vw = TotalFunctional(KE=vW_KE, XC=XC, HARTREE=HARTREE, PSEUDO=PSEUDO)\n",
    "        evaluator_sca = TotalFunctional(KE=WT_KE_scale, XC=XC, HARTREE=HARTREE, PSEUDO=PSEUDO)\n",
    "        \n",
    "        optimization_options = {'econv' : 1e-5*ions.nat}\n",
    "        \n",
    "        opt_ave = Optimization(EnergyEvaluator=evaluator_ave, optimization_options = optimization_options, optimization_method = 'TN')\n",
    "        opt_ene = Optimization(EnergyEvaluator=evaluator_ene, optimization_options = optimization_options, optimization_method = 'TN')\n",
    "        opt_den = Optimization(EnergyEvaluator=evaluator_den, optimization_options = optimization_options, optimization_method = 'TN')\n",
    "        opt_kin = Optimization(EnergyEvaluator=evaluator_kin, optimization_options = optimization_options, optimization_method = 'TN')\n",
    "        opt_vw = Optimization(EnergyEvaluator=evaluator_vw, optimization_options = optimization_options, optimization_method = 'TN')\n",
    "        opt_sca = Optimization(EnergyEvaluator=evaluator_sca, optimization_options = optimization_options, optimization_method = 'TN')\n",
    "        \n",
    "        rho_ave = opt_ave.optimize_rho(guess_rho=rho_ini)\n",
    "        rho_ene = opt_ene.optimize_rho(guess_rho=rho_ini)\n",
    "        rho_den = opt_den.optimize_rho(guess_rho=rho_ini)\n",
    "        rho_kin = opt_kin.optimize_rho(guess_rho=rho_ini)\n",
    "        rho_vw = opt_vw.optimize_rho(guess_rho=rho_ini)\n",
    "        rho_sca = opt_sca.optimize_rho(guess_rho=rho_ini)\n",
    "        \n",
    "        \n",
    "        \n",
    "        wt_e_ave.append(WT_KE_ave(rho_ave).energy)\n",
    "        wt_e_den.append(WT_KE_den(rho_ene).energy)\n",
    "        wt_e_ene.append(WT_KE_den(rho_den).energy)\n",
    "        wt_e_kin.append(WT_KE_den(rho_kin).energy)\n",
    "        vw_e.append(vW_KE(rho_vw).energy)\n",
    "        tf_e.append(TF_KE(rho_vw).energy)\n",
    "        wt_s.append(WT_KE_scale(rho_sca).energy)\n",
    "        rho0_mean.append(rho_ini.mean())\n",
    "    return np.asarray(wt_e_ave), np.asarray(vw_e), np.asarray(tf_e), np.asarray(wt_e_den), np.asarray(wt_e_ene), np.asarray(wt_e_kin), np.asarray(wt_s)"
   ]
  }
 ],
 "metadata": {
  "kernelspec": {
   "display_name": "Python 3 (ipykernel)",
   "language": "python",
   "name": "python3"
  },
  "language_info": {
   "codemirror_mode": {
    "name": "ipython",
    "version": 3
   },
   "file_extension": ".py",
   "mimetype": "text/x-python",
   "name": "python",
   "nbconvert_exporter": "python",
   "pygments_lexer": "ipython3",
   "version": "3.11.8"
  }
 },
 "nbformat": 4,
 "nbformat_minor": 5
}
