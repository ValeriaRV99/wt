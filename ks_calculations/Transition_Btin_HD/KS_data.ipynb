{
 "cells": [
  {
   "cell_type": "code",
   "execution_count": 1,
   "id": "f8222f70",
   "metadata": {},
   "outputs": [
    {
     "name": "stderr",
     "output_type": "stream",
     "text": [
      "/home/valeria/miniconda3/envs/ai_kedf/lib/python3.11/site-packages/ase/lattice/spacegroup.py:5: UserWarning: Moved to ase.spacegroup\n",
      "  warnings.warn('Moved to ase.spacegroup')\n"
     ]
    }
   ],
   "source": [
    "import numpy as np\n",
    "from matplotlib import pyplot as plt\n",
    "\n",
    "from qepy.calculator import QEpyCalculator \n",
    "from qepy.io import QEInput\n",
    "from qepy.driver import Driver\n",
    "\n",
    "from ase.build import bulk\n",
    "from ase.lattice.spacegroup import Spacegroup\n",
    "from ase.lattice.spacegroup import crystal\n",
    "\n",
    "import pickle"
   ]
  },
  {
   "cell_type": "code",
   "execution_count": 2,
   "id": "20efa050",
   "metadata": {},
   "outputs": [],
   "source": [
    "from scipy.optimize import minimize\n",
    "try:\n",
    "    from mpi4py import MPI\n",
    "    comm=MPI.COMM_WORLD\n",
    "except:\n",
    "    comm=None"
   ]
  },
  {
   "cell_type": "code",
   "execution_count": 3,
   "id": "e4009c76",
   "metadata": {
    "scrolled": true
   },
   "outputs": [],
   "source": [
    "l = np.linspace(0.8, 1.4, 30)\n",
    "from ase import io\n",
    "for i in np.arange(0, len(l), 1):\n",
    "        n = int(i)\n",
    "        X = l[n]\n",
    "        prefix = 'si_0.2_'+str(int(i))+'_4_Btin_hd'\n",
    "    \n",
    "        qe_options = {\n",
    "                '&control': {\n",
    "                    'calculation': \"'scf'\",\n",
    "                    'prefix': \"'\"+prefix+\"'\",\n",
    "                    'pseudo_dir': \"'/home/vr371/Projects/PP/ofpp/EAC/upf/blps/'\",\n",
    "                    'restart_mode': \"'from_scratch'\"},\n",
    "                '&system': {\n",
    "                    'ibrav' : 1,\n",
    "                    'nat': 4,\n",
    "                    'degauss': 0.005,\n",
    "                    'ecutwfc': 60,\n",
    "                    'occupations': \"'smearing'\"},\n",
    "                'atomic_species': ['Si  28.08 si.lda.upf'],\n",
    "                'cell_parameters angstrom': ['5.43    0.0000000000000000    0.0000000000000003',\n",
    "                                             '0.0000000000000009    5.43    0.0000000000000003',\n",
    "                                             '0.0000000000000000    0.0000000000000000    5.43'],\n",
    "                 'k_points automatic': ['20 20 20 1 1 1']}\n",
    "        si = io.read('/home/valeria/Documents/DFTPY/cWT-KEDF/Phases/Model_ML_function/test_set_data/Transition_Btin_HD/qe_calculations/si_0.2_4_Btin_hd.in')\n",
    "        cell = si.get_cell()\n",
    "        si.set_cell(cell * X, scale_atoms=True)\n",
    "        qe_options = QEInput.update_atoms(si, qe_options = qe_options,  extrapolation=False)\n",
    "        QEInput().write_qe_input('/home/valeria/Documents/DFTPY/cWT-KEDF/Phases/Model_ML_function/training_set_data/ks_calculations/Transition_Btin_HD/0.2/si_0.2_'+str(int(i))+\"_4_Btin_hd.in\", qe_options=qe_options)"
   ]
  },
  {
   "cell_type": "code",
   "execution_count": null,
   "id": "4c962169",
   "metadata": {},
   "outputs": [],
   "source": [
    "KS_KE = []\n",
    "for i in np.arange(0,len(l)-1,1):\n",
    "    ke = float(ks_ke[int(i)])\n",
    "    KS_KE.append(ke)"
   ]
  },
  {
   "cell_type": "code",
   "execution_count": null,
   "id": "ffbfa658",
   "metadata": {},
   "outputs": [],
   "source": [
    "with open('.../Si-B-tin/DATA2/ks_ke.pkl','wb') as f:\n",
    "    pickle.dump(np.asarray(KS_KE),f)"
   ]
  },
  {
   "cell_type": "code",
   "execution_count": null,
   "id": "ddc62707",
   "metadata": {},
   "outputs": [],
   "source": []
  }
 ],
 "metadata": {
  "kernelspec": {
   "display_name": "Python 3 (ipykernel)",
   "language": "python",
   "name": "python3"
  },
  "language_info": {
   "codemirror_mode": {
    "name": "ipython",
    "version": 3
   },
   "file_extension": ".py",
   "mimetype": "text/x-python",
   "name": "python",
   "nbconvert_exporter": "python",
   "pygments_lexer": "ipython3",
   "version": "3.11.4"
  }
 },
 "nbformat": 4,
 "nbformat_minor": 5
}
