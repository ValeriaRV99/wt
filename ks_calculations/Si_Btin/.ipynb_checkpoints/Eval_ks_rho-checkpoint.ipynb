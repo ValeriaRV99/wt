{
 "cells": [
  {
   "cell_type": "code",
   "execution_count": 1,
   "id": "f8222f70",
   "metadata": {},
   "outputs": [
    {
     "name": "stderr",
     "output_type": "stream",
     "text": [
      "/home/valeria/anaconda3/lib/python3.9/site-packages/ase/lattice/spacegroup.py:5: UserWarning: Moved to ase.spacegroup\n",
      "  warnings.warn('Moved to ase.spacegroup')\n"
     ]
    }
   ],
   "source": [
    "import numpy as np\n",
    "from matplotlib import pyplot as plt\n",
    "\n",
    "from dftpy.ions import Ions\n",
    "from dftpy.field import DirectField\n",
    "from dftpy.grid import DirectGrid\n",
    "from dftpy.functional import LocalPseudo, Functional, TotalFunctional, ExternalPotential\n",
    "from dftpy.formats import io\n",
    "from dftpy.math_utils import ecut2nr\n",
    "from dftpy.time_data import TimeData\n",
    "from dftpy.optimization import Optimization\n",
    "from dftpy.mpi import sprint\n",
    "\n",
    "from qepy.calculator import QEpyCalculator \n",
    "from qepy.io import QEInput\n",
    "from qepy.driver import Driver\n",
    "\n",
    "from ase.build import bulk\n",
    "from ase.io.trajectory import Trajectory\n",
    "from ase.io import read\n",
    "from ase.units import kJ\n",
    "from ase.eos import EquationOfState\n",
    "from ase.lattice.spacegroup import Spacegroup\n",
    "from ase.lattice.spacegroup import crystal\n",
    "\n",
    "import pickle"
   ]
  },
  {
   "cell_type": "markdown",
   "id": "311ed0ad",
   "metadata": {},
   "source": [
    "#### Porpose of this code\n",
    "Evaluate the energy of the system using OFDFT with the  $\\rho_{0}$'s found in the code named rho0_dT. In this code we will use the KS electron density, and we will include in the OF calculation the corrected Wang-Teter KEDF to obtain the equation of states graph."
   ]
  },
  {
   "cell_type": "code",
   "execution_count": 2,
   "id": "20efa050",
   "metadata": {},
   "outputs": [],
   "source": [
    "path_pp='.../dftpy/examples/ofpp/EAC/upf/blps/'\n",
    "file1='si.lda.upf'\n",
    "PP_list = {'Si': path_pp+file1}"
   ]
  },
  {
   "cell_type": "code",
   "execution_count": 3,
   "id": "e4009c76",
   "metadata": {},
   "outputs": [],
   "source": [
    "KS_TE = []\n",
    "\n",
    "for i in np.arange(0,30,1):\n",
    "    with open('.../Si-B-tin/DATA2/Si'+str(i)+'.out') as D:\n",
    "        k = [match for match in D if \"Total energy\" in match]\n",
    "    KS_te = str(k).split()[6]\n",
    "    KS_TE.append(float(KS_te)) "
   ]
  },
  {
   "cell_type": "code",
   "execution_count": 4,
   "id": "4c962169",
   "metadata": {},
   "outputs": [
    {
     "ename": "FileNotFoundError",
     "evalue": "[Errno 2] No such file or directory: '.../Si-B-tin/DATA2/ks_ke.pkl'",
     "output_type": "error",
     "traceback": [
      "\u001b[0;31m---------------------------------------------------------------------------\u001b[0m",
      "\u001b[0;31mFileNotFoundError\u001b[0m                         Traceback (most recent call last)",
      "\u001b[0;32m/tmp/ipykernel_26813/1388407151.py\u001b[0m in \u001b[0;36m<module>\u001b[0;34m\u001b[0m\n\u001b[1;32m      1\u001b[0m \u001b[0mrho00\u001b[0m \u001b[0;34m=\u001b[0m \u001b[0mnp\u001b[0m\u001b[0;34m.\u001b[0m\u001b[0mload\u001b[0m\u001b[0;34m(\u001b[0m\u001b[0;34m'.../Si-B-tin/DATA2/rho0.npy'\u001b[0m\u001b[0;34m)\u001b[0m\u001b[0;34m\u001b[0m\u001b[0;34m\u001b[0m\u001b[0m\n\u001b[0;32m----> 2\u001b[0;31m \u001b[0;32mwith\u001b[0m \u001b[0mopen\u001b[0m\u001b[0;34m(\u001b[0m\u001b[0;34m'.../Si-B-tin/DATA2/ks_ke.pkl'\u001b[0m\u001b[0;34m,\u001b[0m\u001b[0;34m'rb'\u001b[0m\u001b[0;34m)\u001b[0m \u001b[0;32mas\u001b[0m \u001b[0mf\u001b[0m\u001b[0;34m:\u001b[0m\u001b[0;34m\u001b[0m\u001b[0;34m\u001b[0m\u001b[0m\n\u001b[0m\u001b[1;32m      3\u001b[0m     \u001b[0mks_ke\u001b[0m \u001b[0;34m=\u001b[0m \u001b[0mpickle\u001b[0m\u001b[0;34m.\u001b[0m\u001b[0mload\u001b[0m\u001b[0;34m(\u001b[0m\u001b[0mf\u001b[0m\u001b[0;34m)\u001b[0m\u001b[0;34m\u001b[0m\u001b[0;34m\u001b[0m\u001b[0m\n",
      "\u001b[0;31mFileNotFoundError\u001b[0m: [Errno 2] No such file or directory: '.../Si-B-tin/DATA2/ks_ke.pkl'"
     ]
    }
   ],
   "source": [
    "rho00 = np.load('.../Si-B-tin/DATA2/rho0.npy')\n",
    "with open('.../Si-B-tin/DATA2/ks_ke.pkl','rb') as f:\n",
    "    ks_ke = pickle.load(f)"
   ]
  },
  {
   "cell_type": "code",
   "execution_count": null,
   "id": "ffbfa658",
   "metadata": {},
   "outputs": [
    {
     "name": "stdout",
     "output_type": "stream",
     "text": [
      "setting key: Si -> .../dftpy/examples/ofpp/EAC/upf/blps/si.lda.upf\n",
      "setting key: Si -> .../dftpy/examples/ofpp/EAC/upf/blps/si.lda.upf\n",
      "setting key: Si -> .../dftpy/examples/ofpp/EAC/upf/blps/si.lda.upf\n",
      "setting key: Si -> .../dftpy/examples/ofpp/EAC/upf/blps/si.lda.upf\n",
      "setting key: Si -> .../dftpy/examples/ofpp/EAC/upf/blps/si.lda.upf\n",
      "setting key: Si -> .../dftpy/examples/ofpp/EAC/upf/blps/si.lda.upf\n",
      "setting key: Si -> .../dftpy/examples/ofpp/EAC/upf/blps/si.lda.upf\n",
      "setting key: Si -> .../dftpy/examples/ofpp/EAC/upf/blps/si.lda.upf\n",
      "setting key: Si -> .../dftpy/examples/ofpp/EAC/upf/blps/si.lda.upf\n",
      "setting key: Si -> .../dftpy/examples/ofpp/EAC/upf/blps/si.lda.upf\n",
      "setting key: Si -> .../dftpy/examples/ofpp/EAC/upf/blps/si.lda.upf\n",
      "setting key: Si -> .../dftpy/examples/ofpp/EAC/upf/blps/si.lda.upf\n",
      "setting key: Si -> .../dftpy/examples/ofpp/EAC/upf/blps/si.lda.upf\n",
      "setting key: Si -> .../dftpy/examples/ofpp/EAC/upf/blps/si.lda.upf\n",
      "setting key: Si -> .../dftpy/examples/ofpp/EAC/upf/blps/si.lda.upf\n",
      "setting key: Si -> .../dftpy/examples/ofpp/EAC/upf/blps/si.lda.upf\n",
      "setting key: Si -> .../dftpy/examples/ofpp/EAC/upf/blps/si.lda.upf\n",
      "setting key: Si -> .../dftpy/examples/ofpp/EAC/upf/blps/si.lda.upf\n",
      "setting key: Si -> .../dftpy/examples/ofpp/EAC/upf/blps/si.lda.upf\n",
      "setting key: Si -> .../dftpy/examples/ofpp/EAC/upf/blps/si.lda.upf\n",
      "setting key: Si -> .../dftpy/examples/ofpp/EAC/upf/blps/si.lda.upf\n",
      "setting key: Si -> .../dftpy/examples/ofpp/EAC/upf/blps/si.lda.upf\n",
      "setting key: Si -> .../dftpy/examples/ofpp/EAC/upf/blps/si.lda.upf\n",
      "setting key: Si -> .../dftpy/examples/ofpp/EAC/upf/blps/si.lda.upf\n"
     ]
    }
   ],
   "source": [
    "l = np.linspace(0.8, 1.4, 30)\n",
    "rho0 = np.asarray(rho00)\n",
    "XC = Functional(type='XC',name='LDA')\n",
    "HARTREE = Functional(type='HARTREE')\n",
    "\n",
    "ENERGY = []\n",
    "VOLUME = []\n",
    "WT_KE = []\n",
    "HR_E = []\n",
    "XC_E = []\n",
    "PS_E = []\n",
    "for n in np.arange(0, 30, 1):\n",
    "        i = int(n)\n",
    "        \n",
    "        KE = Functional(type='KEDF',name='WT', rho0=rho0[i])\n",
    "        ions = Ions.from_ase(crystal('Si',[(0,0,0)],spacegroup=141,cellpar = [4.81,4.81,2.65, 90,90,90]))\n",
    "        cell = ions.get_cell()\n",
    "        ions.set_cell(cell * l[i], scale_atoms=True)\n",
    "\n",
    "        rho = io.read_density('.../Si-B-tin/DATA2/rho0'+str(i)+'.xsf')    \n",
    "        grid = DirectGrid(lattice=ions.cell, nr=[len(rho),len(rho),len(rho[0,0])])\n",
    "        PSEUDO = LocalPseudo(grid = grid, ions=ions, PP_list=PP_list, rcut=10)\n",
    "        evaluator = TotalFunctional(KE=KE, XC=XC, HARTREE=HARTREE, PSEUDO=PSEUDO)\n",
    "\n",
    "        energy = evaluator.Energy(rho=rho, ions=ions)\n",
    "        vol=ions.get_volume()\n",
    "        \n",
    "        ENERGY.append(energy)\n",
    "        VOLUME.append(vol)"
   ]
  },
  {
   "cell_type": "code",
   "execution_count": null,
   "id": "8bd230e9",
   "metadata": {
    "scrolled": true
   },
   "outputs": [],
   "source": [
    "plt.plot(np.asarray(VOLUME)*0.529177**3/4,(np.asarray(ENERGY))*27.211407/4,'*--')\n",
    "plt.plot(np.asarray(VOLUME)*0.529177**3/4, np.asarray(KS_TE)*27.211407/8,'*--')\n",
    "plt.xlabel('Volume ($\\AA^{3}$)')\n",
    "plt.ylabel('Energy (eV/atom)')\n",
    "plt.title('Si-\\u03B2$_{tin}$')\n",
    "plt.legend(['cWT','KS'])"
   ]
  }
 ],
 "metadata": {
  "kernelspec": {
   "display_name": "Python 3 (ipykernel)",
   "language": "python",
   "name": "python3"
  },
  "language_info": {
   "codemirror_mode": {
    "name": "ipython",
    "version": 3
   },
   "file_extension": ".py",
   "mimetype": "text/x-python",
   "name": "python",
   "nbconvert_exporter": "python",
   "pygments_lexer": "ipython3",
   "version": "3.8.5"
  }
 },
 "nbformat": 4,
 "nbformat_minor": 5
}
