{
 "cells": [
  {
   "cell_type": "code",
   "execution_count": 4,
   "id": "5fdb1c4e",
   "metadata": {},
   "outputs": [],
   "source": [
    "# +\n",
    "import numpy as np\n",
    "from matplotlib import pyplot as plt\n",
    "\n",
    "import dftpy\n",
    "from dftpy.ions import Ions\n",
    "from dftpy.field import DirectField\n",
    "from dftpy.grid import DirectGrid\n",
    "from dftpy.functional import LocalPseudo, Functional, TotalFunctional, ExternalPotential\n",
    "from dftpy.formats import io\n",
    "from dftpy.math_utils import ecut2nr\n",
    "from dftpy.time_data import TimeData\n",
    "from dftpy.optimization import Optimization\n",
    "from dftpy.mpi import sprint\n",
    "from dftpy.formats import io\n",
    "\n",
    "from qepy.calculator import QEpyCalculator \n",
    "from qepy.io import QEInput\n",
    "from qepy.driver import Driver\n",
    "\n",
    "from ase.build import bulk\n",
    "from ase.io.trajectory import Trajectory\n",
    "from ase.io import read\n",
    "from ase.units import kJ\n",
    "from ase.eos import EquationOfState\n",
    "\n",
    "import pickle\n",
    "# -\n",
    "\n",
    "from scipy.optimize import minimize\n",
    "try:\n",
    "    from mpi4py import MPI\n",
    "    comm=MPI.COMM_WORLD\n",
    "except:\n",
    "    comm=None\n",
    "path_pp='/Users/valeria/Documents/PP/ofpp/EAC/upf/blps/'\n",
    "file1='si.lda.upf'\n",
    "PP_list = {'Si': path_pp+file1}"
   ]
  },
  {
   "cell_type": "code",
   "execution_count": 6,
   "id": "bb0906a8",
   "metadata": {},
   "outputs": [],
   "source": [
    "qe_options = {\n",
    "        '&control': {\n",
    "            'calculation': \"'scf'\",\n",
    "            'prefix': \"'si'\",\n",
    "            'pseudo_dir': \"'/Users/valeria/Documents/PP/ofpp/EAC/upf/blps/'\",\n",
    "            'restart_mode': \"'from_scratch'\"},\n",
    "        '&system': {\n",
    "            'ibrav' : 1,\n",
    "            'nat': 8,\n",
    "            'degauss': 0.005,\n",
    "            'ecutwfc': 60,\n",
    "            'occupations': \"'smearing'\"},\n",
    "        'atomic_species': ['Si  28.08 si.lda.upf'],\n",
    "        'cell_parameters angstrom': ['5.43    0.0000000000000000    0.0000000000000003',\n",
    "                                     '0.0000000000000009    5.43    0.0000000000000003',\n",
    "                                     '0.0000000000000000    0.0000000000000000    5.43'],\n",
    "         'k_points automatic': ['20 20 20 1 1 1']}"
   ]
  },
  {
   "cell_type": "code",
   "execution_count": 7,
   "id": "164f38bb",
   "metadata": {},
   "outputs": [],
   "source": [
    "inputfile ='/Users/valeria/Documents/aiWT/Final_version/wt/wt/Results/Structures/Si_cd.vasp'\n",
    "material = read(inputfile, format='vasp')"
   ]
  },
  {
   "cell_type": "code",
   "execution_count": 8,
   "id": "01ce3231",
   "metadata": {},
   "outputs": [],
   "source": [
    "t = 3"
   ]
  },
  {
   "cell_type": "code",
   "execution_count": 9,
   "id": "1cda9e40",
   "metadata": {},
   "outputs": [],
   "source": [
    "ions = material\n",
    "cell = ions.get_cell()\n",
    "ions.set_cell(cell * t, scale_atoms=True)"
   ]
  },
  {
   "cell_type": "code",
   "execution_count": 11,
   "id": "ac5d42f4",
   "metadata": {},
   "outputs": [],
   "source": [
    "# si = ions\n",
    "# qe_options = QEInput.update_atoms(si, qe_options = qe_options,  extrapolation=False)\n",
    "# QEInput().write_qe_input(\"Si.in\", qe_options=qe_options)\n",
    "# driver = Driver('Si.in', comm=comm, logfile='Si.out')\n",
    "# driver.scf()\n",
    "# driver.calc_energy()\n",
    "# # D = driver.get_output()\n",
    "# # k = [match for match in D if \"Kinetic energy\" in match]\n",
    "# # KS_KE = str(k).split()[6]\n",
    "# rho = driver.data2field(driver.get_density())\n",
    "# ions = driver.get_dftpy_ions()\n",
    "# rho.write('rho.xsf', ions=ions)\n",
    "# driver.stop()"
   ]
  },
  {
   "cell_type": "code",
   "execution_count": null,
   "id": "7ec4a7bb",
   "metadata": {},
   "outputs": [],
   "source": [
    "KS_KE = []\n",
    "for i in np.arange(0,len(l),1):\n",
    "    ke = float(ks_ke[int(i)])\n",
    "    KS_KE.append(ke)\n",
    "\n",
    "np.save(\"/home/valeria/Documents/DFTPY/Fitting_densities/Si8-CD/DATA2/ks_ke.npy\", np.asarray(KS_KE))"
   ]
  }
 ],
 "metadata": {
  "kernelspec": {
   "display_name": "Python 3 (ipykernel)",
   "language": "python",
   "name": "python3"
  },
  "language_info": {
   "codemirror_mode": {
    "name": "ipython",
    "version": 3
   },
   "file_extension": ".py",
   "mimetype": "text/x-python",
   "name": "python",
   "nbconvert_exporter": "python",
   "pygments_lexer": "ipython3",
   "version": "3.11.8"
  }
 },
 "nbformat": 4,
 "nbformat_minor": 5
}
