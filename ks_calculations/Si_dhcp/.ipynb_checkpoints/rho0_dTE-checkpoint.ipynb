{
 "cells": [
  {
   "cell_type": "code",
   "execution_count": 6,
   "id": "e4bb8d99-2311-4ac5-8167-826f0089873b",
   "metadata": {},
   "outputs": [],
   "source": [
    "import numpy as np\n",
    "from matplotlib import pyplot as plt\n",
    "\n",
    "from dftpy.ions import Ions\n",
    "from dftpy.functional import Functional\n",
    "from dftpy.formats import io\n",
    "\n",
    "from ase.io import read\n",
    "from ase.lattice.spacegroup import Spacegroup\n",
    "from ase.lattice.spacegroup import crystal\n",
    "\n",
    "from scipy.optimize import minimize\n",
    "\n",
    "from dftpy.ions import Ions\n",
    "from dftpy.functional import Functional\n",
    "from dftpy.formats import io\n",
    "from dftpy.ions import Ions\n",
    "from dftpy.field import DirectField\n",
    "from dftpy.grid import DirectGrid\n",
    "from dftpy.functional import LocalPseudo, Functional, TotalFunctional, ExternalPotential\n",
    "from dftpy.formats import io\n",
    "from dftpy.math_utils import ecut2nr\n",
    "from dftpy.optimization import Optimization"
   ]
  },
  {
   "cell_type": "code",
   "execution_count": 12,
   "id": "d0d438b3-76fd-4f8e-9421-fcc6dbcab851",
   "metadata": {},
   "outputs": [],
   "source": [
    "path_pp='/Users/valeria/Documents/PP/ofpp/EAC/upf/blps/'\n",
    "file='si.lda.upf'\n",
    "PP_list = {'Si': path_pp+file}"
   ]
  },
  {
   "cell_type": "code",
   "execution_count": 7,
   "id": "526f0aee-a117-4775-8ad9-01f7ed0ee333",
   "metadata": {},
   "outputs": [],
   "source": [
    "KS_TE = []\n",
    "for i in np.arange(0,30,1):\n",
    "    with open('/Users/Valeria/Documents/aiWT/Model_ML_function/training_set_data/ks_calculations/Si_Btin/DATA2/Si'+str(i)+'.out') as D:\n",
    "        k = [match for match in D if \"!    total energy\" in match]\n",
    "    KS_te = str(k).split()[4]\n",
    "    KS_TE.append(float(KS_te)) \n",
    "ks_te = np.asarray(KS_TE)"
   ]
  },
  {
   "cell_type": "code",
   "execution_count": 10,
   "id": "6db16d6a-59f2-4a3b-9880-09ea5025400d",
   "metadata": {},
   "outputs": [],
   "source": [
    "def min_energy(x0, *args):\n",
    "        KS_TE, rho, ions = args\n",
    "        KE = Functional(type='KEDF',name='WT', rho0=x0)\n",
    "        grid = DirectGrid(lattice=ions.cell, nr=[len(rho),len(rho),len(rho[0,0])])\n",
    "        PSEUDO = LocalPseudo(grid = grid, ions=ions, PP_list=PP_list, rcut=10)\n",
    "        rho_ini = DirectField(grid=grid)\n",
    "        rho_ini[:] = ions.get_ncharges()/ions.cell.volume\n",
    "        \n",
    "        evaluator = TotalFunctional(KE=KE, XC=XC, HARTREE=HARTREE, PSEUDO=PSEUDO)\n",
    "        # optimization_options = {'econv' : 1e-5*ions.nat}\n",
    "        # opt = Optimization(EnergyEvaluator=evaluator, optimization_options = optimization_options, \n",
    "        #                    optimization_method = 'TN')\n",
    "        # rho = opt.optimize_rho(guess_rho=rho_ini)\n",
    "        OF_TE = evaluator.Energy(rho=rho, ions=ions)\n",
    "        # OF_KE = KE(rho).energy\n",
    "        diff = np.abs(KS_TE*1/2-OF_TE)\n",
    "        print(diff)\n",
    "        return diff"
   ]
  },
  {
   "cell_type": "code",
   "execution_count": null,
   "id": "0172fcf0-fcd7-4ddf-bace-c247cc61f54a",
   "metadata": {},
   "outputs": [
    {
     "name": "stdout",
     "output_type": "stream",
     "text": [
      "setting key: Si -> /Users/valeria/Documents/PP/ofpp/EAC/upf/blps/si.lda.upf\n",
      "setting key: Si -> /Users/valeria/Documents/PP/ofpp/EAC/upf/blps/si.lda.upf\n",
      "setting key: Si -> /Users/valeria/Documents/PP/ofpp/EAC/upf/blps/si.lda.upf\n",
      "setting key: Si -> /Users/valeria/Documents/PP/ofpp/EAC/upf/blps/si.lda.upf\n",
      "setting key: Si -> /Users/valeria/Documents/PP/ofpp/EAC/upf/blps/si.lda.upf\n",
      "setting key: Si -> /Users/valeria/Documents/PP/ofpp/EAC/upf/blps/si.lda.upf\n",
      "setting key: Si -> /Users/valeria/Documents/PP/ofpp/EAC/upf/blps/si.lda.upf\n",
      "setting key: Si -> /Users/valeria/Documents/PP/ofpp/EAC/upf/blps/si.lda.upf\n",
      "setting key: Si -> /Users/valeria/Documents/PP/ofpp/EAC/upf/blps/si.lda.upf\n",
      "setting key: Si -> /Users/valeria/Documents/PP/ofpp/EAC/upf/blps/si.lda.upf\n",
      "setting key: Si -> /Users/valeria/Documents/PP/ofpp/EAC/upf/blps/si.lda.upf\n",
      "setting key: Si -> /Users/valeria/Documents/PP/ofpp/EAC/upf/blps/si.lda.upf\n",
      "setting key: Si -> /Users/valeria/Documents/PP/ofpp/EAC/upf/blps/si.lda.upf\n",
      "setting key: Si -> /Users/valeria/Documents/PP/ofpp/EAC/upf/blps/si.lda.upf\n",
      "setting key: Si -> /Users/valeria/Documents/PP/ofpp/EAC/upf/blps/si.lda.upf\n",
      "setting key: Si -> /Users/valeria/Documents/PP/ofpp/EAC/upf/blps/si.lda.upf\n",
      "setting key: Si -> /Users/valeria/Documents/PP/ofpp/EAC/upf/blps/si.lda.upf\n",
      "setting key: Si -> /Users/valeria/Documents/PP/ofpp/EAC/upf/blps/si.lda.upf\n",
      "setting key: Si -> /Users/valeria/Documents/PP/ofpp/EAC/upf/blps/si.lda.upf\n",
      "setting key: Si -> /Users/valeria/Documents/PP/ofpp/EAC/upf/blps/si.lda.upf\n",
      "setting key: Si -> /Users/valeria/Documents/PP/ofpp/EAC/upf/blps/si.lda.upf\n",
      "setting key: Si -> /Users/valeria/Documents/PP/ofpp/EAC/upf/blps/si.lda.upf\n",
      "setting key: Si -> /Users/valeria/Documents/PP/ofpp/EAC/upf/blps/si.lda.upf\n",
      "setting key: Si -> /Users/valeria/Documents/PP/ofpp/EAC/upf/blps/si.lda.upf\n",
      "setting key: Si -> /Users/valeria/Documents/PP/ofpp/EAC/upf/blps/si.lda.upf\n",
      "setting key: Si -> /Users/valeria/Documents/PP/ofpp/EAC/upf/blps/si.lda.upf\n",
      "setting key: Si -> /Users/valeria/Documents/PP/ofpp/EAC/upf/blps/si.lda.upf\n",
      "setting key: Si -> /Users/valeria/Documents/PP/ofpp/EAC/upf/blps/si.lda.upf\n",
      "setting key: Si -> /Users/valeria/Documents/PP/ofpp/EAC/upf/blps/si.lda.upf\n",
      "setting key: Si -> /Users/valeria/Documents/PP/ofpp/EAC/upf/blps/si.lda.upf\n",
      "setting key: Si -> /Users/valeria/Documents/PP/ofpp/EAC/upf/blps/si.lda.upf\n",
      "setting key: Si -> /Users/valeria/Documents/PP/ofpp/EAC/upf/blps/si.lda.upf\n",
      "setting key: Si -> /Users/valeria/Documents/PP/ofpp/EAC/upf/blps/si.lda.upf\n",
      "setting key: Si -> /Users/valeria/Documents/PP/ofpp/EAC/upf/blps/si.lda.upf\n",
      "setting key: Si -> /Users/valeria/Documents/PP/ofpp/EAC/upf/blps/si.lda.upf\n",
      "setting key: Si -> /Users/valeria/Documents/PP/ofpp/EAC/upf/blps/si.lda.upf\n",
      "setting key: Si -> /Users/valeria/Documents/PP/ofpp/EAC/upf/blps/si.lda.upf\n",
      "setting key: Si -> /Users/valeria/Documents/PP/ofpp/EAC/upf/blps/si.lda.upf\n",
      "setting key: Si -> /Users/valeria/Documents/PP/ofpp/EAC/upf/blps/si.lda.upf\n"
     ]
    }
   ],
   "source": [
    "XC = Functional(type='XC',name='LDA')\n",
    "HARTREE = Functional(type='HARTREE')\n",
    "l = np.linspace(0.8, 1.4, 30)\n",
    "delta_E = []\n",
    "R0 = []\n",
    "vol = []\n",
    "for n in np.arange(0,30,1):\n",
    "    i = int(n)\n",
    "    rho = io.read_density('/Users/Valeria/Documents/aiWT/Model_ML_function/training_set_data/ks_calculations/Si_Btin/DATA2/rho0'+str(i)+'.xsf')\n",
    "    ions = Ions.from_ase(crystal('Si',[(0,0,0)],spacegroup=141,cellpar = [4.81,4.81,2.65, 90,90,90]))\n",
    "    cell = ions.get_cell()\n",
    "    ions.set_cell(cell * l[i], scale_atoms=True) \n",
    "    KS_TE = ks_te[i]\n",
    "    minn = minimize(min_energy, 0.01, args = (KS_TE, rho, ions), method='Powell', bounds=[[0,10]], options={'ftol' : 1e-6})\n",
    "    VOLUME = ions.get_volume()\n",
    "    vol.append(VOLUME)\n",
    "    delta_E.append(minn.fun)\n",
    "    R0.append(minn.x)"
   ]
  },
  {
   "cell_type": "code",
   "execution_count": null,
   "id": "de7a0eba-0849-41d2-bd86-0f8fc0db700d",
   "metadata": {},
   "outputs": [],
   "source": [
    "fig, axs = plt.subplots(1,2, figsize=(10,3))\n",
    "im0 = axs[0].plot(np.asarray(vol)*0.529177**3/4,np.asarray(delta_E)*1/4,'*--')\n",
    "im1 = axs[1].plot(np.asarray(vol)*0.529177**3/4,np.asarray(R0),'*--')\n",
    "axs[0].set_title('Si-\\u03B2$_{tin}$')\n",
    "axs[1].set_title('Si-\\u03B2$_{tin}$')\n",
    "axs[0].set_xlabel('Volume ($\\AA^{3}$)')\n",
    "axs[0].set_ylabel('$\\Delta T_{s}$ (eV/atom)')\n",
    "axs[1].set_xlabel('Volume ($\\AA^{3}$)')\n",
    "axs[1].set_ylabel('$\\u03C1_{0}$')"
   ]
  }
 ],
 "metadata": {
  "kernelspec": {
   "display_name": "Python 3 (ipykernel)",
   "language": "python",
   "name": "python3"
  },
  "language_info": {
   "codemirror_mode": {
    "name": "ipython",
    "version": 3
   },
   "file_extension": ".py",
   "mimetype": "text/x-python",
   "name": "python",
   "nbconvert_exporter": "python",
   "pygments_lexer": "ipython3",
   "version": "3.11.5"
  }
 },
 "nbformat": 4,
 "nbformat_minor": 5
}
