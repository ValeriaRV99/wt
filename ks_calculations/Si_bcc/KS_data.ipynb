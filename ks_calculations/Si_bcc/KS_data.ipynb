{
 "cells": [
  {
   "cell_type": "code",
   "execution_count": 1,
   "id": "b31e3b45",
   "metadata": {},
   "outputs": [
    {
     "name": "stderr",
     "output_type": "stream",
     "text": [
      "/home/valeria/anaconda3/lib/python3.9/site-packages/ase/lattice/spacegroup.py:5: UserWarning: Moved to ase.spacegroup\n",
      "  warnings.warn('Moved to ase.spacegroup')\n"
     ]
    }
   ],
   "source": [
    "import numpy as np\n",
    "from matplotlib import pyplot as plt\n",
    "\n",
    "from qepy.calculator import QEpyCalculator \n",
    "from qepy.io import QEInput\n",
    "from qepy.driver import Driver\n",
    "\n",
    "from ase.build import bulk\n",
    "from ase.lattice.spacegroup import Spacegroup\n",
    "from ase.lattice.spacegroup import crystal\n",
    "\n",
    "import pickle"
   ]
  },
  {
   "cell_type": "code",
   "execution_count": 2,
   "id": "a084099a",
   "metadata": {},
   "outputs": [],
   "source": [
    "from scipy.optimize import minimize\n",
    "try:\n",
    "    from mpi4py import MPI\n",
    "    comm=MPI.COMM_WORLD\n",
    "except:\n",
    "    comm=None\n",
    "path_pp='/home/valeria/Desktop/programs/dftpy/examples/ofpp/EAC/upf/blps/'\n",
    "file1='si.lda.upf'\n",
    "PP_list = {'Si': path_pp+file1}"
   ]
  },
  {
   "cell_type": "code",
   "execution_count": 4,
   "id": "4a2e4c05",
   "metadata": {},
   "outputs": [],
   "source": [
    "qe_options = {\n",
    "        '&control': {\n",
    "            'calculation': \"'scf'\",\n",
    "            'prefix': \"'si'\",\n",
    "            'pseudo_dir': \"'/home/valeria/Desktop/programs/dftpy/examples/ofpp/EAC/upf/blps/'\",\n",
    "            'restart_mode': \"'from_scratch'\"},\n",
    "        '&system': {\n",
    "            'ibrav' : 1,\n",
    "            'nat': 2,\n",
    "            'degauss': 0.005,\n",
    "            'ecutwfc': 60,\n",
    "            'occupations': \"'smearing'\"},\n",
    "        'atomic_species': ['Si  28.08 si.lda.upf'],\n",
    "        'cell_parameters angstrom': ['3.09    0.0000000000000000    0.0000000000000003',\n",
    "                                     '0.0000000000000009    3.09    0.0000000000000003',\n",
    "                                     '0.0000000000000000    0.0000000000000000    3.09'],\n",
    "         'k_points automatic': ['20 20 20 1 1 1']}\n",
    "\n",
    "# KS DFT\n",
    "l = np.linspace(0.8, 1.4, 30)\n",
    "# RHO = []\n",
    "ks_ke = []\n",
    "for i in np.arange(0, len(l), 1):\n",
    "        n = int(i)\n",
    "        X = l[n]\n",
    "        si = bulk('Si', 'bcc', a= 3.09, cubic=True)\n",
    "        cell = si.get_cell()\n",
    "        si.set_cell(cell * X, scale_atoms=True)\n",
    "        qe_options = QEInput.update_atoms(si, qe_options = qe_options,  extrapolation=False)\n",
    "        QEInput().write_qe_input(\"/home/valeria/Documents/DFTPY/Fitting_densities/Si-bcc/DATA2/Si\"+str(n)+\".in\", qe_options=qe_options)\n",
    "        driver = Driver('/home/valeria/Documents/DFTPY/Fitting_densities/Si-bcc/DATA2/Si'+str(n)+'.in', comm=comm, logfile='/home/valeria/Documents/DFTPY/Fitting_densities/Si-bcc/DATA2/Si'+str(n)+'.out')\n",
    "        driver.scf()\n",
    "        driver.calc_energy()\n",
    "        D = driver.get_output()\n",
    "        k = [match for match in D if \"Kinetic energy\" in match]\n",
    "        KS_KE = str(k).split()[6]\n",
    "        v_men = driver.get_effective_potential().mean()\n",
    "        KS_PE = driver.data2field(driver.get_effective_potential() - v_men)\n",
    "        rho = driver.data2field(driver.get_density())\n",
    "        ions = driver.get_dftpy_ions()\n",
    "        rho.write('/home/valeria/Documents/DFTPY/Fitting_densities/Si-bcc/DATA2/rho0'+str(i)+'.xsf', ions=ions)\n",
    "        driver.stop()\n",
    "#         RHO.append(rho)\n",
    "        ks_ke.append(KS_KE)"
   ]
  },
  {
   "cell_type": "code",
   "execution_count": 5,
   "id": "c932c333",
   "metadata": {},
   "outputs": [],
   "source": [
    "np.save(\"/home/valeria/Documents/DFTPY/Fitting_densities/Si-bcc/DATA2/ks_ke.npy\", np.asarray(ks_ke))"
   ]
  }
 ],
 "metadata": {
  "kernelspec": {
   "display_name": "Python 3 (ipykernel)",
   "language": "python",
   "name": "python3"
  },
  "language_info": {
   "codemirror_mode": {
    "name": "ipython",
    "version": 3
   },
   "file_extension": ".py",
   "mimetype": "text/x-python",
   "name": "python",
   "nbconvert_exporter": "python",
   "pygments_lexer": "ipython3",
   "version": "3.9.13"
  }
 },
 "nbformat": 4,
 "nbformat_minor": 5
}
