{
 "cells": [
  {
   "cell_type": "code",
   "execution_count": 1,
   "id": "489e43b9",
   "metadata": {},
   "outputs": [
    {
     "name": "stderr",
     "output_type": "stream",
     "text": [
      "/home/valeria/anaconda3/lib/python3.9/site-packages/ase/lattice/spacegroup.py:5: UserWarning: Moved to ase.spacegroup\n",
      "  warnings.warn('Moved to ase.spacegroup')\n"
     ]
    }
   ],
   "source": [
    "import numpy as np\n",
    "from matplotlib import pyplot as plt\n",
    "\n",
    "from dftpy.ions import Ions\n",
    "from dftpy.field import DirectField\n",
    "from dftpy.grid import DirectGrid\n",
    "from dftpy.functional import LocalPseudo, Functional, TotalFunctional, ExternalPotential\n",
    "from dftpy.formats import io\n",
    "from dftpy.math_utils import ecut2nr\n",
    "from dftpy.time_data import TimeData\n",
    "from dftpy.optimization import Optimization\n",
    "from dftpy.mpi import sprint\n",
    "\n",
    "from qepy.calculator import QEpyCalculator \n",
    "from qepy.io import QEInput\n",
    "from qepy.driver import Driver\n",
    "\n",
    "from ase.build import bulk\n",
    "from ase.io.trajectory import Trajectory\n",
    "from ase.io import read\n",
    "from ase.units import kJ\n",
    "from ase.eos import EquationOfState\n",
    "from ase.lattice.spacegroup import Spacegroup\n",
    "from ase.lattice.spacegroup import crystal\n",
    "\n",
    "import pickle"
   ]
  },
  {
   "cell_type": "markdown",
   "id": "e13394a0",
   "metadata": {},
   "source": [
    "#### Porpose of this code\n",
    "Evaluate the energy of the system using OFDFT with the  $\\rho_{0}$'s found in the code named rho0_dT. In this code we will use the KS electron density, and we will include in the OF calculation the corrected Wang-Teter KEDF to obtain the equation of states graph."
   ]
  },
  {
   "cell_type": "code",
   "execution_count": 2,
   "id": "4e567032",
   "metadata": {},
   "outputs": [],
   "source": [
    "path_pp='/home/valeria/Desktop/programs/dftpy/examples/ofpp/EAC/upf/blps/'\n",
    "file1='si.lda.upf'\n",
    "PP_list = {'Si': path_pp+file1}"
   ]
  },
  {
   "cell_type": "code",
   "execution_count": 3,
   "id": "d8df9c81",
   "metadata": {},
   "outputs": [],
   "source": [
    "KS_TE = []\n",
    "for i in np.arange(0,30,1):\n",
    "    with open('/home/valeria/Documents/DFTPY/Fitting_densities/Si-fcc/DATA2/Si'+str(i)+'.out') as D:\n",
    "        k = [match for match in D if \"Total energy\" in match]\n",
    "    KS_te = str(k).split()[6]\n",
    "    KS_TE.append(float(KS_te)) "
   ]
  },
  {
   "cell_type": "code",
   "execution_count": 4,
   "id": "79acadba",
   "metadata": {},
   "outputs": [],
   "source": [
    "rho00 = np.load('/home/valeria/Documents/DFTPY/Fitting_densities/Si-fcc/DATA2/rho0.npy')"
   ]
  },
  {
   "cell_type": "code",
   "execution_count": 6,
   "id": "ec2ad4ca",
   "metadata": {},
   "outputs": [
    {
     "name": "stdout",
     "output_type": "stream",
     "text": [
      "setting key: Si -> /home/valeria/Desktop/programs/dftpy/examples/ofpp/EAC/upf/blps/si.lda.upf\n",
      "setting key: Si -> /home/valeria/Desktop/programs/dftpy/examples/ofpp/EAC/upf/blps/si.lda.upf\n",
      "setting key: Si -> /home/valeria/Desktop/programs/dftpy/examples/ofpp/EAC/upf/blps/si.lda.upf\n",
      "setting key: Si -> /home/valeria/Desktop/programs/dftpy/examples/ofpp/EAC/upf/blps/si.lda.upf\n",
      "setting key: Si -> /home/valeria/Desktop/programs/dftpy/examples/ofpp/EAC/upf/blps/si.lda.upf\n",
      "setting key: Si -> /home/valeria/Desktop/programs/dftpy/examples/ofpp/EAC/upf/blps/si.lda.upf\n",
      "setting key: Si -> /home/valeria/Desktop/programs/dftpy/examples/ofpp/EAC/upf/blps/si.lda.upf\n",
      "setting key: Si -> /home/valeria/Desktop/programs/dftpy/examples/ofpp/EAC/upf/blps/si.lda.upf\n",
      "setting key: Si -> /home/valeria/Desktop/programs/dftpy/examples/ofpp/EAC/upf/blps/si.lda.upf\n",
      "setting key: Si -> /home/valeria/Desktop/programs/dftpy/examples/ofpp/EAC/upf/blps/si.lda.upf\n",
      "setting key: Si -> /home/valeria/Desktop/programs/dftpy/examples/ofpp/EAC/upf/blps/si.lda.upf\n",
      "setting key: Si -> /home/valeria/Desktop/programs/dftpy/examples/ofpp/EAC/upf/blps/si.lda.upf\n",
      "setting key: Si -> /home/valeria/Desktop/programs/dftpy/examples/ofpp/EAC/upf/blps/si.lda.upf\n",
      "setting key: Si -> /home/valeria/Desktop/programs/dftpy/examples/ofpp/EAC/upf/blps/si.lda.upf\n",
      "setting key: Si -> /home/valeria/Desktop/programs/dftpy/examples/ofpp/EAC/upf/blps/si.lda.upf\n",
      "setting key: Si -> /home/valeria/Desktop/programs/dftpy/examples/ofpp/EAC/upf/blps/si.lda.upf\n",
      "setting key: Si -> /home/valeria/Desktop/programs/dftpy/examples/ofpp/EAC/upf/blps/si.lda.upf\n",
      "setting key: Si -> /home/valeria/Desktop/programs/dftpy/examples/ofpp/EAC/upf/blps/si.lda.upf\n",
      "setting key: Si -> /home/valeria/Desktop/programs/dftpy/examples/ofpp/EAC/upf/blps/si.lda.upf\n",
      "setting key: Si -> /home/valeria/Desktop/programs/dftpy/examples/ofpp/EAC/upf/blps/si.lda.upf\n",
      "setting key: Si -> /home/valeria/Desktop/programs/dftpy/examples/ofpp/EAC/upf/blps/si.lda.upf\n",
      "setting key: Si -> /home/valeria/Desktop/programs/dftpy/examples/ofpp/EAC/upf/blps/si.lda.upf\n",
      "setting key: Si -> /home/valeria/Desktop/programs/dftpy/examples/ofpp/EAC/upf/blps/si.lda.upf\n",
      "setting key: Si -> /home/valeria/Desktop/programs/dftpy/examples/ofpp/EAC/upf/blps/si.lda.upf\n",
      "setting key: Si -> /home/valeria/Desktop/programs/dftpy/examples/ofpp/EAC/upf/blps/si.lda.upf\n",
      "setting key: Si -> /home/valeria/Desktop/programs/dftpy/examples/ofpp/EAC/upf/blps/si.lda.upf\n",
      "setting key: Si -> /home/valeria/Desktop/programs/dftpy/examples/ofpp/EAC/upf/blps/si.lda.upf\n",
      "setting key: Si -> /home/valeria/Desktop/programs/dftpy/examples/ofpp/EAC/upf/blps/si.lda.upf\n",
      "setting key: Si -> /home/valeria/Desktop/programs/dftpy/examples/ofpp/EAC/upf/blps/si.lda.upf\n",
      "setting key: Si -> /home/valeria/Desktop/programs/dftpy/examples/ofpp/EAC/upf/blps/si.lda.upf\n"
     ]
    }
   ],
   "source": [
    "l = np.linspace(0.8, 1.4, 30)\n",
    "rho0 = np.asarray(rho00)\n",
    "XC = Functional(type='XC',name='LDA')\n",
    "HARTREE = Functional(type='HARTREE')\n",
    "\n",
    "ENERGY = []\n",
    "VOLUME = []\n",
    "for n in np.arange(0, 30, 1):\n",
    "        i = int(n)\n",
    "        \n",
    "        KE = Functional(type='KEDF',name='WT', rho0=rho0[i])\n",
    "        ions = Ions.from_ase(bulk('Si', 'fcc', a= 3.405, cubic=True))\n",
    "        cell = ions.get_cell()\n",
    "        ions.set_cell(cell * l[i], scale_atoms=True)\n",
    "\n",
    "        rho = io.read_density('/home/valeria/Documents/DFTPY/Fitting_densities/Si-fcc/DATA2/rho0'+str(i)+'.xsf')    \n",
    "        grid = DirectGrid(lattice=ions.cell, nr=[len(rho),len(rho),len(rho[0,0])])\n",
    "        PSEUDO = LocalPseudo(grid = grid, ions=ions, PP_list=PP_list, rcut=10)\n",
    "        evaluator = TotalFunctional(KE=KE, XC=XC, HARTREE=HARTREE, PSEUDO=PSEUDO)\n",
    "        \n",
    "        energy = evaluator.Energy(rho=rho, ions=ions)\n",
    "        vol=ions.get_volume()\n",
    "        \n",
    "        ENERGY.append(energy)\n",
    "        VOLUME.append(vol)"
   ]
  },
  {
   "cell_type": "code",
   "execution_count": 8,
   "id": "d2f87fbc",
   "metadata": {},
   "outputs": [
    {
     "data": {
      "text/plain": [
       "<matplotlib.legend.Legend at 0x7f21b5c39190>"
      ]
     },
     "execution_count": 8,
     "metadata": {},
     "output_type": "execute_result"
    },
    {
     "data": {
      "image/png": "[encoded data removed]",
      "text/plain": [
       "<Figure size 640x480 with 1 Axes>"
      ]
     },
     "metadata": {},
     "output_type": "display_data"
    }
   ],
   "source": [
    "plt.plot(np.asarray(VOLUME)*0.529177**3/4,(np.asarray(ENERGY))*27.211407/4,'*--')\n",
    "plt.plot(np.asarray(VOLUME)*0.529177**3/4, np.asarray(KS_TE)*27.211407/8,'*--')\n",
    "plt.xlabel('Volume ($\\AA^{3}$)')\n",
    "plt.ylabel('Energy (eV/atom)')\n",
    "plt.title('Si-fcc')\n",
    "plt.legend(['cWT','KS'])"
   ]
  },
  {
   "cell_type": "code",
   "execution_count": null,
   "id": "86e5a713",
   "metadata": {},
   "outputs": [],
   "source": []
  }
 ],
 "metadata": {
  "kernelspec": {
   "display_name": "Python 3 (ipykernel)",
   "language": "python",
   "name": "python3"
  },
  "language_info": {
   "codemirror_mode": {
    "name": "ipython",
    "version": 3
   },
   "file_extension": ".py",
   "mimetype": "text/x-python",
   "name": "python",
   "nbconvert_exporter": "python",
   "pygments_lexer": "ipython3",
   "version": "3.9.13"
  }
 },
 "nbformat": 4,
 "nbformat_minor": 5
}
