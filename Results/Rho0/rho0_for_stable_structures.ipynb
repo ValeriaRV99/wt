{
 "cells": [
  {
   "cell_type": "code",
   "execution_count": 1,
   "id": "f70b09fc",
   "metadata": {},
   "outputs": [],
   "source": [
    "import numpy as np\n",
    "\n",
    "from dftpy.grid import DirectGrid\n",
    "from dftpy.field import DirectField\n",
    "from dftpy.functional import Functional, TotalFunctional\n",
    "from dftpy.functional.abstract_functional import AbstractFunctional\n",
    "from dftpy.functional.functional_output import FunctionalOutput\n",
    "from dftpy.optimization import Optimization\n",
    "from dftpy.constants import LEN_CONV, ENERGY_CONV\n",
    "from dftpy.ions import Ions\n",
    "from dftpy.math_utils import ecut2nr"
   ]
  },
  {
   "cell_type": "code",
   "execution_count": 2,
   "id": "5e18065e",
   "metadata": {},
   "outputs": [],
   "source": [
    "import h5py\n",
    "file = h5py.File(\"/Users/valeria/Documents/aiWT/Model_ML_function/training_set_data/organize_data/Data_phases.hdf5\", \"r\")\n",
    "fileX = file[\"Descriptor\"]\n",
    "rho0_KE_WT = file[\"rho0_KE_wt\"]\n",
    "rho0_TE_WT = file[\"rho0_TE_wt\"]\n",
    "rho0_DEN_WT = file[\"rho0_DEN_wt\"]\n",
    "rho0_KE_SM = file[\"rho0_KE_sm\"]\n",
    "rho0_TE_SM = file[\"rho0_TE_sm\"]\n",
    "rho0_DEN_SM = file[\"rho0_DEN_sm\"]\n",
    "Rho = file[\"rho\"]\n",
    "\n",
    "\n",
    "rho0_KE_wt =[]\n",
    "rho0_TE_wt =[]\n",
    "rho0_DEN_wt=[]\n",
    "rho0_KE_sm =[]\n",
    "rho0_TE_sm =[]\n",
    "rho0_DEN_sm =[]\n",
    "rho = []\n",
    "for i in np.arange(0,280):\n",
    "    rho0_KE_wt.append(rho0_KE_WT[i][0]) \n",
    "    rho0_TE_wt.append(rho0_TE_WT[i][0]) \n",
    "    rho0_DEN_wt.append(rho0_DEN_WT[i][0])\n",
    "    rho0_KE_sm.append(rho0_KE_SM[i][0]) \n",
    "    rho0_TE_sm.append(rho0_TE_SM[i][0]) \n",
    "    rho0_DEN_sm.append(rho0_DEN_SM[i][0])\n",
    "    rho.append(Rho[i][0])\n",
    "\n",
    "file.close()"
   ]
  },
  {
   "cell_type": "code",
   "execution_count": 3,
   "id": "c7f31289",
   "metadata": {},
   "outputs": [],
   "source": [
    "rho0_Btin_KE_wt  = rho0_KE_wt[0:30]\n",
    "rho0_fcc_KE_wt   = rho0_KE_wt[30:60]\n",
    "rho0_bcc_KE_wt   = rho0_KE_wt[60:90]\n",
    "rho0_cd_KE_wt    = rho0_KE_wt[90:120]\n",
    "rho0_dhcp_KE_wt  = rho0_KE_wt[120:150]\n",
    "rho0_Btin_hd_KE_wt = rho0_KE_wt[150:180]\n",
    "rho0_rand4_KE_wt = rho0_KE_wt[180:185]\n",
    "rho0_rand8_KE_wt = rho0_KE_wt[185:190]\n",
    "rho0_bct5_KE_wt = rho0_KE_wt[190:220]\n",
    "rho0_hcp_KE_wt = rho0_KE_wt[220:250]\n",
    "rho0_sh_KE_wt = rho0_KE_wt[250:280]\n",
    "\n",
    "rho0_Btin_TE_wt = rho0_TE_wt[0:30]\n",
    "rho0_fcc_TE_wt = rho0_TE_wt[30:60]\n",
    "rho0_bcc_TE_wt = rho0_TE_wt[60:90]\n",
    "rho0_cd_TE_wt = rho0_TE_wt[90:120]\n",
    "rho0_dhcp_TE_wt = rho0_TE_wt[120:150]\n",
    "rho0_Btin_hd_TE_wt = rho0_TE_wt[150:180]\n",
    "rho0_rand4_TE_wt = rho0_TE_wt[180:185]\n",
    "rho0_rand8_TE_wt = rho0_TE_wt[185:190]\n",
    "rho0_bct5_TE_wt = rho0_TE_wt[190:220]\n",
    "rho0_hcp_TE_wt = rho0_TE_wt[220:250]\n",
    "rho0_sh_TE_wt = rho0_TE_wt[250:280]\n",
    "\n",
    "rho0_Btin_DEN_wt = rho0_DEN_wt[0:30]\n",
    "rho0_fcc_DEN_wt = rho0_DEN_wt[30:60]\n",
    "rho0_bcc_DEN_wt = rho0_DEN_wt[60:90]\n",
    "rho0_cd_DEN_wt = rho0_DEN_wt[90:120]\n",
    "rho0_dhcp_DEN_wt = rho0_DEN_wt[120:150]\n",
    "rho0_Btin_hd_DEN_wt = rho0_DEN_wt[150:180]\n",
    "rho0_rand4_DEN_wt = rho0_DEN_wt[180:185]\n",
    "rho0_rand8_DEN_wt = rho0_DEN_wt[185:190]\n",
    "rho0_bct5_DEN_wt = rho0_DEN_wt[190:220]\n",
    "rho0_hcp_DEN_wt = rho0_DEN_wt[220:250]\n",
    "rho0_sh_DEN_wt = rho0_DEN_wt[250:280]\n",
    "\n",
    "rho_Btin    = rho[0:30]\n",
    "rho_fcc     = rho[30:60]\n",
    "rho_bcc     = rho[60:90]\n",
    "rho_cd      = rho[90:120]\n",
    "rho_dhcp    = rho[120:150]\n",
    "rho_Btin_hd = rho[150:180]\n",
    "rho_rand4   = rho[180:185]\n",
    "rho_rand8  = rho[185:190]\n",
    "rho_bct5    = rho[190:220]\n",
    "rho_hcp     = rho[220:250]\n",
    "rho_sh      = rho[250:280]\n",
    "\n",
    "rho = [rho_Btin[10], rho_fcc[10], rho_bcc[10], rho_cd[10]]"
   ]
  },
  {
   "cell_type": "code",
   "execution_count": 8,
   "id": "0b3c063f",
   "metadata": {},
   "outputs": [],
   "source": [
    "rho0_nv = np.load('/Users/valeria/Documents/aiWT/Final_version/wt/Results/Rho0/rho0_nv.npy')"
   ]
  },
  {
   "cell_type": "code",
   "execution_count": null,
   "id": "05c93c4b",
   "metadata": {},
   "outputs": [],
   "source": [
    "['Si_Btin',\n",
    " 'Si_fcc',\n",
    " 'Si_bcc',\n",
    " 'Si_cd',\n",
    " 'Si_dhcp',\n",
    " 'Si_hcp',\n",
    " 'Si_bct5',\n",
    " 'Si_cbcc',\n",
    " 'Si_sh']"
   ]
  },
  {
   "cell_type": "code",
   "execution_count": 12,
   "id": "c47f378d",
   "metadata": {},
   "outputs": [
    {
     "name": "stdout",
     "output_type": "stream",
     "text": [
      "\\begin{tabular}{lrrrr}\n",
      "\\hline\n",
      " Btin & 0.0349169 & 0.0351565 & 0.0365791 & 0.0386712 \\\\\n",
      " bcc  & 0.0562952 & 0.0561599 & 0.0569329 & 0.0600582 \\\\\n",
      " fcc  & 0.0479818 & 0.0482134 & 0.0449756 & 0.0401807 \\\\\n",
      " cd   & 0.0217497 & 0.0229267 & 0.022831  & 0.0296179 \\\\\n",
      " dhcp & 0.0221286 & 0.0234529 & 0.0263874 & 0.0301834 \\\\\n",
      " hcp  & 0.0420006 & 0.0421712 & 0.0433257 & 0.0427526 \\\\\n",
      " bct5 & 0.0322228 & 0.0321991 & 0.0469511 & 0.0350586 \\\\\n",
      " sh   & 0.0361805 & 0.0363498 & 0.0375672 & 0.0338523 \\\\\n",
      "\\hline\n",
      "\\end{tabular}\n"
     ]
    }
   ],
   "source": [
    "from tabulate import tabulate\n",
    "## Energies wrt KS bcc energies\n",
    "data = [\n",
    "    [\"Btin\", rho0_Btin_KE_wt[10], rho0_Btin_TE_wt[10], rho0_Btin_DEN_wt[10],  rho0_nv[0]],\n",
    "    [\"bcc\",rho0_fcc_KE_wt[10] , rho0_fcc_TE_wt[10] , rho0_fcc_DEN_wt[10] , rho0_nv[1]],\n",
    "    [\"fcc\", rho0_bcc_KE_wt[10] , rho0_bcc_TE_wt[10] , rho0_bcc_DEN_wt[10] , rho0_nv[2]],\n",
    "    [\"cd\", rho0_cd_KE_wt[10]  , rho0_cd_TE_wt[10]  , rho0_cd_DEN_wt[10]  , rho0_nv[3]],\n",
    "    [\"dhcp\", rho0_dhcp_KE_wt[10], rho0_dhcp_TE_wt[10], rho0_dhcp_DEN_wt[10], rho0_nv[4]],\n",
    "    [\"hcp\", rho0_hcp_KE_wt[10], rho0_hcp_TE_wt[10], rho0_hcp_DEN_wt[10], rho0_nv[5]],\n",
    "    [\"bct5\", rho0_bct5_KE_wt[9], rho0_bct5_TE_wt[9], rho0_bct5_DEN_wt[9], rho0_nv[6]],\n",
    "    [\"sh\", rho0_sh_KE_wt[10], rho0_sh_TE_wt[10], rho0_sh_DEN_wt[10], rho0_nv[7]],\n",
    "    \n",
    "]\n",
    "\n",
    "table = tabulate(data, headers=[r\"rho0\",\"rho0_KIN\",\"rho0_TE\",\"rho0_DEN\", \"N/V\"], tablefmt=\"grid\")\n",
    "\n",
    "# print(table)\n",
    "print(tabulate(data, tablefmt=\"latex\"))\n"
   ]
  },
  {
   "cell_type": "code",
   "execution_count": 14,
   "id": "29fae58b",
   "metadata": {},
   "outputs": [
    {
     "data": {
      "text/plain": [
       "0.022830958079637583"
      ]
     },
     "execution_count": 14,
     "metadata": {},
     "output_type": "execute_result"
    }
   ],
   "source": [
    "rho0_cd_DEN_wt[10]"
   ]
  }
 ],
 "metadata": {
  "kernelspec": {
   "display_name": "Python 3 (ipykernel)",
   "language": "python",
   "name": "python3"
  },
  "language_info": {
   "codemirror_mode": {
    "name": "ipython",
    "version": 3
   },
   "file_extension": ".py",
   "mimetype": "text/x-python",
   "name": "python",
   "nbconvert_exporter": "python",
   "pygments_lexer": "ipython3",
   "version": "3.11.6"
  }
 },
 "nbformat": 4,
 "nbformat_minor": 5
}
