{
 "cells": [
  {
   "cell_type": "markdown",
   "id": "1fc06d80",
   "metadata": {},
   "source": [
    "# QEpy for bulk Al\n",
    "\n",
    "## Nov.  06, 2023"
   ]
  },
  {
   "cell_type": "markdown",
   "id": "fd6c474a",
   "metadata": {},
   "source": [
    "pip install dftpy mpi4py mpi4py-fft qepy"
   ]
  },
  {
   "cell_type": "code",
   "execution_count": 2,
   "id": "2d812724",
   "metadata": {},
   "outputs": [],
   "source": [
    "from qepy.driver import Driver\n",
    "from qepy.io import QEInput\n",
    "from ase import Atoms\n",
    "from ase.build import bulk\n",
    "from ase.io import read"
   ]
  },
  {
   "cell_type": "markdown",
   "id": "cd728254",
   "metadata": {},
   "source": [
    "### Import needed DFTpy modules"
   ]
  },
  {
   "cell_type": "code",
   "execution_count": 3,
   "id": "796844ef",
   "metadata": {},
   "outputs": [],
   "source": [
    "import numpy as np\n",
    "\n",
    "from dftpy.grid import DirectGrid\n",
    "from dftpy.field import DirectField\n",
    "from dftpy.functional import Functional, TotalFunctional, FunctionalOutput\n",
    "from dftpy.functional.abstract_functional import AbstractFunctional\n",
    "from dftpy.ions import Ions\n",
    "from dftpy.constants import Units\n",
    "from dftpy.formats import io\n",
    "from dftpy.mpi import mp\n",
    "from ase.io import read"
   ]
  },
  {
   "cell_type": "code",
   "execution_count": 4,
   "id": "61355ec0",
   "metadata": {},
   "outputs": [],
   "source": [
    "import os\n",
    "os.chdir('../..')\n",
    "path_file = os.getcwd()"
   ]
  },
  {
   "cell_type": "markdown",
   "id": "5d832b41",
   "metadata": {},
   "source": [
    "## MPI setup"
   ]
  },
  {
   "cell_type": "code",
   "execution_count": 5,
   "id": "b2423ec3",
   "metadata": {},
   "outputs": [],
   "source": [
    "try :\n",
    "    from mpi4py import MPI\n",
    "    comm = MPI.COMM_WORLD\n",
    "    mp.comm = MPI.COMM_WORLD\n",
    "except:\n",
    "    ## Serial version also can be done without mpi4py\n",
    "    comm = None"
   ]
  },
  {
   "cell_type": "code",
   "execution_count": 6,
   "id": "1837d8d9",
   "metadata": {},
   "outputs": [],
   "source": [
    "dictionary = {\n",
    "    'Si_Btin': {'file': 'Si_Btin.vasp', 'structure': '', 'lattice':None,  'index': 9}, \n",
    "    'Si_fcc': {'file': 'Si_fcc.vasp', 'structure': 'fcc', 'lattice': 3.405,  'index': 16},\n",
    "    'Si_bcc': {'file': 'Si_bcc.vasp', 'structure': 'bcc', 'lattice': None,  'index': 9},\n",
    "    'Si_cd': {'file': 'Si_cd.vasp', 'structure': 'diamond', 'lattice':5.43,  'index': 10},\n",
    "    'Si_dhcp': {'file': 'Si_dhcp.vasp', 'structure': 'dhcp', 'lattice':None,  'index': 10},\n",
    "    'Si_hcp': {'file': 'Si_hcp.vasp', 'structure': 'hcp', 'lattice':None,  'index': 10},\n",
    "    'Si_bct5': {'file': 'Si_bct5.vasp', 'structure': 'bct5', 'lattice':None,  'index': 10},\n",
    "    'Si_sh': {'file': 'Si_sh.vasp', 'structure': 'sh', 'lattice':None,  'index': 9},\n",
    "}"
   ]
  },
  {
   "cell_type": "code",
   "execution_count": 7,
   "id": "3fc9c438",
   "metadata": {},
   "outputs": [],
   "source": [
    "def get_ions(phase, r):\n",
    "    if phase=='Si_fcc' or phase=='Si_8cd':\n",
    "        print(dictionary[phase]['structure'])\n",
    "        ions = Ions.from_ase(bulk('Si', str(dictionary[phase]['structure']), a= dictionary[phase]['lattice'], cubic=True))\n",
    "#         print(l[i])\n",
    "        cell = ions.get_cell()\n",
    "        ions.set_cell(cell * r, scale_atoms=True) \n",
    "    if phase=='Si_dhcp':\n",
    "        inputfile = path_file+'/Results/Structures/'+dictionary[phase]['file']\n",
    "        ions = Ions.from_ase(read(inputfile, format='vasp'))\n",
    "        cell = ions.get_cell()\n",
    "        ions.set_cell(cell * r, scale_atoms=True) \n",
    "    else:\n",
    "        inputfile = path_file+'/Results/Structures/'+dictionary[phase]['file']\n",
    "        ions = Ions.from_ase(read(inputfile, format='vasp'))\n",
    "        cell = ions.get_cell()\n",
    "        ions.set_cell(cell * r, scale_atoms=True)\n",
    "    return ions"
   ]
  },
  {
   "cell_type": "code",
   "execution_count": 8,
   "id": "dccc951a",
   "metadata": {},
   "outputs": [],
   "source": [
    "r = np.linspace(0.8, 1.4, 30)"
   ]
  },
  {
   "cell_type": "code",
   "execution_count": 9,
   "id": "a9d13b35",
   "metadata": {},
   "outputs": [],
   "source": [
    "Phases = ['Si_dhcp', 'Si_hcp', 'Si_bct5']#, 'Si_sh'] \n",
    "atoms = []\n",
    "for i, phase in enumerate(Phases):\n",
    "    atoms.append(get_ions(phase, r[dictionary[phase]['index']]))"
   ]
  },
  {
   "cell_type": "code",
   "execution_count": 10,
   "id": "9c341c45",
   "metadata": {},
   "outputs": [],
   "source": [
    "QE_options = []\n",
    "for i, phase in enumerate(Phases):\n",
    "    qe_options = {\n",
    "    '&control': {\n",
    "        'calculation': \"'scf'\",\n",
    "        'pseudo_dir': \"'/Users/valeria/Documents/PP/ofpp/EAC/upf/blps/'\",\n",
    "        'outdir': \"'./tmp'\",\n",
    "    },\n",
    "    '&system': {\n",
    "        'ibrav' : 0,\n",
    "        'degauss': 0.005,\n",
    "        'ecutwfc' : 60,\n",
    "        'occupations': \"'smearing'\"\n",
    "    },\n",
    "    '&electrons': {\n",
    "        'conv_thr' : 1e-8,\n",
    "    },\n",
    "    'atomic_species': ['Si  28.08 si.lda.upf'],\n",
    "#     'k_points automatic': ['11 11 11 0 0 0'],\n",
    "    'k_points automatic': ['8 8 8 0 0 0'],\n",
    "}\n",
    "    qe_options = QEInput().update_atoms(atoms[i], qe_options)\n",
    "    QE_options.append(qe_options)"
   ]
  },
  {
   "cell_type": "markdown",
   "id": "a98d5d7b",
   "metadata": {},
   "source": [
    "### Run a full-SCF or directly read the converged density"
   ]
  },
  {
   "cell_type": "code",
   "execution_count": 11,
   "id": "6293166b",
   "metadata": {
    "scrolled": true
   },
   "outputs": [
    {
     "name": "stdout",
     "output_type": "stream",
     "text": [
      "Si_dhcp\n",
      "Si_hcp\n",
      "Si_bct5\n"
     ]
    }
   ],
   "source": [
    "# SCF\n",
    "Rho_opt = []\n",
    "ks_ke_opt = []\n",
    "ks_te_opt = []\n",
    "arr =[0]\n",
    "for i, phase in enumerate(Phases):\n",
    "    print(phase)\n",
    "    driver=Driver(qe_options=QE_options[i], iterative = False, logfile='tmp.out', comm=comm)\n",
    "    driver.scf()\n",
    "    \n",
    "    rho_f = driver.get_density()\n",
    "    rho_opt = driver.data2field(rho_f)\n",
    "    ions = Ions.from_ase(atoms[i])\n",
    "    \n",
    "    energy = driver.get_energy() / 2.0\n",
    "    driver.calc_energy()\n",
    "    ks_ke_opt.append(driver.embed.energies.ek)\n",
    "    grid = driver.get_dftpy_grid(mp=mp)\n",
    "    Rho_opt.append(rho_opt)\n",
    "    ks_te_opt.append(energy)"
   ]
  },
  {
   "cell_type": "code",
   "execution_count": 12,
   "id": "d131593e",
   "metadata": {},
   "outputs": [
    {
     "name": "stdout",
     "output_type": "stream",
     "text": [
      "Local:-> [ 72  72 120] Global:-> [ 72  72 120] CPUs:-> 1\n",
      "Local:-> [48 48 80] Global:-> [48 48 80] CPUs:-> 1\n",
      "Local:-> [ 60  60 120] Global:-> [ 60  60 120] CPUs:-> 1\n"
     ]
    }
   ],
   "source": [
    "Grid = []\n",
    "for i, phase in enumerate(Phases):\n",
    "    grid = Rho_opt[i].grid\n",
    "    Grid.append(grid)\n",
    "    if mp.is_root:\n",
    "        print('Local:->', grid.nr, 'Global:->', grid.nrR, 'CPUs:->', mp.size, flush=True)"
   ]
  },
  {
   "cell_type": "code",
   "execution_count": 13,
   "id": "29390875",
   "metadata": {},
   "outputs": [],
   "source": [
    "class ExternalPotential(AbstractFunctional):\n",
    "    \n",
    "    def __init__(self, potential, name='EXT', type='EXT', **kwargs):\n",
    "        self.potential = potential\n",
    "        self.name = name\n",
    "        self.type = type\n",
    "        \n",
    "    def compute(self, density, **kwargs):\n",
    "        energy = np.sum(density*self.potential)*density.grid.dV\n",
    "        functional=FunctionalOutput(name=self.name, potential=self.potential, energy=energy)\n",
    "        return functional"
   ]
  },
  {
   "cell_type": "code",
   "execution_count": 14,
   "id": "1c54ee10",
   "metadata": {},
   "outputs": [],
   "source": [
    "A = 0.01\n",
    "q = np.zeros(3)\n",
    "j_h=5\n",
    "Vext=[]\n",
    "V = []\n",
    "\n",
    "for i, phase in enumerate(Phases):\n",
    "\n",
    "    q[0] = 2*np.pi / Grid[i].cell.lengths()[0] # only x direction\n",
    "    v = 2 * A * np.cos(np.einsum('i,ijkl->jkl', j_h*q, Grid[i].r))\n",
    "    vext = ExternalPotential(v)\n",
    "    Vext.append(vext)\n",
    "    V.append(v)"
   ]
  },
  {
   "cell_type": "markdown",
   "id": "3834ac24",
   "metadata": {},
   "source": [
    "### Total functional with vext"
   ]
  },
  {
   "cell_type": "code",
   "execution_count": null,
   "id": "3163b1f4",
   "metadata": {
    "scrolled": true
   },
   "outputs": [
    {
     "name": "stdout",
     "output_type": "stream",
     "text": [
      "0\n"
     ]
    }
   ],
   "source": [
    "Rho_f = []\n",
    "Rho_diff = []\n",
    "ks_ke_vext = []\n",
    "ks_te_vext = []\n",
    "for i, phase in enumerate(Phases[0:2]):\n",
    "    print(i)\n",
    "    qe_options = QE_options[i]\n",
    "    qe_options['&electrons']['mixing_mode'] = \"'TF'\"\n",
    "    qe_options['&system']['nosym'] = True\n",
    "    if phase=='Si_hcp':\n",
    "        qe_options['&system']['nr1'] = 25\n",
    "        qe_options['&system']['nr2'] = 25\n",
    "        qe_options['&system']['nr3'] = 48\n",
    "\n",
    "    driver=Driver(qe_options=qe_options, iterative = False, logfile='tmp.out')\n",
    "    rho_f = driver.field2data(Rho_opt[i])\n",
    "    driver.set_density(rho_f)\n",
    "    extpot_global = Grid[i].gather(V[i])\n",
    "    print(extpot_global.shape)\n",
    "    extpot = driver.field2data(extpot_global)*2.0 # Ha. to Ry\n",
    "    driver.set_external_potential(potential=extpot, exttype=0)\n",
    "\n",
    "    driver.electrons()\n",
    "    energy = driver.calc_energy() / 2.0\n",
    "    \n",
    "    ks_ke_vext.append(driver.embed.energies.ek)\n",
    "    print(energy)\n",
    "    rho_f = driver.get_density()\n",
    "    Rho_f.append(rho_f)\n",
    "    if driver.is_root:\n",
    "        rho_vext= driver.data2field(rho_f)\n",
    "        rho_diff= rho_vext - Rho_opt[i]\n",
    "#         rho_diff.write('rho_diff_8'+str(i)+'.xsf', ions=driver.get_dftpy_ions())\n",
    "        rho2 = np.abs(rho_diff)\n",
    "        ratio = rho_vext/Rho_opt[i]\n",
    "    Rho_diff.append(rho2.integral()*0.5)\n",
    "    ks_te_vext.append(energy)\n"
   ]
  },
  {
   "cell_type": "code",
   "execution_count": null,
   "id": "7195bb4a",
   "metadata": {},
   "outputs": [],
   "source": [
    "ke_diff = -np.asarray(ks_ke_opt)+np.asarray(ks_ke_vext)\n",
    "te_diff = -np.asarray(ks_te_opt)+np.asarray(ks_te_vext)\n",
    "rho_diff = np.abs(Rho_diff)"
   ]
  },
  {
   "cell_type": "code",
   "execution_count": null,
   "id": "59fbfa64",
   "metadata": {},
   "outputs": [],
   "source": [
    "print(ke_diff)\n",
    "print(te_diff)\n",
    "print(rho_diff)"
   ]
  },
  {
   "cell_type": "code",
   "execution_count": null,
   "id": "f288c6a9",
   "metadata": {},
   "outputs": [],
   "source": [
    "np.save('/Users/valeria/Documents/aiWT/Final_version/wt/wt/Results/Response/ks_ke_diff_j55', ke_diff)\n",
    "np.save('/Users/valeria/Documents/aiWT/Final_version/wt/wt/Results/Response/ks_te_diff_j55', te_diff)\n",
    "np.save('/Users/valeria/Documents/aiWT/Final_version/wt/wt/Results/Response/ks_rho_diff_j55', Rho_diff)"
   ]
  },
  {
   "cell_type": "code",
   "execution_count": 18,
   "id": "4a56b187",
   "metadata": {},
   "outputs": [],
   "source": [
    "from dftpy.formats import io\n",
    "# rho_diff_bct5_DEN = io.read_density('rho_diff_j1_DEN.xsf')\n",
    "# rho_diff_bct5_ENE = io.read_density('rho_diff_j1_ENE.xsf')\n",
    "# rho_diff_bct5_KEN = io.read_density('rho_diff_j1_KEN.xsf')\n",
    "# rho_diff_bct5_AVE = io.read_density('rho_diff_j1_AVE.xsf')\n"
   ]
  },
  {
   "cell_type": "code",
   "execution_count": 20,
   "id": "2c4a1d26",
   "metadata": {},
   "outputs": [],
   "source": [
    "rho_resp_diff_DEN = (rho_diff - rho_diff_bct5_DEN)\n",
    "rho_resp_diff_ENE = (rho_diff - rho_diff_bct5_ENE)\n",
    "rho_resp_diff_KEN = (rho_diff - rho_diff_bct5_KEN)\n",
    "rho_resp_diff_AVE = (rho_diff - rho_diff_bct5_AVE)"
   ]
  },
  {
   "cell_type": "code",
   "execution_count": 21,
   "id": "2491034d",
   "metadata": {},
   "outputs": [],
   "source": [
    "rho_diff_bct5_DEN.write('rho_resp_diff_j5_DEN.xsf', ions=ions)\n",
    "rho_diff_bct5_ENE.write('rho_resp_diff_j5_ENE.xsf', ions=ions)\n",
    "rho_diff_bct5_KEN.write('rho_resp_diff_j5_KEN.xsf', ions=ions)\n",
    "rho_diff_bct5_AVE.write('rho_resp_diff_j5_AVE.xsf', ions=ions)"
   ]
  },
  {
   "cell_type": "code",
   "execution_count": 19,
   "id": "7f6f99a3",
   "metadata": {},
   "outputs": [],
   "source": [
    "rho_diff_bct5_DEN = io.read_density('rho_diff_j5_DEN.xsf')\n",
    "rho_diff_bct5_ENE = io.read_density('rho_diff_j5_ENE.xsf')\n",
    "rho_diff_bct5_KEN = io.read_density('rho_diff_j5_KEN.xsf')\n",
    "rho_diff_bct5_AVE = io.read_density('rho_diff_j5_AVE.xsf')"
   ]
  },
  {
   "cell_type": "code",
   "execution_count": 30,
   "id": "ea02886c",
   "metadata": {},
   "outputs": [],
   "source": [
    "rho_resp_diff = (rho_diff - rho_diff_bct5)"
   ]
  },
  {
   "cell_type": "code",
   "execution_count": 32,
   "id": "da6f6293",
   "metadata": {},
   "outputs": [],
   "source": [
    "rho_resp_diff_.write('rho_resp_diff_j1_DEN.xsf', ions=ions)"
   ]
  }
 ],
 "metadata": {
  "kernelspec": {
   "display_name": "Python 3 (ipykernel)",
   "language": "python",
   "name": "python3"
  },
  "language_info": {
   "codemirror_mode": {
    "name": "ipython",
    "version": 3
   },
   "file_extension": ".py",
   "mimetype": "text/x-python",
   "name": "python",
   "nbconvert_exporter": "python",
   "pygments_lexer": "ipython3",
   "version": "3.11.6"
  }
 },
 "nbformat": 4,
 "nbformat_minor": 5
}
