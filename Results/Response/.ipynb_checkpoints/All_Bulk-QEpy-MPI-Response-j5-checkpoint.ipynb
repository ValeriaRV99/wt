{
 "cells": [
  {
   "cell_type": "markdown",
   "id": "1fc06d80",
   "metadata": {},
   "source": [
    "# QEpy for bulk Al\n",
    "\n",
    "## Nov.  06, 2023"
   ]
  },
  {
   "cell_type": "markdown",
   "id": "fd6c474a",
   "metadata": {},
   "source": [
    "pip install dftpy mpi4py mpi4py-fft qepy"
   ]
  },
  {
   "cell_type": "code",
   "execution_count": 1,
   "id": "2d812724",
   "metadata": {},
   "outputs": [],
   "source": [
    "from qepy.driver import Driver\n",
    "from qepy.io import QEInput\n",
    "from ase import Atoms\n",
    "from ase.build import bulk\n",
    "from ase.io import read"
   ]
  },
  {
   "cell_type": "markdown",
   "id": "cd728254",
   "metadata": {},
   "source": [
    "### Import needed DFTpy modules"
   ]
  },
  {
   "cell_type": "code",
   "execution_count": 2,
   "id": "796844ef",
   "metadata": {},
   "outputs": [],
   "source": [
    "import numpy as np\n",
    "\n",
    "from dftpy.grid import DirectGrid\n",
    "from dftpy.field import DirectField\n",
    "from dftpy.functional import Functional, TotalFunctional, FunctionalOutput\n",
    "from dftpy.functional.abstract_functional import AbstractFunctional\n",
    "from dftpy.ions import Ions\n",
    "from dftpy.constants import Units\n",
    "from dftpy.formats import io\n",
    "from dftpy.mpi import mp\n",
    "from ase.io import read"
   ]
  },
  {
   "cell_type": "code",
   "execution_count": 3,
   "id": "61355ec0",
   "metadata": {},
   "outputs": [],
   "source": [
    "import os\n",
    "os.chdir('../..')\n",
    "path_file = os.getcwd()"
   ]
  },
  {
   "cell_type": "markdown",
   "id": "5d832b41",
   "metadata": {},
   "source": [
    "## MPI setup"
   ]
  },
  {
   "cell_type": "code",
   "execution_count": 4,
   "id": "b2423ec3",
   "metadata": {},
   "outputs": [],
   "source": [
    "try :\n",
    "    from mpi4py import MPI\n",
    "    comm = MPI.COMM_WORLD\n",
    "    mp.comm = MPI.COMM_WORLD\n",
    "except:\n",
    "    ## Serial version also can be done without mpi4py\n",
    "    comm = None"
   ]
  },
  {
   "cell_type": "code",
   "execution_count": 5,
   "id": "1837d8d9",
   "metadata": {},
   "outputs": [],
   "source": [
    "dictionary = {\n",
    "    'Si_Btin': {'file': 'Si_Btin.vasp'}, \n",
    "    'Si_fcc': {'file': 'Si_fcc.vasp'},\n",
    "    'Si_bcc': {'file': 'Si_bcc.vasp'},\n",
    "    'Si_cd': {'file': 'Si_cd.vasp'},\n",
    "    'Si_dhcp': {'file': 'Si_dhcp.vasp'},\n",
    "    'Si_bct5': {'file': 'Si_bct5.vasp'},\n",
    "    'Si_sh': {'file': 'Si_sh.vasp'},\n",
    "    'Si_cbcc': {'file': 'Si_cbcc.vasp'},\n",
    "    'Si_hcp': {'file': 'Si_hcp.vasp'},\n",
    "}"
   ]
  },
  {
   "cell_type": "code",
   "execution_count": 6,
   "id": "3fc9c438",
   "metadata": {},
   "outputs": [],
   "source": [
    "def get_ions(phase):\n",
    "    inputfile = path_file+'/Results/Structures/'+dictionary[phase]['file']\n",
    "    ions = read(inputfile, format='vasp')\n",
    "    return ions"
   ]
  },
  {
   "cell_type": "code",
   "execution_count": 8,
   "id": "a9d13b35",
   "metadata": {},
   "outputs": [],
   "source": [
    "# Phases = ['Si_Btin', 'Si_fcc', 'Si_bcc', 'Si_cd',\n",
    "# Phases = ['Si_dhcp' , 'Si_bct5', 'Si_cbcc', 'Si_sh']#, 'Si_hcp'] #]#\n",
    "# Phases = ['Si_Btin', 'Si_fcc', 'Si_bcc', 'Si_cd', 'Si_dhcp', 'Si_hcp', \n",
    "Phases = ['Si_Btin', 'Si_fcc', 'Si_bcc', 'Si_cd', 'Si_dhcp', 'Si_hcp', 'Si_bct5', 'Si_sh'] \n",
    "\n",
    "atoms = []\n",
    "for i, phase in enumerate(Phases):\n",
    "    atoms.append(get_ions(phase))"
   ]
  },
  {
   "cell_type": "code",
   "execution_count": 9,
   "id": "9c341c45",
   "metadata": {},
   "outputs": [],
   "source": [
    "QE_options = []\n",
    "for i, phase in enumerate(Phases):\n",
    "    qe_options = {\n",
    "    '&control': {\n",
    "        'calculation': \"'scf'\",\n",
    "        'pseudo_dir': \"'/Users/valeria/Documents/PP/ofpp/EAC/upf/blps/'\",\n",
    "        'outdir': \"'./tmp'\",\n",
    "    },\n",
    "    '&system': {\n",
    "        'ibrav' : 0,\n",
    "        'degauss': 0.005,\n",
    "        'ecutwfc' : 60,\n",
    "        'occupations': \"'smearing'\"\n",
    "    },\n",
    "    '&electrons': {\n",
    "        'conv_thr' : 1e-8,\n",
    "    },\n",
    "    'atomic_species': ['Si  28.08 si.lda.upf'],\n",
    "#     'k_points automatic': ['11 11 11 0 0 0'],\n",
    "    'k_points automatic': ['8 8 8 0 0 0'],\n",
    "}\n",
    "    qe_options = QEInput().update_atoms(atoms[i], qe_options)\n",
    "    QE_options.append(qe_options)"
   ]
  },
  {
   "cell_type": "markdown",
   "id": "a98d5d7b",
   "metadata": {},
   "source": [
    "### Run a full-SCF or directly read the converged density"
   ]
  },
  {
   "cell_type": "code",
   "execution_count": null,
   "id": "6293166b",
   "metadata": {
    "scrolled": true
   },
   "outputs": [],
   "source": [
    "# SCF\n",
    "Rho_opt = []\n",
    "ks_ke_opt = []\n",
    "ks_te_opt = []\n",
    "arr =[0]\n",
    "for i, phase in enumerate(Phases):\n",
    "    driver=Driver(qe_options=QE_options[i], iterative = False, logfile='tmp.out', comm=comm)\n",
    "    driver.scf()\n",
    "    \n",
    "    rho_f = driver.get_density()\n",
    "    rho_opt = driver.data2field(rho_f)\n",
    "    ions = Ions.from_ase(atoms[i])\n",
    "    \n",
    "    energy = driver.get_energy() / 2.0\n",
    "    driver.calc_energy()\n",
    "    ks_ke_opt.append(driver.embed.energies.ek)\n",
    "    grid = driver.get_dftpy_grid(mp=mp)\n",
    "    Rho_opt.append(rho_opt)\n",
    "    ks_te_opt.append(energy)"
   ]
  },
  {
   "cell_type": "code",
   "execution_count": null,
   "id": "d131593e",
   "metadata": {},
   "outputs": [],
   "source": [
    "# Read converged density\n",
    "Grid = []\n",
    "\n",
    "for i, phase in enumerate(Phases):\n",
    "    grid = Rho_opt[i].grid\n",
    "    Grid.append(grid)\n",
    "    if mp.is_root:\n",
    "        print('Local:->', grid.nr, 'Global:->', grid.nrR, 'CPUs:->', mp.size, flush=True)"
   ]
  },
  {
   "cell_type": "code",
   "execution_count": null,
   "id": "29390875",
   "metadata": {},
   "outputs": [],
   "source": [
    "class ExternalPotential(AbstractFunctional):\n",
    "    \n",
    "    def __init__(self, potential, name='EXT', type='EXT', **kwargs):\n",
    "        self.potential = potential\n",
    "        self.name = name\n",
    "        self.type = type\n",
    "        \n",
    "    def compute(self, density, **kwargs):\n",
    "        energy = np.sum(density*self.potential)*density.grid.dV\n",
    "        functional=FunctionalOutput(name=self.name, potential=self.potential, energy=energy)\n",
    "        return functional"
   ]
  },
  {
   "cell_type": "code",
   "execution_count": null,
   "id": "964b0e61",
   "metadata": {},
   "outputs": [],
   "source": [
    "# Grid = Rho_opt[0].grid"
   ]
  },
  {
   "cell_type": "code",
   "execution_count": null,
   "id": "1c54ee10",
   "metadata": {},
   "outputs": [],
   "source": [
    "A = 0.01\n",
    "q = np.zeros(3)\n",
    "j_h=5\n",
    "Vext=[]\n",
    "V = []\n",
    "\n",
    "for i, phase in enumerate(Phases):\n",
    "\n",
    "    q[1] = 2*np.pi / Grid[i].cell.lengths()[1] # only x direction\n",
    "    v = 2 * A * np.cos(np.einsum('i,ijkl->jkl', j_h*q, Grid[i].r))\n",
    "    vext = ExternalPotential(v)\n",
    "    Vext.append(vext)\n",
    "    V.append(v)"
   ]
  },
  {
   "cell_type": "markdown",
   "id": "3834ac24",
   "metadata": {},
   "source": [
    "### Total functional with vext"
   ]
  },
  {
   "cell_type": "code",
   "execution_count": 14,
   "id": "3163b1f4",
   "metadata": {
    "scrolled": true
   },
   "outputs": [
    {
     "name": "stdout",
     "output_type": "stream",
     "text": [
      "0\n",
      "(25, 25, 24)\n",
      "-4.025076007576096\n",
      "1\n",
      "(25, 25, 48)\n",
      "-8.040274441905959\n"
     ]
    }
   ],
   "source": [
    "Rho_f = []\n",
    "Rho_diff = []\n",
    "ks_ke_vext = []\n",
    "ks_te_vext = []\n",
    "for i, phase in enumerate(Phases):\n",
    "    print(i)\n",
    "    qe_options = QE_options[i]\n",
    "    qe_options['&electrons']['mixing_mode'] = \"'TF'\"\n",
    "    qe_options['&system']['nosym'] = True\n",
    "    if phase=='Si_hcp':\n",
    "        qe_options['&system']['nr1'] = 25\n",
    "        qe_options['&system']['nr2'] = 25\n",
    "        qe_options['&system']['nr3'] = 48\n",
    "\n",
    "    driver=Driver(qe_options=qe_options, iterative = False, logfile='tmp.out')\n",
    "    rho_f = driver.field2data(Rho_opt[i])\n",
    "    driver.set_density(rho_f)\n",
    "    extpot_global = Grid[i].gather(V[i])\n",
    "    print(extpot_global.shape)\n",
    "    extpot = driver.field2data(extpot_global)*2.0 # Ha. to Ry\n",
    "    driver.set_external_potential(potential=extpot, exttype=0)\n",
    "\n",
    "    driver.electrons()\n",
    "    energy = driver.calc_energy() / 2.0\n",
    "    \n",
    "    ks_ke_vext.append(driver.embed.energies.ek)\n",
    "    print(energy)\n",
    "    rho_f = driver.get_density()\n",
    "    Rho_f.append(rho_f)\n",
    "    if driver.is_root:\n",
    "        rho_vext= driver.data2field(rho_f)\n",
    "        rho_diff= rho_vext - Rho_opt[i]\n",
    "        rho_diff.write('rho_diff_8'+str(i)+'.xsf', ions=driver.get_dftpy_ions())\n",
    "        rho2 = np.abs(rho_diff)\n",
    "        ratio = rho_vext/Rho_opt[i]\n",
    "    Rho_diff.append(rho2.integral()*0.5)\n",
    "    ks_te_vext.append(energy)\n"
   ]
  },
  {
   "cell_type": "code",
   "execution_count": 15,
   "id": "ef2fd6d4",
   "metadata": {},
   "outputs": [
    {
     "data": {
      "text/plain": [
       "array([25, 25, 48], dtype=int32)"
      ]
     },
     "execution_count": 15,
     "metadata": {},
     "output_type": "execute_result"
    }
   ],
   "source": [
    "driver.get_number_of_grid_points()"
   ]
  },
  {
   "cell_type": "code",
   "execution_count": 16,
   "id": "01f6d170",
   "metadata": {},
   "outputs": [
    {
     "data": {
      "text/plain": [
       "['Si_sh', 'Si_hcp']"
      ]
     },
     "execution_count": 16,
     "metadata": {},
     "output_type": "execute_result"
    }
   ],
   "source": [
    "Phases"
   ]
  },
  {
   "cell_type": "code",
   "execution_count": 20,
   "id": "7195bb4a",
   "metadata": {},
   "outputs": [],
   "source": [
    "ke_diff = -np.asarray(ks_ke_opt)+np.asarray(ks_ke_vext)"
   ]
  },
  {
   "cell_type": "code",
   "execution_count": 22,
   "id": "98735339",
   "metadata": {},
   "outputs": [],
   "source": [
    "te_diff = -np.asarray(ks_te_opt)+np.asarray(ks_te_vext)"
   ]
  },
  {
   "cell_type": "code",
   "execution_count": 25,
   "id": "84c86b3c",
   "metadata": {},
   "outputs": [
    {
     "data": {
      "text/plain": [
       "array([0.00041902, 0.00029839])"
      ]
     },
     "execution_count": 25,
     "metadata": {},
     "output_type": "execute_result"
    }
   ],
   "source": [
    "te_diff"
   ]
  },
  {
   "cell_type": "code",
   "execution_count": 24,
   "id": "f288c6a9",
   "metadata": {},
   "outputs": [],
   "source": [
    "np.save('/Users/valeria/Documents/aiWT/Final_version/wt/ks_ke_diff_j5_sh_hcp', ke_diff)\n",
    "np.save('/Users/valeria/Documents/aiWT/Final_version/wt/ks_te_diff_j5_sh_hcp', te_diff)"
   ]
  },
  {
   "cell_type": "code",
   "execution_count": 17,
   "id": "a9dc1b37",
   "metadata": {},
   "outputs": [],
   "source": [
    "# ke_diff = np.hstack((ke_diff_k8, np.asarray(ks_ke_opt2)-np.asarray(ks_ke_vext)))\n",
    "# te_diff = np.hstack((te_diff_k8, np.asarray(ks_te_opt)-np.asarray(ks_te_vext)))\n",
    "# rho_diff = np.hstack((rho_diff_k8, np.asarray(Rho_diff)))"
   ]
  },
  {
   "cell_type": "code",
   "execution_count": 18,
   "id": "4a56b187",
   "metadata": {},
   "outputs": [],
   "source": [
    "from dftpy.formats import io\n",
    "# rho_diff_bct5_DEN = io.read_density('rho_diff_j1_DEN.xsf')\n",
    "# rho_diff_bct5_ENE = io.read_density('rho_diff_j1_ENE.xsf')\n",
    "# rho_diff_bct5_KEN = io.read_density('rho_diff_j1_KEN.xsf')\n",
    "# rho_diff_bct5_AVE = io.read_density('rho_diff_j1_AVE.xsf')\n"
   ]
  },
  {
   "cell_type": "code",
   "execution_count": 20,
   "id": "2c4a1d26",
   "metadata": {},
   "outputs": [],
   "source": [
    "rho_resp_diff_DEN = (rho_diff - rho_diff_bct5_DEN)\n",
    "rho_resp_diff_ENE = (rho_diff - rho_diff_bct5_ENE)\n",
    "rho_resp_diff_KEN = (rho_diff - rho_diff_bct5_KEN)\n",
    "rho_resp_diff_AVE = (rho_diff - rho_diff_bct5_AVE)"
   ]
  },
  {
   "cell_type": "code",
   "execution_count": 21,
   "id": "2491034d",
   "metadata": {},
   "outputs": [],
   "source": [
    "rho_diff_bct5_DEN.write('rho_resp_diff_j5_DEN.xsf', ions=ions)\n",
    "rho_diff_bct5_ENE.write('rho_resp_diff_j5_ENE.xsf', ions=ions)\n",
    "rho_diff_bct5_KEN.write('rho_resp_diff_j5_KEN.xsf', ions=ions)\n",
    "rho_diff_bct5_AVE.write('rho_resp_diff_j5_AVE.xsf', ions=ions)"
   ]
  },
  {
   "cell_type": "code",
   "execution_count": 19,
   "id": "7f6f99a3",
   "metadata": {},
   "outputs": [],
   "source": [
    "rho_diff_bct5_DEN = io.read_density('rho_diff_j5_DEN.xsf')\n",
    "rho_diff_bct5_ENE = io.read_density('rho_diff_j5_ENE.xsf')\n",
    "rho_diff_bct5_KEN = io.read_density('rho_diff_j5_KEN.xsf')\n",
    "rho_diff_bct5_AVE = io.read_density('rho_diff_j5_AVE.xsf')"
   ]
  },
  {
   "cell_type": "code",
   "execution_count": 30,
   "id": "ea02886c",
   "metadata": {},
   "outputs": [],
   "source": [
    "rho_resp_diff = (rho_diff - rho_diff_bct5)"
   ]
  },
  {
   "cell_type": "code",
   "execution_count": 32,
   "id": "da6f6293",
   "metadata": {},
   "outputs": [],
   "source": [
    "rho_resp_diff_.write('rho_resp_diff_j1_DEN.xsf', ions=ions)"
   ]
  },
  {
   "cell_type": "code",
   "execution_count": 25,
   "id": "dc89867f",
   "metadata": {},
   "outputs": [],
   "source": [
    "np.save('ks_ke_diff_k8_j1_5', np.asarray(ke_diff))\n",
    "np.save('ks_te_diff_k8_j1_5', np.asarray(te_diff))\n",
    "np.save('ks_rho_diff_k8_j1_5', np.asarray(rho_diff))"
   ]
  },
  {
   "cell_type": "code",
   "execution_count": 19,
   "id": "c9c51dfc",
   "metadata": {},
   "outputs": [],
   "source": [
    "ke_diff = np.asarray(ks_ke_opt2)-np.asarray(ks_ke_vext)\n",
    "np.save('ks_ke_diff_k8_j1', np.asarray(ke_diff))\n",
    "te_diff = np.asarray(ks_te_opt)-np.asarray(ks_te_vext)\n",
    "np.save('ks_te_diff_k8_j1', np.asarray(te_diff))\n",
    "np.save('ks_rho_diff_k8_j1', np.asarray(Rho_diff))"
   ]
  },
  {
   "cell_type": "code",
   "execution_count": 18,
   "id": "dcf3702c",
   "metadata": {},
   "outputs": [],
   "source": [
    "ke_diff = np.asarray(ks_ke_opt2)-np.asarray(ks_ke_vext)\n",
    "np.save('ks_ke_diff_k2', np.asarray(ke_diff))\n",
    "te_diff = np.asarray(ks_te_opt)-np.asarray(ks_te_vext)\n",
    "np.save('ks_te_diff_k2', np.asarray(te_diff))\n",
    "np.save('ks_rho_diff_k2', np.asarray(Rho_diff))"
   ]
  },
  {
   "cell_type": "code",
   "execution_count": 30,
   "id": "74b866dc",
   "metadata": {},
   "outputs": [],
   "source": [
    "ene_diff = np.asarray(ene_opt)-np.asarray(ene_vext)"
   ]
  },
  {
   "cell_type": "code",
   "execution_count": 31,
   "id": "97111709",
   "metadata": {},
   "outputs": [
    {
     "data": {
      "text/plain": [
       "array([ 0.00114431,  0.0021914 ,  0.00117178,  0.00235144,  0.00548418,\n",
       "        0.00272647,  0.00331765,  0.02793965, -0.1       ])"
      ]
     },
     "execution_count": 31,
     "metadata": {},
     "output_type": "execute_result"
    }
   ],
   "source": [
    "ene_diff"
   ]
  }
 ],
 "metadata": {
  "kernelspec": {
   "display_name": "Python 3 (ipykernel)",
   "language": "python",
   "name": "python3"
  },
  "language_info": {
   "codemirror_mode": {
    "name": "ipython",
    "version": 3
   },
   "file_extension": ".py",
   "mimetype": "text/x-python",
   "name": "python",
   "nbconvert_exporter": "python",
   "pygments_lexer": "ipython3",
   "version": "3.11.6"
  }
 },
 "nbformat": 4,
 "nbformat_minor": 5
}
