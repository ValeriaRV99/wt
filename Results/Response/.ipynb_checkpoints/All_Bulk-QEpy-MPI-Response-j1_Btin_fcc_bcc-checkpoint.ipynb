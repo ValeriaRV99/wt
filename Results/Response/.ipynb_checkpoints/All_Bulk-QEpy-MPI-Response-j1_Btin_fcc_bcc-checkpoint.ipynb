{
 "cells": [
  {
   "cell_type": "markdown",
   "id": "1fc06d80",
   "metadata": {},
   "source": [
    "# QEpy for bulk Al\n",
    "\n",
    "## Nov.  06, 2023"
   ]
  },
  {
   "cell_type": "markdown",
   "id": "fd6c474a",
   "metadata": {},
   "source": [
    "pip install dftpy mpi4py mpi4py-fft qepy"
   ]
  },
  {
   "cell_type": "code",
   "execution_count": 1,
   "id": "2d812724",
   "metadata": {},
   "outputs": [],
   "source": [
    "from qepy.driver import Driver\n",
    "from qepy.io import QEInput\n",
    "from ase import Atoms\n",
    "from ase.build import bulk\n",
    "from ase.io import read"
   ]
  },
  {
   "cell_type": "markdown",
   "id": "cd728254",
   "metadata": {},
   "source": [
    "### Import needed DFTpy modules"
   ]
  },
  {
   "cell_type": "code",
   "execution_count": 2,
   "id": "796844ef",
   "metadata": {},
   "outputs": [],
   "source": [
    "import numpy as np\n",
    "\n",
    "from dftpy.grid import DirectGrid\n",
    "from dftpy.field import DirectField\n",
    "from dftpy.functional import Functional, TotalFunctional, FunctionalOutput\n",
    "from dftpy.functional.abstract_functional import AbstractFunctional\n",
    "from dftpy.ions import Ions\n",
    "from dftpy.constants import Units\n",
    "from dftpy.formats import io\n",
    "from dftpy.mpi import mp\n",
    "from ase.io import read"
   ]
  },
  {
   "cell_type": "markdown",
   "id": "5d832b41",
   "metadata": {},
   "source": [
    "## MPI setup"
   ]
  },
  {
   "cell_type": "code",
   "execution_count": 3,
   "id": "b2423ec3",
   "metadata": {},
   "outputs": [],
   "source": [
    "try :\n",
    "    from mpi4py import MPI\n",
    "    comm = MPI.COMM_WORLD\n",
    "    mp.comm = MPI.COMM_WORLD\n",
    "except:\n",
    "    ## Serial version also can be done without mpi4py\n",
    "    comm = None"
   ]
  },
  {
   "cell_type": "code",
   "execution_count": 4,
   "id": "1837d8d9",
   "metadata": {},
   "outputs": [],
   "source": [
    "dictionary = {\n",
    "    'Si_Btin': {'file': 'Si_Btin.vasp'}, \n",
    "    'Si_fcc': {'file': 'Si_fcc.vasp'},\n",
    "    'Si_bcc': {'file': 'Si_bcc.vasp'},\n",
    "    'Si_cd': {'file': 'Si_cd.vasp'},\n",
    "    'Si_dhcp': {'file': 'Si_dhcp.vasp'},\n",
    "    'Si_bct5': {'file': 'Si_bct5.vasp'},\n",
    "    'Si_sh': {'file': 'Si_sh.vasp'},\n",
    "    'Si_cbcc': {'file': 'Si_cbcc.vasp'},\n",
    "    'Si_hcp': {'file': 'Si_hcp.vasp'},\n",
    "}"
   ]
  },
  {
   "cell_type": "code",
   "execution_count": 5,
   "id": "d089125f",
   "metadata": {},
   "outputs": [],
   "source": [
    "import os\n",
    "os.chdir('../..')\n",
    "path_file = os.getcwd()"
   ]
  },
  {
   "cell_type": "code",
   "execution_count": 6,
   "id": "3fc9c438",
   "metadata": {},
   "outputs": [],
   "source": [
    "def get_ions(phase):\n",
    "    inputfile = path_file+'/Results/Structures/'+dictionary[phase]['file']\n",
    "    ions = read(inputfile, format='vasp')\n",
    "    return ions"
   ]
  },
  {
   "cell_type": "code",
   "execution_count": 7,
   "id": "a9d13b35",
   "metadata": {},
   "outputs": [],
   "source": [
    "# 'Si_Btin', 'Si_fcc', 'Si_bcc', 'Si_cd', 'Si_dhcp', 'Si_hcp', 'Si_bct5', \n",
    "Phases = ['Si_sh'] \n",
    "# Phases = ['Si_hcp']\n",
    "atoms = []\n",
    "for i, phase in enumerate(Phases):\n",
    "    atoms.append(get_ions(phase))"
   ]
  },
  {
   "cell_type": "code",
   "execution_count": 8,
   "id": "9c341c45",
   "metadata": {},
   "outputs": [],
   "source": [
    "QE_options = []\n",
    "for i, phase in enumerate(Phases):\n",
    "    qe_options = {\n",
    "    '&control': {\n",
    "        'calculation': \"'scf'\",\n",
    "        'pseudo_dir': \"'/Users/valeria/Documents/PP/ofpp/EAC/upf/blps/'\",\n",
    "        'outdir': \"'./tmp'\",\n",
    "    },\n",
    "    '&system': {\n",
    "        'ibrav' : 0,\n",
    "        'degauss': 0.005,\n",
    "        'ecutwfc' : 60,\n",
    "        'occupations': \"'smearing'\"\n",
    "    },\n",
    "    '&electrons': {\n",
    "        'conv_thr' : 1e-8,\n",
    "    },\n",
    "    'atomic_species': ['Si  28.08 si.lda.upf'],\n",
    "#     'k_points automatic': ['11 11 11 0 0 0'],\n",
    "    'k_points automatic': ['8 8 8 0 0 0'],\n",
    "}\n",
    "    qe_options = QEInput().update_atoms(atoms[i], qe_options)\n",
    "    QE_options.append(qe_options)"
   ]
  },
  {
   "cell_type": "markdown",
   "id": "a98d5d7b",
   "metadata": {},
   "source": [
    "### Run a full-SCF or directly read the converged density"
   ]
  },
  {
   "cell_type": "code",
   "execution_count": 9,
   "id": "6293166b",
   "metadata": {
    "scrolled": true
   },
   "outputs": [],
   "source": [
    "# SCF\n",
    "Rho_opt = []\n",
    "ks_ke_opt = []\n",
    "ks_te_opt = []\n",
    "arr =[0]\n",
    "for i, phase in enumerate(Phases):\n",
    "    if phase=='Si_hcp':\n",
    "        qe_options['&system']['nr1'] = 25\n",
    "        qe_options['&system']['nr2'] = 25\n",
    "        qe_options['&system']['nr3'] = 48\n",
    "    driver=Driver(qe_options=QE_options[i], iterative = False, logfile='tmp.out', comm=comm)\n",
    "    driver.scf()\n",
    "    \n",
    "    rho_f = driver.get_density()\n",
    "    rho_opt = driver.data2field(rho_f)\n",
    "    ions = Ions.from_ase(atoms[i])\n",
    "    \n",
    "    energy = driver.calc_energy() / 2.0\n",
    "#     driver.calc_energy()\n",
    "#     D = driver.get_output()\n",
    "\n",
    "    ks_ke_opt.append(driver.embed.energies.ek)\n",
    "    grid = driver.get_dftpy_grid(mp=mp)\n",
    "    Rho_opt.append(rho_opt)\n",
    "    ks_te_opt.append(energy)"
   ]
  },
  {
   "cell_type": "code",
   "execution_count": 18,
   "id": "eeab24f7",
   "metadata": {},
   "outputs": [
    {
     "data": {
      "text/plain": [
       "'/Users/valeria/Documents/aiWT/Final_version/wt'"
      ]
     },
     "execution_count": 18,
     "metadata": {},
     "output_type": "execute_result"
    }
   ],
   "source": [
    "pwd"
   ]
  },
  {
   "cell_type": "code",
   "execution_count": 22,
   "id": "350d467d",
   "metadata": {},
   "outputs": [],
   "source": [
    "rho_diff = (rho_vext-rho_opt)\n",
    "rho_diff.write('/Users/valeria/Documents/aiWT/Final_version/wt/Results/Response/rho_diff_sh_j1.xsf', ions=Ions.from_ase(atoms[0]))"
   ]
  },
  {
   "cell_type": "code",
   "execution_count": 12,
   "id": "d131593e",
   "metadata": {},
   "outputs": [
    {
     "name": "stdout",
     "output_type": "stream",
     "text": [
      "Local:-> [25 25 24] Global:-> [25 25 24] CPUs:-> 1\n"
     ]
    }
   ],
   "source": [
    "# Read converged density\n",
    "Grid = []\n",
    "for i, phase in enumerate(Phases):\n",
    "    grid = Rho_opt[i].grid\n",
    "    Grid.append(grid)\n",
    "    if mp.is_root:\n",
    "        print('Local:->', grid.nr, 'Global:->', grid.nrR, 'CPUs:->', mp.size, flush=True)"
   ]
  },
  {
   "cell_type": "code",
   "execution_count": 13,
   "id": "29390875",
   "metadata": {},
   "outputs": [],
   "source": [
    "class ExternalPotential(AbstractFunctional):\n",
    "    \n",
    "    def __init__(self, potential, name='EXT', type='EXT', **kwargs):\n",
    "        self.potential = potential\n",
    "        self.name = name\n",
    "        self.type = type\n",
    "        \n",
    "    def compute(self, density, **kwargs):\n",
    "        energy = np.sum(density*self.potential)*density.grid.dV\n",
    "        functional=FunctionalOutput(name=self.name, potential=self.potential, energy=energy)\n",
    "        return functional"
   ]
  },
  {
   "cell_type": "code",
   "execution_count": 15,
   "id": "1c54ee10",
   "metadata": {},
   "outputs": [],
   "source": [
    "A = 0.01\n",
    "q = np.zeros(3)\n",
    "j_h=1\n",
    "Vext=[]\n",
    "V = []\n",
    "\n",
    "for i, phase in enumerate(Phases):\n",
    "\n",
    "    q[0] = 2*np.pi / Grid[i].cell.lengths()[0] # only x direction\n",
    "    v = 2 * A * np.cos(np.einsum('i,ijkl->jkl', j_h*q, Grid[i].r))\n",
    "    vext = ExternalPotential(v)\n",
    "    Vext.append(vext)\n",
    "    V.append(v)"
   ]
  },
  {
   "cell_type": "markdown",
   "id": "3834ac24",
   "metadata": {},
   "source": [
    "### Total functional with vext"
   ]
  },
  {
   "cell_type": "code",
   "execution_count": 16,
   "id": "3163b1f4",
   "metadata": {
    "scrolled": true
   },
   "outputs": [
    {
     "name": "stdout",
     "output_type": "stream",
     "text": [
      "Si_sh\n",
      "(25, 25, 24)\n",
      "-4.02527105327134\n"
     ]
    }
   ],
   "source": [
    "Rho_f = []\n",
    "Rho_diff = []\n",
    "ks_ke_vext = []\n",
    "ks_te_vext = []\n",
    "for i, phase in enumerate(Phases):\n",
    "    print(phase)\n",
    "    qe_options = QE_options[i]\n",
    "    qe_options['&electrons']['mixing_mode'] = \"'TF'\"\n",
    "    qe_options['&system']['nosym'] = True\n",
    "    if phase=='Si_hcp':\n",
    "        qe_options['&system']['nr1'] = 25\n",
    "        qe_options['&system']['nr2'] = 25\n",
    "        qe_options['&system']['nr3'] = 48\n",
    "\n",
    "    driver=Driver(qe_options=qe_options, iterative = False, logfile='tmp.out')\n",
    "    rho_f = driver.field2data(Rho_opt[i])\n",
    "    driver.set_density(rho_f)\n",
    "    extpot_global = Grid[i].gather(V[i])\n",
    "    print(extpot_global.shape)\n",
    "    extpot = driver.field2data(extpot_global)*2.0 # Ha. to Ry\n",
    "    driver.set_external_potential(potential=extpot, exttype=0)\n",
    "    \n",
    "    driver.electrons()\n",
    "    energy = driver.calc_energy() / 2.0\n",
    "    ks_ke_vext.append(driver.embed.energies.ek)\n",
    "    print(energy)\n",
    "    rho_f = driver.get_density()\n",
    "    Rho_f.append(rho_f)\n",
    "    if driver.is_root:\n",
    "        rho_vext= driver.data2field(rho_f)\n",
    "        rho_diff= rho_vext - Rho_opt[i]\n",
    "        rho_diff.write('rho_diff_8'+str(i)+'.xsf', ions=driver.get_dftpy_ions())\n",
    "        rho2 = np.abs(rho_diff)\n",
    "        ratio = rho_vext/Rho_opt[i]\n",
    "    Rho_diff.append(rho2.integral()*0.5)\n",
    "    ks_te_vext.append(energy)\n"
   ]
  },
  {
   "cell_type": "code",
   "execution_count": 26,
   "id": "0fdfa7df",
   "metadata": {},
   "outputs": [],
   "source": [
    "te_diff = -np.asarray(ks_te_opt)+np.asarray(ks_te_vext)\n",
    "ke_diff = -np.asarray(ks_ke_opt)+np.asarray(ks_ke_vext)\n",
    "rho_diff = np.asarray(Rho_diff)"
   ]
  },
  {
   "cell_type": "code",
   "execution_count": 28,
   "id": "f63c5f77",
   "metadata": {},
   "outputs": [],
   "source": [
    "np.save('/Users/valeria/Documents/aiWT/Final_version/wt/ks_ke_diff_j1', ke_diff)\n",
    "np.save('/Users/valeria/Documents/aiWT/Final_version/wt/ks_te_diff_j1', te_diff)\n",
    "np.save('/Users/valeria/Documents/aiWT/Final_version/wt/rho_diff_j1', np.asarray(rho_diff))"
   ]
  }
 ],
 "metadata": {
  "kernelspec": {
   "display_name": "Python 3 (ipykernel)",
   "language": "python",
   "name": "python3"
  },
  "language_info": {
   "codemirror_mode": {
    "name": "ipython",
    "version": 3
   },
   "file_extension": ".py",
   "mimetype": "text/x-python",
   "name": "python",
   "nbconvert_exporter": "python",
   "pygments_lexer": "ipython3",
   "version": "3.11.6"
  }
 },
 "nbformat": 4,
 "nbformat_minor": 5
}
