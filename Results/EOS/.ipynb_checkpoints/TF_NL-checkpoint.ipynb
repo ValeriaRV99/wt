{
 "cells": [
  {
   "cell_type": "code",
   "execution_count": 1,
   "id": "21916958",
   "metadata": {},
   "outputs": [
    {
     "name": "stderr",
     "output_type": "stream",
     "text": [
      "/opt/homebrew/lib/python3.11/site-packages/ase/lattice/spacegroup.py:5: UserWarning: Moved to ase.spacegroup\n",
      "  warnings.warn('Moved to ase.spacegroup')\n"
     ]
    }
   ],
   "source": [
    "import numpy as np\n",
    "from matplotlib import pyplot as plt\n",
    "\n",
    "from dftpy.ions import Ions\n",
    "from dftpy.field import DirectField\n",
    "from dftpy.grid import DirectGrid\n",
    "from dftpy.functional import LocalPseudo, Functional, TotalFunctional, ExternalPotential\n",
    "from dftpy.formats import io\n",
    "from dftpy.math_utils import ecut2nr\n",
    "from dftpy.optimization import Optimization\n",
    "\n",
    "\n",
    "from ase.build import bulk\n",
    "from ase.io.trajectory import Trajectory\n",
    "from ase.lattice.spacegroup import Spacegroup\n",
    "from ase.lattice.spacegroup import crystal\n",
    "\n",
    "from sklearn.model_selection import train_test_split \n",
    "from sklearn.kernel_ridge import KernelRidge \n",
    "from dscribe.descriptors import CoulombMatrix, SineMatrix, EwaldSumMatrix, SOAP\n",
    "from ase import Atoms\n",
    "from ase.io import read\n",
    "\n",
    "import cWT"
   ]
  },
  {
   "cell_type": "code",
   "execution_count": 2,
   "id": "b063524b",
   "metadata": {},
   "outputs": [
    {
     "data": {
      "text/plain": [
       "['/opt/homebrew/lib/python3.11/site-packages/dftpy']"
      ]
     },
     "execution_count": 2,
     "metadata": {},
     "output_type": "execute_result"
    }
   ],
   "source": [
    "import dftpy\n",
    "dftpy.__path__"
   ]
  },
  {
   "cell_type": "code",
   "execution_count": 3,
   "id": "c9622c67",
   "metadata": {},
   "outputs": [],
   "source": [
    "path_pp='/Users/valeria/Documents/PP/ofpp/EAC/upf/blps/'\n",
    "file='si.lda.upf'\n",
    "PP_list = {'Si': path_pp+file}"
   ]
  },
  {
   "cell_type": "code",
   "execution_count": 4,
   "id": "775eb4a2",
   "metadata": {},
   "outputs": [],
   "source": [
    "import os\n",
    "os.chdir('../')\n",
    "path_file = os.getcwd()"
   ]
  },
  {
   "cell_type": "code",
   "execution_count": 5,
   "id": "ca0b944f",
   "metadata": {},
   "outputs": [],
   "source": [
    "import h5py\n",
    "file = h5py.File(\"/Users/valeria/Documents/aiWT/Final_version/wt/wt/organize_data/Data_phases.hdf5\", \"r\")\n",
    "fileX = file[\"Descriptor\"]\n",
    "rho0_KE_WT = file[\"rho0_KE_wt\"]\n",
    "rho0_TE_WT = file[\"rho0_TE_wt\"]\n",
    "rho0_DEN_WT = file[\"rho0_DEN_wt\"]\n",
    "rho0_KE_SM = file[\"rho0_KE_sm\"]\n",
    "rho0_TE_SM = file[\"rho0_TE_sm\"]\n",
    "rho0_DEN_SM = file[\"rho0_DEN_sm\"]\n",
    "Rho = file[\"rho\"]\n",
    "\n",
    "\n",
    "rho0_KE_wt =[]\n",
    "rho0_TE_wt =[]\n",
    "rho0_DEN_wt=[]\n",
    "rho0_KE_sm =[]\n",
    "rho0_TE_sm =[]\n",
    "rho0_DEN_sm =[]\n",
    "rho = []\n",
    "for i in np.arange(0,280):\n",
    "    rho0_KE_wt.append(rho0_KE_WT[i][0]) \n",
    "    rho0_TE_wt.append(rho0_TE_WT[i][0]) \n",
    "    rho0_DEN_wt.append(rho0_DEN_WT[i][0])\n",
    "    rho0_KE_sm.append(rho0_KE_SM[i][0]) \n",
    "    rho0_TE_sm.append(rho0_TE_SM[i][0]) \n",
    "    rho0_DEN_sm.append(rho0_DEN_SM[i][0])\n",
    "    rho.append(Rho[i][0])"
   ]
  },
  {
   "cell_type": "code",
   "execution_count": 6,
   "id": "21b0a250",
   "metadata": {},
   "outputs": [],
   "source": [
    "file.close()"
   ]
  },
  {
   "cell_type": "code",
   "execution_count": 7,
   "id": "7db073a7",
   "metadata": {},
   "outputs": [],
   "source": [
    "rho0_Btin_KE_wt = rho0_KE_wt[0:30]; rho0_fcc_KE_wt = rho0_KE_wt[30:60]; rho0_bcc_KE_wt = rho0_KE_wt[60:90]; rho0_cd_KE_wt = rho0_KE_wt[90:120]; rho0_dhcp_KE_wt = rho0_KE_wt[120:150]; rho0_Btin_hd_KE_wt = rho0_KE_wt[150:180]; rho0_rand4_KE_wt = rho0_KE_wt[180:185]; rho0_rand8_KE_wt = rho0_KE_wt[185:190]; rho0_bct5_KE_wt = rho0_KE_wt[190:220]; rho0_hcp_KE_wt = rho0_KE_wt[220:250]; rho0_sh_KE_wt = rho0_KE_wt[250:280]\n",
    "\n",
    "rho0_Btin_TE_wt = rho0_TE_wt[0:30];rho0_fcc_TE_wt = rho0_TE_wt[30:60];rho0_bcc_TE_wt = rho0_TE_wt[60:90];rho0_cd_TE_wt = rho0_TE_wt[90:120];rho0_dhcp_TE_wt = rho0_TE_wt[120:150];rho0_Btin_hd_TE_wt = rho0_TE_wt[150:180];rho0_rand4_TE_wt = rho0_TE_wt[180:185];rho0_rand8_TE_wt = rho0_TE_wt[185:190];rho0_bct5_TE_wt = rho0_TE_wt[190:220];rho0_hcp_TE_wt = rho0_TE_wt[220:250];rho0_sh_TE_wt = rho0_TE_wt[250:280]\n",
    "\n",
    "rho0_Btin_DEN_wt = rho0_DEN_wt[0:30];rho0_fcc_DEN_wt = rho0_DEN_wt[30:60];rho0_bcc_DEN_wt = rho0_DEN_wt[60:90];rho0_cd_DEN_wt = rho0_DEN_wt[90:120];rho0_dhcp_DEN_wt = rho0_DEN_wt[120:150];rho0_Btin_hd_DEN_wt = rho0_DEN_wt[150:180];rho0_rand4_DEN_wt = rho0_DEN_wt[180:185];rho0_rand8_DEN_wt = rho0_DEN_wt[185:190];rho0_bct5_DEN_wt = rho0_DEN_wt[190:220];rho0_hcp_DEN_wt = rho0_DEN_wt[220:250];rho0_sh_DEN_wt = rho0_DEN_wt[250:280]"
   ]
  },
  {
   "cell_type": "code",
   "execution_count": 8,
   "id": "17c55782",
   "metadata": {},
   "outputs": [],
   "source": [
    "rho0_kin =[rho0_cd_KE_wt]#, rho0_dhcp_KE_wt]\n",
    "rho0_den =[rho0_cd_DEN_wt]#, rho0_dhcp_DEN_wt]\n",
    "rho0_ene =[rho0_cd_TE_wt]#, rho0_dhcp_TE_wt]\n",
    "r = np.linspace(0.9, 3, 20)\n"
   ]
  },
  {
   "cell_type": "code",
   "execution_count": 28,
   "id": "0ad73ba4",
   "metadata": {},
   "outputs": [],
   "source": [
    "rho0_ene2 = np.asarray(rho0_ene[0]).min() * np.ones(10)\n",
    "rho0_kin2 = np.asarray(rho0_kin[0]).min() * np.ones(10)\n",
    "rho0_den2 = np.asarray(rho0_den[0]).min() * np.ones(10)"
   ]
  },
  {
   "cell_type": "code",
   "execution_count": 29,
   "id": "c8b4e299",
   "metadata": {},
   "outputs": [],
   "source": [
    "rho0_ene3 = np.hstack((np.asarray(rho0_ene[0]), rho0_ene2))\n",
    "rho0_kin3 = np.hstack((np.asarray(rho0_kin[0]), rho0_kin2))\n",
    "rho0_den3 = np.hstack((np.asarray(rho0_den[0]), rho0_den2))"
   ]
  },
  {
   "cell_type": "code",
   "execution_count": 30,
   "id": "d91acc2b",
   "metadata": {},
   "outputs": [],
   "source": [
    "r2 = np.linspace(0.8,1.4, 30)\n",
    "r3 = np.hstack((r2, np.linspace(1.4,3, 10)))"
   ]
  },
  {
   "cell_type": "code",
   "execution_count": 31,
   "id": "1ce0aa68",
   "metadata": {},
   "outputs": [],
   "source": [
    "rho0_mean = 0.03087804\n",
    "# rho0_mean = 0.02961787"
   ]
  },
  {
   "cell_type": "code",
   "execution_count": 103,
   "id": "f8f5a868",
   "metadata": {
    "scrolled": true
   },
   "outputs": [],
   "source": [
    "def TF_NL(material, r, rho0_ene, rho0_kin, rho0_den):\n",
    "    pred_energy = []\n",
    "    Volume = []\n",
    "    wt_e_ave = []\n",
    "    wt_e_den = []\n",
    "    wt_e_ene = []\n",
    "    wt_e_kin = []\n",
    "    vw_e = []\n",
    "    tf_e = []\n",
    "    wt_s = []\n",
    "    rho0_mean = []\n",
    "    path_rho = None\n",
    "    for j, d in enumerate(r):\n",
    "        WT_KE_ave = Functional(type='KEDF',name='WT')\n",
    "        WT_KE_ene = Functional(type='KEDF',name='WT', rho0=np.asarray(rho0_ene[0]).min())\n",
    "        WT_KE_den = Functional(type='KEDF',name='WT', rho0=np.asarray(rho0_den[0]).min())\n",
    "        WT_KE_kin = Functional(type='KEDF',name='WT', rho0=np.asarray(rho0_kin[0]).min())\n",
    "        \n",
    "        vW_KE = Functional(type='KEDF',name='vW')\n",
    "        TF_KE = Functional(type='KEDF',name='TF')\n",
    "         \n",
    "        ions = Ions.from_ase(material)\n",
    "        cell = ions.get_cell()\n",
    "        ions.set_cell(cell * d, scale_atoms=True)\n",
    "        nr = ecut2nr(ecut=25, lattice=ions.cell)\n",
    "        grid = DirectGrid(lattice=ions.cell, nr=nr)\n",
    "        PSEUDO = LocalPseudo(grid = grid, ions=ions, PP_list=PP_list, rcut=20)\n",
    "\n",
    "        rho_ini = DirectField(grid=grid)\n",
    "        rho_ini[:] = ions.get_ncharges()/ions.cell.volume\n",
    "        print(type(rho_ini.mean()))\n",
    "#         WT_KE_scale = Functional(type='KEDF',name='WT', z=rho_ini.mean()/0.03087804)\n",
    "        \n",
    "#         evaluator_ave = TotalFunctional(KE=WT_KE_ave,   XC=XC, HARTREE=HARTREE, PSEUDO=PSEUDO)\n",
    "#         evaluator_ene = TotalFunctional(KE=WT_KE_ene,   XC=XC, HARTREE=HARTREE, PSEUDO=PSEUDO)\n",
    "#         evaluator_den = TotalFunctional(KE=WT_KE_den,   XC=XC, HARTREE=HARTREE, PSEUDO=PSEUDO)\n",
    "#         evaluator_kin = TotalFunctional(KE=WT_KE_kin,   XC=XC, HARTREE=HARTREE, PSEUDO=PSEUDO)\n",
    "#         evaluator_vw  = TotalFunctional(KE=vW_KE,       XC=XC, HARTREE=HARTREE, PSEUDO=PSEUDO)\n",
    "#         evaluator_sca = TotalFunctional(KE=WT_KE_scale, XC=XC, HARTREE=HARTREE, PSEUDO=PSEUDO)\n",
    "        \n",
    "#         optimization_options = {'econv' : 1e-7*ions.nat}\n",
    "        \n",
    "#         opt_ave = Optimization(EnergyEvaluator=evaluator_ave, optimization_options = optimization_options, optimization_method = 'TN')\n",
    "#         opt_ene = Optimization(EnergyEvaluator=evaluator_ene, optimization_options = optimization_options, optimization_method = 'TN')\n",
    "#         opt_den = Optimization(EnergyEvaluator=evaluator_den, optimization_options = optimization_options, optimization_method = 'TN')\n",
    "#         opt_kin = Optimization(EnergyEvaluator=evaluator_kin, optimization_options = optimization_options, optimization_method = 'TN')\n",
    "#         opt_vw = Optimization(EnergyEvaluator=evaluator_vw, optimization_options = optimization_options, optimization_method = 'TN')\n",
    "#         opt_sca = Optimization(EnergyEvaluator=evaluator_sca, optimization_options = optimization_options, optimization_method = 'TN')\n",
    "        \n",
    "#         rho_ave = opt_ave.optimize_rho(guess_rho=rho_ini)\n",
    "#         rho_ene = opt_ene.optimize_rho(guess_rho=rho_ini)\n",
    "#         rho_den = opt_den.optimize_rho(guess_rho=rho_ini)\n",
    "#         rho_kin = opt_kin.optimize_rho(guess_rho=rho_ini)\n",
    "#         rho_vw = opt_vw.optimize_rho(guess_rho=rho_ini)\n",
    "#         rho_sca = opt_sca.optimize_rho(guess_rho=rho_ini)\n",
    "        \n",
    "        \n",
    "        \n",
    "#         wt_e_ave.append(WT_KE_ave(rho_ave).energy)\n",
    "#         wt_e_den.append(WT_KE_den(rho_ene).energy)\n",
    "#         wt_e_ene.append(WT_KE_den(rho_den).energy)\n",
    "#         wt_e_kin.append(WT_KE_den(rho_kin).energy)\n",
    "#         vw_e.append(vW_KE(rho_vw).energy)\n",
    "#         tf_e.append(TF_KE(rho_vw).energy)\n",
    "#         wt_s.append(WT_KE_scale(rho_sca).energy)\n",
    "        rho0_mean.append(rho_ini.mean())\n",
    "    return np.asarray(rho0_mean)\n",
    "#     return np.asarray(wt_e_ave), np.asarray(vw_e), np.asarray(tf_e), np.asarray(wt_e_den), np.asarray(wt_e_ene), np.asarray(wt_e_kin), np.asarray(wt_s), np.asarray(rho0_mean)"
   ]
  },
  {
   "cell_type": "code",
   "execution_count": 90,
   "id": "ae9971c1",
   "metadata": {
    "scrolled": true
   },
   "outputs": [],
   "source": [
    "def rho0(material):\n",
    "    rho0 = []\n",
    "    for j, d in enumerate(r):\n",
    "        ions = Ions.from_ase(material)\n",
    "        cell = ions.get_cell()\n",
    "        ions.set_cell(cell * d, scale_atoms=True)\n",
    "        nr = ecut2nr(ecut=25, lattice=ions.cell)\n",
    "        grid = DirectGrid(lattice=ions.cell, nr=nr)\n",
    "        ions.set_charges(4)\n",
    "        rho_ini = DirectField(grid=grid)\n",
    "        rho_ini[:] = ions.get_ncharges()/ions.cell.volume\n",
    "        z=rho_ini.mean()\n",
    "        rho0.append(z)\n",
    "        \n",
    "    return rho0"
   ]
  },
  {
   "cell_type": "code",
   "execution_count": 91,
   "id": "b2c59343",
   "metadata": {},
   "outputs": [],
   "source": [
    "dictionary = {\n",
    "    'Si_Btin': {'file': 'Si_Btin.vasp'}, \n",
    "    'Si_fcc': {'file': 'Si_fcc.vasp'},\n",
    "    'Si_bcc': {'file': 'Si_bcc.vasp'},\n",
    "    'Si_8cd': {'file': 'Si_cd.vasp'},\n",
    "    'Si_dhcp': {'file': 'Si_dhcp.vasp'},\n",
    "    'Si_bct5': {'file': 'Si_bct5.vasp'},\n",
    "    'Si_sh': {'file': 'Si_sh.vasp'},\n",
    "    'Si_cbcc': {'file': 'Si_cbcc.vasp'},\n",
    "    'Si_hcp': {'file': 'Si_hcp.vasp'},\n",
    "}"
   ]
  },
  {
   "cell_type": "code",
   "execution_count": 92,
   "id": "6ff798ba",
   "metadata": {},
   "outputs": [],
   "source": [
    "def get_ions(phase):\n",
    "    inputfile = path_file+'/Structures/'+dictionary[phase]['file']\n",
    "    ions = read(inputfile, format='vasp')\n",
    "    return ions"
   ]
  },
  {
   "cell_type": "code",
   "execution_count": 93,
   "id": "331c329f",
   "metadata": {},
   "outputs": [],
   "source": [
    "Phases = ['Si_8cd']#, 'Si_dhcp'] "
   ]
  },
  {
   "cell_type": "code",
   "execution_count": 94,
   "id": "4e533211",
   "metadata": {},
   "outputs": [
    {
     "name": "stdout",
     "output_type": "stream",
     "text": [
      "Si_8cd 8\n"
     ]
    }
   ],
   "source": [
    "for i,p in enumerate(Phases):\n",
    "    ions = get_ions(p)\n",
    "    print(p,len(ions))"
   ]
  },
  {
   "cell_type": "code",
   "execution_count": 95,
   "id": "edbbc5cd",
   "metadata": {},
   "outputs": [],
   "source": [
    "PP_list = PP_list\n",
    "XC = Functional(type='XC',name='LDA')\n",
    "HARTREE = Functional(type='HARTREE')"
   ]
  },
  {
   "cell_type": "code",
   "execution_count": 88,
   "id": "c17afdb2",
   "metadata": {},
   "outputs": [],
   "source": [
    "ions = get_ions('Si_8cd')\n",
    "rho0 = rho0(ions)"
   ]
  },
  {
   "cell_type": "code",
   "execution_count": 104,
   "id": "935bed91",
   "metadata": {
    "scrolled": true
   },
   "outputs": [
    {
     "name": "stdout",
     "output_type": "stream",
     "text": [
      "Iteration:  0\n",
      "setting key: Si -> /Users/valeria/Documents/PP/ofpp/EAC/upf/blps/si.lda.upf\n",
      "<class 'numpy.ndarray'>\n",
      "setting key: Si -> /Users/valeria/Documents/PP/ofpp/EAC/upf/blps/si.lda.upf\n",
      "<class 'numpy.ndarray'>\n",
      "setting key: Si -> /Users/valeria/Documents/PP/ofpp/EAC/upf/blps/si.lda.upf\n",
      "<class 'numpy.ndarray'>\n",
      "setting key: Si -> /Users/valeria/Documents/PP/ofpp/EAC/upf/blps/si.lda.upf\n",
      "<class 'numpy.ndarray'>\n",
      "setting key: Si -> /Users/valeria/Documents/PP/ofpp/EAC/upf/blps/si.lda.upf\n",
      "<class 'numpy.ndarray'>\n",
      "setting key: Si -> /Users/valeria/Documents/PP/ofpp/EAC/upf/blps/si.lda.upf\n",
      "<class 'numpy.ndarray'>\n",
      "setting key: Si -> /Users/valeria/Documents/PP/ofpp/EAC/upf/blps/si.lda.upf\n",
      "<class 'numpy.ndarray'>\n",
      "setting key: Si -> /Users/valeria/Documents/PP/ofpp/EAC/upf/blps/si.lda.upf\n",
      "<class 'numpy.ndarray'>\n",
      "setting key: Si -> /Users/valeria/Documents/PP/ofpp/EAC/upf/blps/si.lda.upf\n",
      "<class 'numpy.ndarray'>\n",
      "setting key: Si -> /Users/valeria/Documents/PP/ofpp/EAC/upf/blps/si.lda.upf\n",
      "<class 'numpy.ndarray'>\n",
      "setting key: Si -> /Users/valeria/Documents/PP/ofpp/EAC/upf/blps/si.lda.upf\n",
      "<class 'numpy.ndarray'>\n",
      "setting key: Si -> /Users/valeria/Documents/PP/ofpp/EAC/upf/blps/si.lda.upf\n",
      "<class 'numpy.ndarray'>\n",
      "setting key: Si -> /Users/valeria/Documents/PP/ofpp/EAC/upf/blps/si.lda.upf\n",
      "<class 'numpy.ndarray'>\n",
      "setting key: Si -> /Users/valeria/Documents/PP/ofpp/EAC/upf/blps/si.lda.upf\n",
      "<class 'numpy.ndarray'>\n",
      "setting key: Si -> /Users/valeria/Documents/PP/ofpp/EAC/upf/blps/si.lda.upf\n",
      "<class 'numpy.ndarray'>\n",
      "setting key: Si -> /Users/valeria/Documents/PP/ofpp/EAC/upf/blps/si.lda.upf\n",
      "<class 'numpy.ndarray'>\n",
      "setting key: Si -> /Users/valeria/Documents/PP/ofpp/EAC/upf/blps/si.lda.upf\n",
      "<class 'numpy.ndarray'>\n",
      "setting key: Si -> /Users/valeria/Documents/PP/ofpp/EAC/upf/blps/si.lda.upf\n",
      "<class 'numpy.ndarray'>\n",
      "setting key: Si -> /Users/valeria/Documents/PP/ofpp/EAC/upf/blps/si.lda.upf\n",
      "<class 'numpy.ndarray'>\n",
      "setting key: Si -> /Users/valeria/Documents/PP/ofpp/EAC/upf/blps/si.lda.upf\n",
      "<class 'numpy.ndarray'>\n",
      "setting key: Si -> /Users/valeria/Documents/PP/ofpp/EAC/upf/blps/si.lda.upf\n",
      "<class 'numpy.ndarray'>\n",
      "setting key: Si -> /Users/valeria/Documents/PP/ofpp/EAC/upf/blps/si.lda.upf\n",
      "<class 'numpy.ndarray'>\n",
      "setting key: Si -> /Users/valeria/Documents/PP/ofpp/EAC/upf/blps/si.lda.upf\n",
      "<class 'numpy.ndarray'>\n",
      "setting key: Si -> /Users/valeria/Documents/PP/ofpp/EAC/upf/blps/si.lda.upf\n",
      "<class 'numpy.ndarray'>\n",
      "setting key: Si -> /Users/valeria/Documents/PP/ofpp/EAC/upf/blps/si.lda.upf\n",
      "<class 'numpy.ndarray'>\n",
      "setting key: Si -> /Users/valeria/Documents/PP/ofpp/EAC/upf/blps/si.lda.upf\n",
      "<class 'numpy.ndarray'>\n",
      "setting key: Si -> /Users/valeria/Documents/PP/ofpp/EAC/upf/blps/si.lda.upf\n",
      "<class 'numpy.ndarray'>\n",
      "setting key: Si -> /Users/valeria/Documents/PP/ofpp/EAC/upf/blps/si.lda.upf\n",
      "<class 'numpy.ndarray'>\n",
      "setting key: Si -> /Users/valeria/Documents/PP/ofpp/EAC/upf/blps/si.lda.upf\n",
      "<class 'numpy.ndarray'>\n",
      "setting key: Si -> /Users/valeria/Documents/PP/ofpp/EAC/upf/blps/si.lda.upf\n",
      "<class 'numpy.ndarray'>\n",
      "setting key: Si -> /Users/valeria/Documents/PP/ofpp/EAC/upf/blps/si.lda.upf\n",
      "<class 'numpy.ndarray'>\n",
      "setting key: Si -> /Users/valeria/Documents/PP/ofpp/EAC/upf/blps/si.lda.upf\n",
      "<class 'numpy.ndarray'>\n",
      "setting key: Si -> /Users/valeria/Documents/PP/ofpp/EAC/upf/blps/si.lda.upf\n",
      "<class 'numpy.ndarray'>\n",
      "setting key: Si -> /Users/valeria/Documents/PP/ofpp/EAC/upf/blps/si.lda.upf\n",
      "<class 'numpy.ndarray'>\n",
      "setting key: Si -> /Users/valeria/Documents/PP/ofpp/EAC/upf/blps/si.lda.upf\n",
      "<class 'numpy.ndarray'>\n",
      "setting key: Si -> /Users/valeria/Documents/PP/ofpp/EAC/upf/blps/si.lda.upf\n",
      "<class 'numpy.ndarray'>\n",
      "setting key: Si -> /Users/valeria/Documents/PP/ofpp/EAC/upf/blps/si.lda.upf\n",
      "<class 'numpy.ndarray'>\n",
      "setting key: Si -> /Users/valeria/Documents/PP/ofpp/EAC/upf/blps/si.lda.upf\n",
      "<class 'numpy.ndarray'>\n",
      "setting key: Si -> /Users/valeria/Documents/PP/ofpp/EAC/upf/blps/si.lda.upf\n",
      "<class 'numpy.ndarray'>\n",
      "setting key: Si -> /Users/valeria/Documents/PP/ofpp/EAC/upf/blps/si.lda.upf\n",
      "<class 'numpy.ndarray'>\n"
     ]
    }
   ],
   "source": [
    "# Volume = []\n",
    "# Cwt_energy_ke = []\n",
    "# Cwt_kin_ke = []\n",
    "# wt_e_den = {}\n",
    "# wt_e_ene = {}\n",
    "# wt_e_kin = {}\n",
    "# wt_e_ave = {}\n",
    "# vw_e = {}\n",
    "# tf_e = {}\n",
    "# wt_e_sca = {}\n",
    "rho0_mean = []\n",
    "# np.asarray(wt_e_ave), np.asarray(vw_e), np.asarray(tf_e), \n",
    "# np.asarray(wt_e_den), np.asarray(wt_e_ene), np.asarray(wt_e_kin), np.asarray(wt_s)\n",
    "for i,p in enumerate(Phases):\n",
    "    print('Iteration: ', i)\n",
    "    ions = get_ions(p)\n",
    "    tf_wt = TF_NL(ions, r3,rho0_ene3, rho0_kin3, rho0_den3)\n",
    "#     print(np.asarray(tf_wt).shape)\n",
    "#     wt_e_ave[p] =tf_wt[0]\n",
    "#     vw_e[p] =tf_wt[1]\n",
    "#     tf_e[p] =tf_wt[2]\n",
    "#     wt_e_den[p] =tf_wt[3]\n",
    "#     wt_e_ene[p] =tf_wt[4]\n",
    "#     wt_e_kin[p] =tf_wt[5]\n",
    "#     wt_e_sca[p] =tf_wt[6]\n",
    "    rho0_mean.append(tf_wt)"
   ]
  },
  {
   "cell_type": "code",
   "execution_count": 41,
   "id": "08d94399",
   "metadata": {},
   "outputs": [
    {
     "data": {
      "text/plain": [
       "(7, 40)"
      ]
     },
     "execution_count": 41,
     "metadata": {},
     "output_type": "execute_result"
    }
   ],
   "source": [
    "np.asarray(tf_wt).shape"
   ]
  },
  {
   "cell_type": "code",
   "execution_count": null,
   "id": "41fe1bd6",
   "metadata": {},
   "outputs": [],
   "source": [
    "r2 = np.linspace(0.8,1.4, 30)\n",
    "plt.plot(r2, np.asarray(rho0_den[0]).ravel(), 'b', linewidth=4.5, label='DEN' )\n",
    "plt.plot(r2, np.asarray(rho0_ene[0]).ravel(), color='magenta', linewidth=2.5, label='ENE' )\n",
    "plt.plot(r2, np.asarray(rho0_kin[0]).ravel(),'--', color='orange', linewidth=2.5, label='KIN' )"
   ]
  },
  {
   "cell_type": "code",
   "execution_count": 102,
   "id": "903552b2",
   "metadata": {},
   "outputs": [
    {
     "data": {
      "text/plain": [
       "[array([0.05784741])]"
      ]
     },
     "execution_count": 102,
     "metadata": {},
     "output_type": "execute_result"
    }
   ],
   "source": [
    "rho0_mean"
   ]
  },
  {
   "cell_type": "code",
   "execution_count": 112,
   "id": "e4510170",
   "metadata": {},
   "outputs": [
    {
     "data": {
      "image/png": "[encoded data removed]",
      "text/plain": [
       "<Figure size 500x500 with 2 Axes>"
      ]
     },
     "metadata": {},
     "output_type": "display_data"
    }
   ],
   "source": [
    "fig, axs = plt.subplots(2,1, figsize=(5,5),sharex=True)\n",
    "plt.rc('text', usetex=True)\n",
    "plt.rc('font', family='serif', stretch='condensed')\n",
    "axs[0].plot(r3, rho0_ene3, 'b', linewidth=4.5, label='DEN' )\n",
    "axs[0].plot(r3, rho0_kin3, color='magenta', linewidth=2.5, label='ENE' )\n",
    "axs[0].plot(r3, rho0_den3,'--', color='orange', linewidth=2.5, label='KIN' )\n",
    "axs[0].plot(r3, np.asarray(rho0_mean[0]),'-.', color='red', linewidth=2.5, label='AVE' )\n",
    "axs[0].set_xlim(0.9,3)\n",
    "axs[0].set_ylim(0,0.04)\n",
    "axs[0].vlines(x=1.4, ymin=0, ymax=0.5, ls='dotted', colors='k')\n",
    "axs[0].tick_params(axis='both', labelsize=8)\n",
    "# axs[0].legend()\n",
    "axs[0].set_ylabel(r'\\textbf{$\\rho_0$}', fontsize=15)\n",
    "axs[1].plot(r3, (wt_e_den['Si_8cd']-vw_e['Si_8cd'])*27.211407/8, 'b', linewidth=4.5, label='DEN' )\n",
    "axs[1].plot(r3, (wt_e_ene['Si_8cd']-vw_e['Si_8cd'])*27.211407/8, color='magenta', linewidth=2.5, label='ENE' )\n",
    "axs[1].plot(r3, (wt_e_kin['Si_8cd']-vw_e['Si_8cd'])*27.211407/8,'--', color='orange', linewidth=2.5, label='KIN' )\n",
    "axs[1].plot(r3, (wt_e_sca['Si_8cd']-vw_e['Si_8cd'])*27.211407/8, linestyle='dotted', color='green', linewidth=2.5, label='SCA' )\n",
    "axs[1].plot(r3, (wt_e_ave['Si_8cd']-vw_e['Si_8cd'])*27.211407/8, '-.', color='red', linewidth=2.5, label='AVE' )\n",
    "fig.subplots_adjust(hspace=0)\n",
    "axs[1].set_xlabel(r'\\textbf{Volume scaling factor, t}')\n",
    "axs[1].set_ylabel(r'\\textbf{Pauli Energy (eV)}')\n",
    "axs[1].hlines(y=0,xmin=0.9,xmax=3,ls='dotted',colors='k')\n",
    "axs[1].vlines(x=1.4, ymin=-8, ymax=40, ls='dotted', colors='k')\n",
    "axs[1].set_xlim(0.9,3)\n",
    "axs[1].set_ylim(-8,45)\n",
    "axs[1].legend()\n",
    "plt.savefig(path_file+'/EOS/rho0_WT_vW3.png', bbox_inches='tight', dpi=200)\n"
   ]
  }
 ],
 "metadata": {
  "kernelspec": {
   "display_name": "Python 3 (ipykernel)",
   "language": "python",
   "name": "python3"
  },
  "language_info": {
   "codemirror_mode": {
    "name": "ipython",
    "version": 3
   },
   "file_extension": ".py",
   "mimetype": "text/x-python",
   "name": "python",
   "nbconvert_exporter": "python",
   "pygments_lexer": "ipython3",
   "version": "3.11.8"
  }
 },
 "nbformat": 4,
 "nbformat_minor": 5
}
