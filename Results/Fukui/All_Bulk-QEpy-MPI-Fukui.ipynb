{
 "cells": [
  {
   "cell_type": "markdown",
   "id": "1fc06d80",
   "metadata": {},
   "source": [
    "# QEpy Fukui Si phases\n",
    "\n",
    "## Nov.  06, 2023"
   ]
  },
  {
   "cell_type": "markdown",
   "id": "fd6c474a",
   "metadata": {},
   "source": [
    "pip install dftpy mpi4py mpi4py-fft qepy"
   ]
  },
  {
   "cell_type": "code",
   "execution_count": 1,
   "id": "2d812724",
   "metadata": {},
   "outputs": [],
   "source": [
    "from qepy.driver import Driver\n",
    "from qepy.io import QEInput\n",
    "from ase import Atoms\n",
    "from ase.build import bulk\n",
    "from ase.io import read"
   ]
  },
  {
   "cell_type": "markdown",
   "id": "cd728254",
   "metadata": {},
   "source": [
    "### Import needed DFTpy modules"
   ]
  },
  {
   "cell_type": "code",
   "execution_count": 2,
   "id": "796844ef",
   "metadata": {},
   "outputs": [],
   "source": [
    "import numpy as np\n",
    "\n",
    "from dftpy.grid import DirectGrid\n",
    "from dftpy.field import DirectField\n",
    "from dftpy.functional import Functional, TotalFunctional, FunctionalOutput\n",
    "from dftpy.functional.abstract_functional import AbstractFunctional\n",
    "from dftpy.ions import Ions\n",
    "from dftpy.constants import Units\n",
    "from dftpy.formats import io\n",
    "from dftpy.mpi import mp\n",
    "from ase.io import read"
   ]
  },
  {
   "cell_type": "markdown",
   "id": "5d832b41",
   "metadata": {},
   "source": [
    "## MPI setup"
   ]
  },
  {
   "cell_type": "code",
   "execution_count": 3,
   "id": "b2423ec3",
   "metadata": {},
   "outputs": [],
   "source": [
    "try :\n",
    "    from mpi4py import MPI\n",
    "    comm = MPI.COMM_WORLD\n",
    "    mp.comm = MPI.COMM_WORLD\n",
    "except:\n",
    "    ## Serial version also can be done without mpi4py\n",
    "    comm = None"
   ]
  },
  {
   "cell_type": "code",
   "execution_count": 4,
   "id": "1837d8d9",
   "metadata": {},
   "outputs": [],
   "source": [
    "dictionary = {\n",
    "    'Si_Btin': {'file': 'Si_Btin.vasp'}, \n",
    "    'Si_fcc': {'file': 'Si_fcc.vasp'},\n",
    "    'Si_bcc': {'file': 'Si_bcc.vasp'},\n",
    "    'Si_cd': {'file': 'Si_cd.vasp'},\n",
    "    'Si_dhcp': {'file': 'Si_dhcp.vasp'},\n",
    "    'Si_bct5': {'file': 'Si_bct5.vasp'},\n",
    "    'Si_sh': {'file': 'Si_sh.vasp'},\n",
    "    'Si_cbcc': {'file': 'Si_cbcc.vasp'},\n",
    "    'Si_hcp': {'file': 'Si_hcp.vasp'},\n",
    "}"
   ]
  },
  {
   "cell_type": "code",
   "execution_count": 5,
   "id": "f3bbdde2",
   "metadata": {},
   "outputs": [],
   "source": [
    "import os\n",
    "os.chdir('../..')\n",
    "path_file = os.getcwd()"
   ]
  },
  {
   "cell_type": "code",
   "execution_count": 6,
   "id": "3fc9c438",
   "metadata": {},
   "outputs": [],
   "source": [
    "def get_ions(phase):\n",
    "    inputfile = path_file+'/Results/Structures/'+dictionary[phase]['file']\n",
    "    ions = read(inputfile, format='vasp')\n",
    "    return ions"
   ]
  },
  {
   "cell_type": "code",
   "execution_count": 7,
   "id": "a9d13b35",
   "metadata": {},
   "outputs": [],
   "source": [
    "# Phases = ['Si_Btin', 'Si_fcc', 'Si_bcc', 'Si_cd']#,'Si_dhcp' , 'Si_bct5', 'Si_cbcc', 'Si_sh']#, 'Si_hcp'] #]#\n",
    "Phases = ['Si_Btin', 'Si_fcc', 'Si_bcc', 'Si_cd', 'Si_dhcp', 'Si_hcp', 'Si_bct5', 'Si_sh'] \n",
    "atoms = []\n",
    "for i, phase in enumerate(Phases):\n",
    "    atoms.append(get_ions(phase))"
   ]
  },
  {
   "cell_type": "code",
   "execution_count": 8,
   "id": "9c341c45",
   "metadata": {},
   "outputs": [],
   "source": [
    "QE_options = []\n",
    "for i, phase in enumerate(Phases):\n",
    "    qe_options = {\n",
    "    '&control': {\n",
    "        'calculation': \"'scf'\",\n",
    "        'pseudo_dir': \"'/Users/valeria/Documents/PP/ofpp/EAC/upf/blps/'\",\n",
    "        'outdir': \"'./tmp'\",\n",
    "    },\n",
    "    '&system': {\n",
    "        'ibrav' : 0,\n",
    "        'degauss': 0.005,\n",
    "        'ecutwfc' : 60,\n",
    "        'occupations': \"'smearing'\"\n",
    "    },\n",
    "    '&electrons': {\n",
    "        'conv_thr' : 1e-8,\n",
    "    },\n",
    "    'atomic_species': ['Si  28.08 si.lda.upf'],\n",
    "#     'k_points automatic': ['11 11 11 0 0 0'],\n",
    "    'k_points automatic': ['8 8 8 0 0 0'],\n",
    "}\n",
    "    qe_options = QEInput().update_atoms(atoms[i], qe_options)\n",
    "    QE_options.append(qe_options)"
   ]
  },
  {
   "cell_type": "code",
   "execution_count": 9,
   "id": "3163b1f4",
   "metadata": {
    "scrolled": true
   },
   "outputs": [
    {
     "name": "stdout",
     "output_type": "stream",
     "text": [
      "0\n",
      "1\n",
      "2\n",
      "3\n",
      "4\n",
      "5\n",
      "6\n",
      "7\n"
     ]
    }
   ],
   "source": [
    "hartree = Functional(type='HARTREE')\n",
    "Rho_opt_neutral = []\n",
    "for i, phase in enumerate(np.arange(0,len(Phases))):\n",
    "    print(i)\n",
    "    qe_options = QE_options[i]\n",
    "    driver=Driver(qe_options=qe_options, iterative = False, logfile='tmp.out')\n",
    "    driver.scf()\n",
    "    rho_f = driver.get_density()\n",
    "    rho_opt = driver.data2field(rho_f) \n",
    "    driver.stop()\n",
    "    Rho_opt_neutral.append(rho_opt)\n",
    "\n",
    "    "
   ]
  },
  {
   "cell_type": "markdown",
   "id": "a98d5d7b",
   "metadata": {},
   "source": [
    "### Run a full-SCF or directly read the converged density"
   ]
  },
  {
   "cell_type": "code",
   "execution_count": 10,
   "id": "6293166b",
   "metadata": {
    "scrolled": true
   },
   "outputs": [],
   "source": [
    "# SCF\n",
    "Rho_opt_charged = []\n",
    "# ks_ke_opt = []\n",
    "# ks_te_opt = []\n",
    "for i, phase in enumerate(Phases):\n",
    "    QE_options[i]['&system']['tot_charge']=0.1\n",
    "    driver=Driver(qe_options=QE_options[i], iterative = False, logfile='tmp.out', comm=comm)\n",
    "    driver.scf()\n",
    "    rho_f = driver.get_density()\n",
    "    rho_opt = driver.data2field(rho_f)\n",
    "    ions = Ions.from_ase(atoms[i])\n",
    "    Rho_opt_charged.append(rho_opt)"
   ]
  },
  {
   "cell_type": "markdown",
   "id": "3834ac24",
   "metadata": {},
   "source": [
    "### Fukui"
   ]
  },
  {
   "cell_type": "code",
   "execution_count": 62,
   "id": "7fddc80f",
   "metadata": {},
   "outputs": [],
   "source": [
    "fg ={}\n",
    "for i, phase in enumerate(Phases):\n",
    "    fu = ((Rho_opt_charged[i]-Rho_opt_neutral[i])/0.1)\n",
    "    fg[phase] = fu.fft()"
   ]
  },
  {
   "cell_type": "code",
   "execution_count": 23,
   "id": "446bdf39",
   "metadata": {},
   "outputs": [
    {
     "name": "stdout",
     "output_type": "stream",
     "text": [
      "Si_Btin 0.012869402427717834\n",
      "Si_fcc 0.009901014540688438\n",
      "Si_bcc 0.018353481705804104\n",
      "Si_cd 0.015420205666489653\n",
      "Si_dhcp 0.039983206542379725\n",
      "Si_hcp 0.021900713969771408\n",
      "Si_bct5 0.012912458532208479\n",
      "Si_sh 0.06705876270601224\n"
     ]
    }
   ],
   "source": [
    "M={}\n",
    "Fukui = []\n",
    "for i, phase in enumerate(Phases):\n",
    "    fu = ((Rho_opt_charged[i]-Rho_opt_neutral[i])/0.1)-1\n",
    "    fg = fu.fft()\n",
    "    invg = fg.grid.gg\n",
    "    mask = invg!=0\n",
    "    invg[mask] = 1/invg[mask]\n",
    "    fu_ha = ((fg.imag**2+fg.real**2)*4*np.pi*invg).integral()\n",
    "    print(phase, fu_ha)\n",
    "    M[phase] = fu_ha\n",
    "    Fukui.append(np.abs(fu).integral())\n",
    "    ions = Ions.from_ase(atoms[i])\n",
    "    fu.write('/Users/valeria/Documents/aiWT/Final_version/wt/Results/Fukui/'+str(phase)+'_fukui.xsf', ions=ions)"
   ]
  },
  {
   "cell_type": "code",
   "execution_count": 20,
   "id": "dcbabec2",
   "metadata": {},
   "outputs": [],
   "source": [
    "import pickle \n",
    "\n",
    "with open('/Users/valeria/Documents/aiWT/Final_version/wt/Results/Fukui/Fukui_hartree3.pkl', 'wb') as f:\n",
    "    pickle.dump(M, f)"
   ]
  },
  {
   "cell_type": "code",
   "execution_count": 38,
   "id": "e54c1206",
   "metadata": {},
   "outputs": [],
   "source": [
    "M={}\n",
    "for i, phase in enumerate(Phases):\n",
    "    fu = io.read_density('/Users/valeria/Documents/aiWT/Final_version/wt/Results/Fukui/'+str(phase)+'_fukui.xsf')\n",
    "    fg = fu.fft()\n",
    "    invg = fg.grid.gg\n",
    "    mask = invg!=0\n",
    "    invg[mask] = 1/invg[mask]\n",
    "    fu_ha = ((fg.imag**2+fg.real**2)*4*np.pi*invg).integral()\n",
    "    M[phase]=fu_ha\n",
    "    Fukui.append(np.abs(fu).integral())"
   ]
  }
 ],
 "metadata": {
  "kernelspec": {
   "display_name": "Python 3 (ipykernel)",
   "language": "python",
   "name": "python3"
  },
  "language_info": {
   "codemirror_mode": {
    "name": "ipython",
    "version": 3
   },
   "file_extension": ".py",
   "mimetype": "text/x-python",
   "name": "python",
   "nbconvert_exporter": "python",
   "pygments_lexer": "ipython3",
   "version": "3.11.6"
  }
 },
 "nbformat": 4,
 "nbformat_minor": 5
}
